{
 "cells": [
  {
   "cell_type": "code",
   "execution_count": 1,
   "metadata": {},
   "outputs": [],
   "source": [
    "%matplotlib inline\n",
    "import pandas as pd"
   ]
  },
  {
   "cell_type": "code",
   "execution_count": 2,
   "metadata": {},
   "outputs": [
    {
     "data": {
      "text/plain": [
       "10956"
      ]
     },
     "execution_count": 2,
     "metadata": {},
     "output_type": "execute_result"
    }
   ],
   "source": [
    "osm_routepoints = pd.read_csv(\"../data/osm_routepoints.csv\", dtype=str)\n",
    "for c in osm_routepoints.columns:\n",
    "    new_col = \"osm_\" + c\n",
    "    osm_routepoints.rename(columns={c: new_col}, inplace=True)\n",
    "\n",
    "gtfs_routepoints = pd.read_csv(\"../data/gtfs_routepoints.csv\", dtype=str)\n",
    "for c in gtfs_routepoints.columns:\n",
    "    new_col = \"gtfs_\" + c\n",
    "    gtfs_routepoints.rename(columns={c: new_col}, inplace=True)\n",
    "\n",
    "routepoints = gtfs_routepoints.merge(\n",
    "                    osm_routepoints, how='inner', \n",
    "                    right_on=[\"osm_osm:ref:FR:STIF\", \"osm_osm:ref:FR:STIF:ExternalCode_Line\"],\n",
    "                    left_on=[\"gtfs_ZDEr_ID_REF_A\", \"gtfs_route_id\"]\n",
    "               )\n",
    "len(routepoints)"
   ]
  },
  {
   "cell_type": "code",
   "execution_count": 3,
   "metadata": {},
   "outputs": [
    {
     "data": {
      "text/plain": [
       "641"
      ]
     },
     "execution_count": 3,
     "metadata": {},
     "output_type": "execute_result"
    }
   ],
   "source": [
    "routepoints_strict = routepoints[routepoints[\"osm_name\"] == routepoints[\"gtfs_stop_name\"]]\n",
    "routepoints_strict = routepoints_strict[routepoints_strict[\"osm_destination\"] == routepoints_strict[\"gtfs_dest_name\"]]\n",
    "\n",
    "len(routepoints_strict)"
   ]
  },
  {
   "cell_type": "code",
   "execution_count": 4,
   "metadata": {
    "scrolled": false
   },
   "outputs": [
    {
     "data": {
      "text/html": [
       "<div>\n",
       "<style scoped>\n",
       "    .dataframe tbody tr th:only-of-type {\n",
       "        vertical-align: middle;\n",
       "    }\n",
       "\n",
       "    .dataframe tbody tr th {\n",
       "        vertical-align: top;\n",
       "    }\n",
       "\n",
       "    .dataframe thead th {\n",
       "        text-align: right;\n",
       "    }\n",
       "</style>\n",
       "<table border=\"1\" class=\"dataframe\">\n",
       "  <thead>\n",
       "    <tr style=\"text-align: right;\">\n",
       "      <th></th>\n",
       "      <th>gtfs_stop_id</th>\n",
       "      <th>gtfs_route_id</th>\n",
       "      <th>gtfs_ZDEr_ID_REF_A</th>\n",
       "      <th>gtfs_stop_name</th>\n",
       "      <th>gtfs_stop_lat</th>\n",
       "      <th>gtfs_stop_lon</th>\n",
       "      <th>gtfs_wheelchair_boarding</th>\n",
       "      <th>gtfs_dest_name</th>\n",
       "      <th>gtfs_route_short_name</th>\n",
       "      <th>gtfs_agency_name</th>\n",
       "      <th>osm_stop_id</th>\n",
       "      <th>osm_name</th>\n",
       "      <th>osm_code</th>\n",
       "      <th>osm_destination</th>\n",
       "      <th>osm_network</th>\n",
       "      <th>osm_osm:ref:FR:STIF</th>\n",
       "      <th>osm_osm:ref:FR:STIF:ExternalCode_Line</th>\n",
       "      <th>osm_lat</th>\n",
       "      <th>osm_lon</th>\n",
       "    </tr>\n",
       "  </thead>\n",
       "  <tbody>\n",
       "    <tr>\n",
       "      <th>28</th>\n",
       "      <td>StopPoint:57:630</td>\n",
       "      <td>006006003:3</td>\n",
       "      <td>11341</td>\n",
       "      <td>République</td>\n",
       "      <td>48.696502</td>\n",
       "      <td>2.184788</td>\n",
       "      <td>0</td>\n",
       "      <td>Gare d'Orsay Ville</td>\n",
       "      <td>3</td>\n",
       "      <td>Mobicaps</td>\n",
       "      <td>StopPoint:Node:1617097614</td>\n",
       "      <td>République</td>\n",
       "      <td>3</td>\n",
       "      <td>Gare d'Orsay Ville</td>\n",
       "      <td>Mobicaps</td>\n",
       "      <td>11341</td>\n",
       "      <td>006006003:3</td>\n",
       "      <td>48.6964641</td>\n",
       "      <td>2.1847851</td>\n",
       "    </tr>\n",
       "    <tr>\n",
       "      <th>39</th>\n",
       "      <td>StopPoint:57:630</td>\n",
       "      <td>006006008:8</td>\n",
       "      <td>11341</td>\n",
       "      <td>République</td>\n",
       "      <td>48.696502</td>\n",
       "      <td>2.184788</td>\n",
       "      <td>0</td>\n",
       "      <td>Couturier</td>\n",
       "      <td>8</td>\n",
       "      <td>Mobicaps</td>\n",
       "      <td>StopPoint:Node:1617097614</td>\n",
       "      <td>République</td>\n",
       "      <td>8</td>\n",
       "      <td>Couturier</td>\n",
       "      <td>Mobicaps</td>\n",
       "      <td>11341</td>\n",
       "      <td>006006008:8</td>\n",
       "      <td>48.6964641</td>\n",
       "      <td>2.1847851</td>\n",
       "    </tr>\n",
       "    <tr>\n",
       "      <th>41</th>\n",
       "      <td>StopPoint:57:940</td>\n",
       "      <td>006006008:8</td>\n",
       "      <td>11387</td>\n",
       "      <td>Chartres</td>\n",
       "      <td>48.695569</td>\n",
       "      <td>2.179359</td>\n",
       "      <td>0</td>\n",
       "      <td>Couturier</td>\n",
       "      <td>8</td>\n",
       "      <td>Mobicaps</td>\n",
       "      <td>StopPoint:Node:1935234845</td>\n",
       "      <td>Chartres</td>\n",
       "      <td>8</td>\n",
       "      <td>Couturier</td>\n",
       "      <td>Mobicaps</td>\n",
       "      <td>11387</td>\n",
       "      <td>006006008:8</td>\n",
       "      <td>48.6955388</td>\n",
       "      <td>2.1793487</td>\n",
       "    </tr>\n",
       "    <tr>\n",
       "      <th>414</th>\n",
       "      <td>StopPoint:84:489</td>\n",
       "      <td>025195005:95-05</td>\n",
       "      <td>8665</td>\n",
       "      <td>Rue du Premier Dragon</td>\n",
       "      <td>49.041963</td>\n",
       "      <td>2.09011</td>\n",
       "      <td>NaN</td>\n",
       "      <td>Préfecture / RER</td>\n",
       "      <td>95-05</td>\n",
       "      <td>Busval d'Oise</td>\n",
       "      <td>StopPoint:Node:4622132809</td>\n",
       "      <td>Rue du Premier Dragon</td>\n",
       "      <td>95-05</td>\n",
       "      <td>Préfecture / RER</td>\n",
       "      <td>Busval d'Oise</td>\n",
       "      <td>8665</td>\n",
       "      <td>025195005:95-05</td>\n",
       "      <td>49.0420448</td>\n",
       "      <td>2.0901187</td>\n",
       "    </tr>\n",
       "    <tr>\n",
       "      <th>415</th>\n",
       "      <td>StopPoint:84:489</td>\n",
       "      <td>025195005:95-05</td>\n",
       "      <td>8665</td>\n",
       "      <td>Rue du Premier Dragon</td>\n",
       "      <td>49.041963</td>\n",
       "      <td>2.09011</td>\n",
       "      <td>NaN</td>\n",
       "      <td>Préfecture / RER</td>\n",
       "      <td>95-05</td>\n",
       "      <td>Busval d'Oise</td>\n",
       "      <td>StopPoint:Node:4622132809</td>\n",
       "      <td>Rue du Premier Dragon</td>\n",
       "      <td>95-05</td>\n",
       "      <td>Préfecture / RER</td>\n",
       "      <td>Busval d'Oise</td>\n",
       "      <td>8665</td>\n",
       "      <td>025195005:95-05</td>\n",
       "      <td>49.0420448</td>\n",
       "      <td>2.0901187</td>\n",
       "    </tr>\n",
       "  </tbody>\n",
       "</table>\n",
       "</div>"
      ],
      "text/plain": [
       "         gtfs_stop_id    gtfs_route_id gtfs_ZDEr_ID_REF_A  \\\n",
       "28   StopPoint:57:630      006006003:3              11341   \n",
       "39   StopPoint:57:630      006006008:8              11341   \n",
       "41   StopPoint:57:940      006006008:8              11387   \n",
       "414  StopPoint:84:489  025195005:95-05               8665   \n",
       "415  StopPoint:84:489  025195005:95-05               8665   \n",
       "\n",
       "            gtfs_stop_name gtfs_stop_lat gtfs_stop_lon  \\\n",
       "28              République     48.696502      2.184788   \n",
       "39              République     48.696502      2.184788   \n",
       "41                Chartres     48.695569      2.179359   \n",
       "414  Rue du Premier Dragon     49.041963       2.09011   \n",
       "415  Rue du Premier Dragon     49.041963       2.09011   \n",
       "\n",
       "    gtfs_wheelchair_boarding      gtfs_dest_name gtfs_route_short_name  \\\n",
       "28                         0  Gare d'Orsay Ville                     3   \n",
       "39                         0           Couturier                     8   \n",
       "41                         0           Couturier                     8   \n",
       "414                      NaN    Préfecture / RER                 95-05   \n",
       "415                      NaN    Préfecture / RER                 95-05   \n",
       "\n",
       "    gtfs_agency_name                osm_stop_id               osm_name  \\\n",
       "28          Mobicaps  StopPoint:Node:1617097614             République   \n",
       "39          Mobicaps  StopPoint:Node:1617097614             République   \n",
       "41          Mobicaps  StopPoint:Node:1935234845               Chartres   \n",
       "414    Busval d'Oise  StopPoint:Node:4622132809  Rue du Premier Dragon   \n",
       "415    Busval d'Oise  StopPoint:Node:4622132809  Rue du Premier Dragon   \n",
       "\n",
       "    osm_code     osm_destination    osm_network osm_osm:ref:FR:STIF  \\\n",
       "28         3  Gare d'Orsay Ville       Mobicaps               11341   \n",
       "39         8           Couturier       Mobicaps               11341   \n",
       "41         8           Couturier       Mobicaps               11387   \n",
       "414    95-05    Préfecture / RER  Busval d'Oise                8665   \n",
       "415    95-05    Préfecture / RER  Busval d'Oise                8665   \n",
       "\n",
       "    osm_osm:ref:FR:STIF:ExternalCode_Line     osm_lat    osm_lon  \n",
       "28                            006006003:3  48.6964641  2.1847851  \n",
       "39                            006006008:8  48.6964641  2.1847851  \n",
       "41                            006006008:8  48.6955388  2.1793487  \n",
       "414                       025195005:95-05  49.0420448  2.0901187  \n",
       "415                       025195005:95-05  49.0420448  2.0901187  "
      ]
     },
     "execution_count": 4,
     "metadata": {},
     "output_type": "execute_result"
    }
   ],
   "source": [
    "routepoints_strict.head()"
   ]
  },
  {
   "cell_type": "code",
   "execution_count": 5,
   "metadata": {},
   "outputs": [
    {
     "data": {
      "text/plain": [
       "<matplotlib.axes._subplots.AxesSubplot at 0x7f1111bd4198>"
      ]
     },
     "execution_count": 5,
     "metadata": {},
     "output_type": "execute_result"
    },
    {
     "data": {
      "image/png": "[encoded data removed]",
      "text/plain": [
       "<matplotlib.figure.Figure at 0x7f1112eaa240>"
      ]
     },
     "metadata": {},
     "output_type": "display_data"
    }
   ],
   "source": [
    "routepoints['gtfs_agency_name'].hist()\n",
    "\n",
    "#todo : lire la doc de matplotlib pour faire un graphe où on voit les légendes"
   ]
  },
  {
   "cell_type": "code",
   "execution_count": 6,
   "metadata": {},
   "outputs": [
    {
     "data": {
      "text/plain": [
       "<matplotlib.axes._subplots.AxesSubplot at 0x7f11120f9668>"
      ]
     },
     "execution_count": 6,
     "metadata": {},
     "output_type": "execute_result"
    },
    {
     "data": {
      "image/png": "[encoded data removed]",
      "text/plain": [
       "<matplotlib.figure.Figure at 0x7f11127d74e0>"
      ]
     },
     "metadata": {},
     "output_type": "display_data"
    }
   ],
   "source": [
    "from geopy.distance import vincenty\n",
    "\n",
    "def compute_distance(row):\n",
    "    dist = vincenty(\n",
    "        (float(row['osm_lat']), float(row['osm_lon'])), \n",
    "        (float(row['gtfs_stop_lat']), float(row['gtfs_stop_lon']))\n",
    "    )\n",
    "    return dist.meters\n",
    "   \n",
    "routepoints['distance'] = routepoints.apply(compute_distance, axis=1)\n",
    "\n",
    "routepoints['distance'].hist()"
   ]
  },
  {
   "cell_type": "code",
   "execution_count": 7,
   "metadata": {},
   "outputs": [
    {
     "data": {
      "text/plain": [
       "822"
      ]
     },
     "execution_count": 7,
     "metadata": {},
     "output_type": "execute_result"
    }
   ],
   "source": [
    "len(routepoints[routepoints['distance'] > 50])"
   ]
  },
  {
   "cell_type": "code",
   "execution_count": 8,
   "metadata": {},
   "outputs": [
    {
     "data": {
      "text/plain": [
       "<matplotlib.axes._subplots.AxesSubplot at 0x7f1112062828>"
      ]
     },
     "execution_count": 8,
     "metadata": {},
     "output_type": "execute_result"
    },
    {
     "data": {
      "image/png": "[encoded data removed]",
      "text/plain": [
       "<matplotlib.figure.Figure at 0x7f11120a0d30>"
      ]
     },
     "metadata": {},
     "output_type": "display_data"
    }
   ],
   "source": [
    "import difflib\n",
    "\n",
    "difflib.SequenceMatcher(None, 'Gare de Laplace (Arcueil)', 'Arcueil Laplace RER').ratio() # 0.5\n",
    "difflib.SequenceMatcher(None, 'Sucy-Bonneuil RER', 'Gare de Sucy-Bonneuil').ratio() # 0.68\n",
    "difflib.SequenceMatcher(None, 'Noisy-le-Roi - Centre Commercial le Cèdre', 'Centre commercial').ratio() #0.55\n",
    "difflib.SequenceMatcher(None, 'Cimetière', 'Cimetière de Saint-Maur-des-Fossés').ratio() #0.41\n",
    "difflib.SequenceMatcher(None, 'A. Lebrun', 'Auguste Lebrun').ratio() #0.69\n",
    "difflib.SequenceMatcher(None, 'Saint-Maur Créteil', 'SAINT-MAUR - CRETEIL RER').ratio() #0.23\n",
    "difflib.SequenceMatcher(None, 'Saint-Maur Créteil'.lower(), 'SAINT-MAUR - CRETEIL RER'.lower()).ratio() #0.80\n",
    "\n",
    "def compute_similarity(elem1, elem2):\n",
    "    return difflib.SequenceMatcher(None, elem1.lower(), elem2.lower()).ratio()\n",
    "\n",
    "routepoints['name_confidence'] = routepoints[['osm_name','gtfs_stop_name']].apply(lambda x: compute_similarity(*x), axis=1)\n",
    "routepoints['name_confidence'].hist()"
   ]
  },
  {
   "cell_type": "code",
   "execution_count": 9,
   "metadata": {},
   "outputs": [
    {
     "data": {
      "text/plain": [
       "10591"
      ]
     },
     "execution_count": 9,
     "metadata": {},
     "output_type": "execute_result"
    }
   ],
   "source": [
    "len(routepoints[routepoints['name_confidence'] > 0.6])"
   ]
  },
  {
   "cell_type": "code",
   "execution_count": 10,
   "metadata": {},
   "outputs": [
    {
     "data": {
      "text/plain": [
       "10561"
      ]
     },
     "execution_count": 10,
     "metadata": {},
     "output_type": "execute_result"
    },
    {
     "data": {
      "image/png": "[encoded data removed]",
      "text/plain": [
       "<matplotlib.figure.Figure at 0x7f11120ae6d8>"
      ]
     },
     "metadata": {},
     "output_type": "display_data"
    }
   ],
   "source": [
    "routepoints['line_code_confidence'] = routepoints[['osm_code','gtfs_route_short_name']].apply(lambda x: compute_similarity(*x), axis=1)\n",
    "routepoints['line_code_confidence'].hist()\n",
    "len(routepoints[routepoints['line_code_confidence'] > 0.8])"
   ]
  },
  {
   "cell_type": "code",
   "execution_count": 11,
   "metadata": {},
   "outputs": [
    {
     "data": {
      "text/plain": [
       "<matplotlib.axes._subplots.AxesSubplot at 0x7f111202fa58>"
      ]
     },
     "execution_count": 11,
     "metadata": {},
     "output_type": "execute_result"
    },
    {
     "data": {
      "image/png": "[encoded data removed]",
      "text/plain": [
       "<matplotlib.figure.Figure at 0x7f1111feee10>"
      ]
     },
     "metadata": {},
     "output_type": "display_data"
    }
   ],
   "source": [
    "routepoints['destination_confidence'] = routepoints[['osm_destination','gtfs_dest_name']].apply(lambda x: compute_similarity(*x), axis=1)\n",
    "routepoints['destination_confidence'].hist()"
   ]
  },
  {
   "cell_type": "code",
   "execution_count": 12,
   "metadata": {},
   "outputs": [
    {
     "data": {
      "text/plain": [
       "6246"
      ]
     },
     "execution_count": 12,
     "metadata": {},
     "output_type": "execute_result"
    }
   ],
   "source": [
    "len(routepoints[routepoints['destination_confidence'] > 0.6])\n",
    "#TODO : à vérifier !!"
   ]
  },
  {
   "cell_type": "code",
   "execution_count": 13,
   "metadata": {},
   "outputs": [],
   "source": [
    "#tt = routepoints[routepoints['destination_confidence'] < 0.5]\n",
    "#tt.to_csv('to_investigate_dest.csv')\n",
    "\n",
    "#tt = routepoints[routepoints['name_confidence'] < 0.5]\n",
    "#tt.to_csv('to_investigate_name.csv')\n",
    "\n",
    "#tt = routepoints[routepoints['line_code_confidence'] < 0.5]\n",
    "#tt.to_csv('to_investigate_line.csv')"
   ]
  },
  {
   "cell_type": "code",
   "execution_count": 14,
   "metadata": {},
   "outputs": [
    {
     "data": {
      "text/html": [
       "<div style=\"width:100%;\"><div style=\"position:relative;width:100%;height:0;padding-bottom:60%;\"><iframe src=\"data:text/html;charset=utf-8;base64,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\" style=\"position:absolute;width:100%;height:100%;left:0;top:0;border:none !important;\" allowfullscreen webkitallowfullscreen mozallowfullscreen></iframe></div></div>"
      ],
      "text/plain": [
       "<folium.folium.Map at 0x7f11120564e0>"
      ]
     },
     "execution_count": 14,
     "metadata": {},
     "output_type": "execute_result"
    }
   ],
   "source": [
    "import folium\n",
    "map_ = folium.Map(location=[48.8527, 2.3387])\n",
    "for index, row in routepoints_strict.head().iterrows():\n",
    "    folium.Marker([float(row['gtfs_stop_lat']), float(row['gtfs_stop_lon'])], popup=row['gtfs_stop_name']).add_to(map_)\n",
    "\n",
    "map_"
   ]
  }
 ],
 "metadata": {
  "kernelspec": {
   "display_name": "Python 3",
   "language": "python",
   "name": "python3"
  },
  "language_info": {
   "codemirror_mode": {
    "name": "ipython",
    "version": 3
   },
   "file_extension": ".py",
   "mimetype": "text/x-python",
   "name": "python",
   "nbconvert_exporter": "python",
   "pygments_lexer": "ipython3",
   "version": "3.5.2"
  }
 },
 "nbformat": 4,
 "nbformat_minor": 2
}
