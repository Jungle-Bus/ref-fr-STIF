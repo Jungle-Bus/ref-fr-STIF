{
 "cells": [
  {
   "cell_type": "code",
   "execution_count": 1,
   "metadata": {},
   "outputs": [],
   "source": [
    "%matplotlib inline\n",
    "import pandas as pd"
   ]
  },
  {
   "cell_type": "code",
   "execution_count": 21,
   "metadata": {},
   "outputs": [],
   "source": [
    "osm_routepoints = pd.read_csv(\"../data/osm_routepoints.csv\", dtype=str)\n",
    "for c in osm_routepoints.columns:\n",
    "    new_col = \"osm_\" + c\n",
    "    osm_routepoints.rename(columns={c: new_col}, inplace=True)\n",
    "\n",
    "gtfs_routepoints = pd.read_csv(\"../data/gtfs_routepoints.csv\", dtype=str)\n",
    "for c in gtfs_routepoints.columns:\n",
    "    new_col = \"gtfs_\" + c\n",
    "    gtfs_routepoints.rename(columns={c: new_col}, inplace=True)\n",
    "    \n",
    "gtfs_routepoints.fillna(\"\", inplace=True)\n",
    "gtfs_routepoints = gtfs_routepoints[gtfs_routepoints['gtfs_ZDEr_ID_REF_A'] != '']\n",
    "\n",
    "routepoints = gtfs_routepoints.merge(\n",
    "                    osm_routepoints, how='inner', \n",
    "                    right_on=[\"osm_osm:ref:FR:STIF\", \"osm_osm:ref:FR:STIF:ExternalCode_Line\"],\n",
    "                    left_on=[\"gtfs_ZDEr_ID_REF_A\", \"gtfs_route_id\"]\n",
    "               )\n",
    "routepoints.fillna(\"\", inplace=True)"
   ]
  },
  {
   "cell_type": "code",
   "execution_count": 3,
   "metadata": {},
   "outputs": [
    {
     "data": {
      "text/plain": [
       "734"
      ]
     },
     "execution_count": 3,
     "metadata": {},
     "output_type": "execute_result"
    }
   ],
   "source": [
    "routepoints_strict = routepoints[routepoints[\"osm_name\"] == routepoints[\"gtfs_stop_name\"]]\n",
    "routepoints_strict = routepoints_strict[routepoints_strict[\"osm_destination\"] == routepoints_strict[\"gtfs_dest_name\"]]\n",
    "\n",
    "len(routepoints_strict)"
   ]
  },
  {
   "cell_type": "code",
   "execution_count": 4,
   "metadata": {
    "scrolled": false
   },
   "outputs": [
    {
     "data": {
      "text/html": [
       "<div>\n",
       "<style scoped>\n",
       "    .dataframe tbody tr th:only-of-type {\n",
       "        vertical-align: middle;\n",
       "    }\n",
       "\n",
       "    .dataframe tbody tr th {\n",
       "        vertical-align: top;\n",
       "    }\n",
       "\n",
       "    .dataframe thead th {\n",
       "        text-align: right;\n",
       "    }\n",
       "</style>\n",
       "<table border=\"1\" class=\"dataframe\">\n",
       "  <thead>\n",
       "    <tr style=\"text-align: right;\">\n",
       "      <th></th>\n",
       "      <th>gtfs_stop_id</th>\n",
       "      <th>gtfs_route_id</th>\n",
       "      <th>gtfs_ZDEr_ID_REF_A</th>\n",
       "      <th>gtfs_stop_name</th>\n",
       "      <th>gtfs_stop_lat</th>\n",
       "      <th>gtfs_stop_lon</th>\n",
       "      <th>gtfs_wheelchair_boarding</th>\n",
       "      <th>gtfs_dest_name</th>\n",
       "      <th>gtfs_route_short_name</th>\n",
       "      <th>gtfs_agency_name</th>\n",
       "      <th>...</th>\n",
       "      <th>osm_name</th>\n",
       "      <th>osm_code</th>\n",
       "      <th>osm_destination</th>\n",
       "      <th>osm_network</th>\n",
       "      <th>osm_osm:ref:FR:STIF</th>\n",
       "      <th>osm_osm:ref:FR:STIF:ExternalCode_Line</th>\n",
       "      <th>osm_line_id</th>\n",
       "      <th>osm_route_id</th>\n",
       "      <th>osm_lat</th>\n",
       "      <th>osm_lon</th>\n",
       "    </tr>\n",
       "  </thead>\n",
       "  <tbody>\n",
       "    <tr>\n",
       "      <th>38</th>\n",
       "      <td>StopPoint:57:570</td>\n",
       "      <td>006006003:3</td>\n",
       "      <td>41739</td>\n",
       "      <td>Bourgogne</td>\n",
       "      <td>48.684061</td>\n",
       "      <td>2.177385</td>\n",
       "      <td></td>\n",
       "      <td>Gare d'Orsay Ville</td>\n",
       "      <td>3</td>\n",
       "      <td>Mobicaps</td>\n",
       "      <td>...</td>\n",
       "      <td>Bourgogne</td>\n",
       "      <td>3</td>\n",
       "      <td>Gare d'Orsay Ville</td>\n",
       "      <td>Mobicaps</td>\n",
       "      <td>41739</td>\n",
       "      <td>006006003:3</td>\n",
       "      <td>Line:Relation:7413474</td>\n",
       "      <td>Route:Relation:6115743</td>\n",
       "      <td>48.6840599</td>\n",
       "      <td>2.1774818</td>\n",
       "    </tr>\n",
       "    <tr>\n",
       "      <th>43</th>\n",
       "      <td>StopPoint:57:630</td>\n",
       "      <td>006006003:3</td>\n",
       "      <td>11341</td>\n",
       "      <td>République</td>\n",
       "      <td>48.696502</td>\n",
       "      <td>2.184788</td>\n",
       "      <td>0</td>\n",
       "      <td>Gare d'Orsay Ville</td>\n",
       "      <td>3</td>\n",
       "      <td>Mobicaps</td>\n",
       "      <td>...</td>\n",
       "      <td>République</td>\n",
       "      <td>3</td>\n",
       "      <td>Gare d'Orsay Ville</td>\n",
       "      <td>Mobicaps</td>\n",
       "      <td>11341</td>\n",
       "      <td>006006003:3</td>\n",
       "      <td>Line:Relation:7413474</td>\n",
       "      <td>Route:Relation:6115743</td>\n",
       "      <td>48.6964641</td>\n",
       "      <td>2.1847851</td>\n",
       "    </tr>\n",
       "    <tr>\n",
       "      <th>53</th>\n",
       "      <td>StopPoint:57:1350</td>\n",
       "      <td>006006005:5</td>\n",
       "      <td>11439</td>\n",
       "      <td>Océanie 3</td>\n",
       "      <td>48.684205</td>\n",
       "      <td>2.207046</td>\n",
       "      <td></td>\n",
       "      <td>Gare d'Orsay Ville</td>\n",
       "      <td>5</td>\n",
       "      <td>Mobicaps</td>\n",
       "      <td>...</td>\n",
       "      <td>Océanie 3</td>\n",
       "      <td>5</td>\n",
       "      <td>Gare d'Orsay Ville</td>\n",
       "      <td>Mobicaps</td>\n",
       "      <td>11439</td>\n",
       "      <td>006006005:5</td>\n",
       "      <td>Line:Relation:7918097</td>\n",
       "      <td>Route:Relation:8063118</td>\n",
       "      <td>48.684205299999995</td>\n",
       "      <td>2.2070369999999997</td>\n",
       "    </tr>\n",
       "    <tr>\n",
       "      <th>58</th>\n",
       "      <td>StopPoint:57:390</td>\n",
       "      <td>006006005:5</td>\n",
       "      <td>11314</td>\n",
       "      <td>Bathes</td>\n",
       "      <td>48.685545</td>\n",
       "      <td>2.177991</td>\n",
       "      <td></td>\n",
       "      <td>Océanie 1</td>\n",
       "      <td>5</td>\n",
       "      <td>Mobicaps</td>\n",
       "      <td>...</td>\n",
       "      <td>Bathes</td>\n",
       "      <td>5</td>\n",
       "      <td>Océanie 1</td>\n",
       "      <td>Mobicaps</td>\n",
       "      <td>11314</td>\n",
       "      <td>006006005:5</td>\n",
       "      <td>Line:Relation:7918097</td>\n",
       "      <td>Route:Relation:6116915</td>\n",
       "      <td>48.6855006</td>\n",
       "      <td>2.1779569</td>\n",
       "    </tr>\n",
       "    <tr>\n",
       "      <th>63</th>\n",
       "      <td>StopPoint:57:391</td>\n",
       "      <td>006006005:5</td>\n",
       "      <td>11315</td>\n",
       "      <td>Bathes</td>\n",
       "      <td>48.685366</td>\n",
       "      <td>2.178304</td>\n",
       "      <td></td>\n",
       "      <td>Gare d'Orsay Ville</td>\n",
       "      <td>5</td>\n",
       "      <td>Mobicaps</td>\n",
       "      <td>...</td>\n",
       "      <td>Bathes</td>\n",
       "      <td>5</td>\n",
       "      <td>Gare d'Orsay Ville</td>\n",
       "      <td>Mobicaps</td>\n",
       "      <td>11315</td>\n",
       "      <td>006006005:5</td>\n",
       "      <td>Line:Relation:7918097</td>\n",
       "      <td>Route:Relation:6116859</td>\n",
       "      <td>48.6853702</td>\n",
       "      <td>2.1782882</td>\n",
       "    </tr>\n",
       "  </tbody>\n",
       "</table>\n",
       "<p>5 rows × 21 columns</p>\n",
       "</div>"
      ],
      "text/plain": [
       "         gtfs_stop_id gtfs_route_id gtfs_ZDEr_ID_REF_A gtfs_stop_name  \\\n",
       "38   StopPoint:57:570   006006003:3              41739      Bourgogne   \n",
       "43   StopPoint:57:630   006006003:3              11341     République   \n",
       "53  StopPoint:57:1350   006006005:5              11439      Océanie 3   \n",
       "58   StopPoint:57:390   006006005:5              11314         Bathes   \n",
       "63   StopPoint:57:391   006006005:5              11315         Bathes   \n",
       "\n",
       "   gtfs_stop_lat gtfs_stop_lon gtfs_wheelchair_boarding      gtfs_dest_name  \\\n",
       "38     48.684061      2.177385                           Gare d'Orsay Ville   \n",
       "43     48.696502      2.184788                        0  Gare d'Orsay Ville   \n",
       "53     48.684205      2.207046                           Gare d'Orsay Ville   \n",
       "58     48.685545      2.177991                                    Océanie 1   \n",
       "63     48.685366      2.178304                           Gare d'Orsay Ville   \n",
       "\n",
       "   gtfs_route_short_name gtfs_agency_name         ...            osm_name  \\\n",
       "38                     3         Mobicaps         ...           Bourgogne   \n",
       "43                     3         Mobicaps         ...          République   \n",
       "53                     5         Mobicaps         ...           Océanie 3   \n",
       "58                     5         Mobicaps         ...              Bathes   \n",
       "63                     5         Mobicaps         ...              Bathes   \n",
       "\n",
       "   osm_code     osm_destination osm_network osm_osm:ref:FR:STIF  \\\n",
       "38        3  Gare d'Orsay Ville    Mobicaps               41739   \n",
       "43        3  Gare d'Orsay Ville    Mobicaps               11341   \n",
       "53        5  Gare d'Orsay Ville    Mobicaps               11439   \n",
       "58        5           Océanie 1    Mobicaps               11314   \n",
       "63        5  Gare d'Orsay Ville    Mobicaps               11315   \n",
       "\n",
       "   osm_osm:ref:FR:STIF:ExternalCode_Line            osm_line_id  \\\n",
       "38                           006006003:3  Line:Relation:7413474   \n",
       "43                           006006003:3  Line:Relation:7413474   \n",
       "53                           006006005:5  Line:Relation:7918097   \n",
       "58                           006006005:5  Line:Relation:7918097   \n",
       "63                           006006005:5  Line:Relation:7918097   \n",
       "\n",
       "              osm_route_id             osm_lat             osm_lon  \n",
       "38  Route:Relation:6115743          48.6840599           2.1774818  \n",
       "43  Route:Relation:6115743          48.6964641           2.1847851  \n",
       "53  Route:Relation:8063118  48.684205299999995  2.2070369999999997  \n",
       "58  Route:Relation:6116915          48.6855006           2.1779569  \n",
       "63  Route:Relation:6116859          48.6853702           2.1782882  \n",
       "\n",
       "[5 rows x 21 columns]"
      ]
     },
     "execution_count": 4,
     "metadata": {},
     "output_type": "execute_result"
    }
   ],
   "source": [
    "routepoints_strict.head()"
   ]
  },
  {
   "cell_type": "code",
   "execution_count": 5,
   "metadata": {},
   "outputs": [],
   "source": [
    "#routepoints['gtfs_agency_name'].hist()\n",
    "\n",
    "#todo : lire la doc de matplotlib pour faire un graphe où on voit les légendes"
   ]
  },
  {
   "cell_type": "code",
   "execution_count": 6,
   "metadata": {},
   "outputs": [
    {
     "data": {
      "text/plain": [
       "<matplotlib.axes._subplots.AxesSubplot at 0x7fd7bcd7acc0>"
      ]
     },
     "execution_count": 6,
     "metadata": {},
     "output_type": "execute_result"
    },
    {
     "data": {
      "image/png": "[encoded data removed]",
      "text/plain": [
       "<Figure size 432x288 with 1 Axes>"
      ]
     },
     "metadata": {},
     "output_type": "display_data"
    }
   ],
   "source": [
    "import difflib\n",
    "\n",
    "difflib.SequenceMatcher(None, 'Gare de Laplace (Arcueil)', 'Arcueil Laplace RER').ratio() # 0.5\n",
    "difflib.SequenceMatcher(None, 'Sucy-Bonneuil RER', 'Gare de Sucy-Bonneuil').ratio() # 0.68\n",
    "difflib.SequenceMatcher(None, 'Noisy-le-Roi - Centre Commercial le Cèdre', 'Centre commercial').ratio() #0.55\n",
    "difflib.SequenceMatcher(None, 'Cimetière', 'Cimetière de Saint-Maur-des-Fossés').ratio() #0.41\n",
    "difflib.SequenceMatcher(None, 'A. Lebrun', 'Auguste Lebrun').ratio() #0.69\n",
    "difflib.SequenceMatcher(None, 'Saint-Maur Créteil', 'SAINT-MAUR - CRETEIL RER').ratio() #0.23\n",
    "difflib.SequenceMatcher(None, 'Saint-Maur Créteil'.lower(), 'SAINT-MAUR - CRETEIL RER'.lower()).ratio() #0.80\n",
    "difflib.SequenceMatcher(None, 'A. Lebrun', '').ratio() #0\n",
    "\n",
    "\n",
    "\n",
    "def compute_similarity(elem1, elem2):\n",
    "    return difflib.SequenceMatcher(None, elem1.lower(), elem2.lower()).ratio()\n",
    "\n",
    "routepoints['name_confidence'] = routepoints[['osm_name','gtfs_stop_name']].apply(lambda x: compute_similarity(*x), axis=1)\n",
    "routepoints['name_confidence'].hist()\n",
    "\n"
   ]
  },
  {
   "cell_type": "code",
   "execution_count": 7,
   "metadata": {},
   "outputs": [
    {
     "data": {
      "text/plain": [
       "11948"
      ]
     },
     "execution_count": 7,
     "metadata": {},
     "output_type": "execute_result"
    }
   ],
   "source": [
    "len(routepoints[routepoints['name_confidence'] > 0.6])"
   ]
  },
  {
   "cell_type": "code",
   "execution_count": 8,
   "metadata": {},
   "outputs": [
    {
     "data": {
      "text/plain": [
       "11918"
      ]
     },
     "execution_count": 8,
     "metadata": {},
     "output_type": "execute_result"
    },
    {
     "data": {
      "image/png": "[encoded data removed]",
      "text/plain": [
       "<Figure size 432x288 with 1 Axes>"
      ]
     },
     "metadata": {},
     "output_type": "display_data"
    }
   ],
   "source": [
    "routepoints['line_code_confidence'] = routepoints[['osm_code','gtfs_route_short_name']].apply(lambda x: compute_similarity(*x), axis=1)\n",
    "routepoints['line_code_confidence'].hist()\n",
    "len(routepoints[routepoints['line_code_confidence'] > 0.8])"
   ]
  },
  {
   "cell_type": "code",
   "execution_count": 9,
   "metadata": {},
   "outputs": [
    {
     "data": {
      "text/plain": [
       "<matplotlib.axes._subplots.AxesSubplot at 0x7fd7bc465e80>"
      ]
     },
     "execution_count": 9,
     "metadata": {},
     "output_type": "execute_result"
    },
    {
     "data": {
      "image/png": "[encoded data removed]",
      "text/plain": [
       "<Figure size 432x288 with 1 Axes>"
      ]
     },
     "metadata": {},
     "output_type": "display_data"
    }
   ],
   "source": [
    "routepoints['destination_confidence'] = routepoints[['osm_destination','gtfs_dest_name']].apply(lambda x: compute_similarity(*x), axis=1)\n",
    "routepoints['destination_confidence'].hist()"
   ]
  },
  {
   "cell_type": "code",
   "execution_count": 10,
   "metadata": {},
   "outputs": [
    {
     "data": {
      "text/plain": [
       "6767"
      ]
     },
     "execution_count": 10,
     "metadata": {},
     "output_type": "execute_result"
    }
   ],
   "source": [
    "len(routepoints[routepoints['destination_confidence'] > 0.6])"
   ]
  },
  {
   "cell_type": "code",
   "execution_count": 11,
   "metadata": {},
   "outputs": [],
   "source": [
    "#tt = routepoints[routepoints['destination_confidence'] < 0.5]\n",
    "#tt.to_csv('to_investigate_dest.csv')\n",
    "\n",
    "#tt = routepoints[routepoints['name_confidence'] < 0.5]\n",
    "#tt.to_csv('to_investigate_name.csv')\n",
    "\n",
    "#tt = routepoints[routepoints['line_code_confidence'] < 0.5]\n",
    "#tt.to_csv('to_investigate_line.csv')"
   ]
  },
  {
   "cell_type": "code",
   "execution_count": 12,
   "metadata": {},
   "outputs": [
    {
     "data": {
      "text/plain": [
       "26.56070313783473"
      ]
     },
     "execution_count": 12,
     "metadata": {},
     "output_type": "execute_result"
    }
   ],
   "source": [
    "routepoints = routepoints[routepoints['destination_confidence'] > 0.6]\n",
    "routepoints = routepoints[routepoints['line_code_confidence'] > 0.6]\n",
    "routepoints = routepoints[routepoints['name_confidence'] > 0.6]\n",
    "len(osm_routepoints[osm_routepoints['osm_osm:ref:FR:STIF'] != '']) * 100.0 / len(osm_routepoints) #39 %\n",
    "len(routepoints) * 100.0 / len(osm_routepoints) #quel est le pourcentage de routepoints dans OSM qu'on arrivera à utiliser"
   ]
  },
  {
   "cell_type": "code",
   "execution_count": 13,
   "metadata": {},
   "outputs": [
    {
     "data": {
      "text/plain": [
       "<matplotlib.axes._subplots.AxesSubplot at 0x7fd7bc4be978>"
      ]
     },
     "execution_count": 13,
     "metadata": {},
     "output_type": "execute_result"
    },
    {
     "data": {
      "image/png": "[encoded data removed]",
      "text/plain": [
       "<Figure size 432x288 with 1 Axes>"
      ]
     },
     "metadata": {},
     "output_type": "display_data"
    }
   ],
   "source": [
    "from geopy.distance import vincenty\n",
    "\n",
    "def compute_distance(row):\n",
    "    dist = vincenty(\n",
    "        (float(row['osm_lat']), float(row['osm_lon'])), \n",
    "        (float(row['gtfs_stop_lat']), float(row['gtfs_stop_lon']))\n",
    "    )\n",
    "    return dist.meters\n",
    "   \n",
    "routepoints['distance'] = routepoints.apply(compute_distance, axis=1)\n",
    "\n",
    "routepoints['distance'].hist()"
   ]
  },
  {
   "cell_type": "code",
   "execution_count": 14,
   "metadata": {},
   "outputs": [
    {
     "data": {
      "text/plain": [
       "403"
      ]
     },
     "execution_count": 14,
     "metadata": {},
     "output_type": "execute_result"
    }
   ],
   "source": [
    "len(routepoints[routepoints['distance'] > 50])"
   ]
  },
  {
   "cell_type": "code",
   "execution_count": 25,
   "metadata": {},
   "outputs": [
    {
     "data": {
      "text/html": [
       "<div>\n",
       "<style scoped>\n",
       "    .dataframe tbody tr th:only-of-type {\n",
       "        vertical-align: middle;\n",
       "    }\n",
       "\n",
       "    .dataframe tbody tr th {\n",
       "        vertical-align: top;\n",
       "    }\n",
       "\n",
       "    .dataframe thead th {\n",
       "        text-align: right;\n",
       "    }\n",
       "</style>\n",
       "<table border=\"1\" class=\"dataframe\">\n",
       "  <thead>\n",
       "    <tr style=\"text-align: right;\">\n",
       "      <th></th>\n",
       "      <th>osm_stop_id</th>\n",
       "      <th>osm_name</th>\n",
       "      <th>osm_code</th>\n",
       "      <th>osm_destination</th>\n",
       "      <th>osm_network</th>\n",
       "      <th>osm_osm:ref:FR:STIF</th>\n",
       "      <th>osm_osm:ref:FR:STIF:ExternalCode_Line</th>\n",
       "      <th>osm_line_id</th>\n",
       "      <th>osm_route_id</th>\n",
       "      <th>osm_lat</th>\n",
       "      <th>osm_lon</th>\n",
       "    </tr>\n",
       "  </thead>\n",
       "  <tbody>\n",
       "    <tr>\n",
       "      <th>101</th>\n",
       "      <td>StopPoint:Node:5401678640</td>\n",
       "      <td>Place Jeanne d'Arc</td>\n",
       "      <td>Licorne</td>\n",
       "      <td>Foyer Jean Rostand (Villeneuve-le-Roi)</td>\n",
       "      <td>Athis Cars</td>\n",
       "      <td>9870</td>\n",
       "      <td>002002002:LIC</td>\n",
       "      <td>Line:Relation:6883314</td>\n",
       "      <td>Route:Relation:115222</td>\n",
       "      <td>48.7328185</td>\n",
       "      <td>2.4245859</td>\n",
       "    </tr>\n",
       "    <tr>\n",
       "      <th>150</th>\n",
       "      <td>StopPoint:Node:5401678641</td>\n",
       "      <td>Place Jeanne d'Arc</td>\n",
       "      <td>Centaure</td>\n",
       "      <td>Gare de Villeneuve-le-Roi</td>\n",
       "      <td>Athis Cars</td>\n",
       "      <td>9870</td>\n",
       "      <td>002002002:CEN</td>\n",
       "      <td>Line:Relation:6883352</td>\n",
       "      <td>Route:Relation:122930</td>\n",
       "      <td>48.732663699999996</td>\n",
       "      <td>2.4244719</td>\n",
       "    </tr>\n",
       "    <tr>\n",
       "      <th>17864</th>\n",
       "      <td>StopPoint:Node:5401678641</td>\n",
       "      <td>Place Jeanne d'Arc</td>\n",
       "      <td>Licorne</td>\n",
       "      <td>La Fresnaie (Villeneuve-le-Roi)</td>\n",
       "      <td>Athis Cars</td>\n",
       "      <td>9870</td>\n",
       "      <td>002002002:LIC</td>\n",
       "      <td>Line:Relation:6883314</td>\n",
       "      <td>Route:Relation:6883396</td>\n",
       "      <td>48.732663699999996</td>\n",
       "      <td>2.4244719</td>\n",
       "    </tr>\n",
       "  </tbody>\n",
       "</table>\n",
       "</div>"
      ],
      "text/plain": [
       "                     osm_stop_id            osm_name  osm_code  \\\n",
       "101    StopPoint:Node:5401678640  Place Jeanne d'Arc   Licorne   \n",
       "150    StopPoint:Node:5401678641  Place Jeanne d'Arc  Centaure   \n",
       "17864  StopPoint:Node:5401678641  Place Jeanne d'Arc   Licorne   \n",
       "\n",
       "                              osm_destination osm_network osm_osm:ref:FR:STIF  \\\n",
       "101    Foyer Jean Rostand (Villeneuve-le-Roi)  Athis Cars                9870   \n",
       "150                 Gare de Villeneuve-le-Roi  Athis Cars                9870   \n",
       "17864         La Fresnaie (Villeneuve-le-Roi)  Athis Cars                9870   \n",
       "\n",
       "      osm_osm:ref:FR:STIF:ExternalCode_Line            osm_line_id  \\\n",
       "101                           002002002:LIC  Line:Relation:6883314   \n",
       "150                           002002002:CEN  Line:Relation:6883352   \n",
       "17864                         002002002:LIC  Line:Relation:6883314   \n",
       "\n",
       "                 osm_route_id             osm_lat    osm_lon  \n",
       "101     Route:Relation:115222          48.7328185  2.4245859  \n",
       "150     Route:Relation:122930  48.732663699999996  2.4244719  \n",
       "17864  Route:Relation:6883396  48.732663699999996  2.4244719  "
      ]
     },
     "execution_count": 25,
     "metadata": {},
     "output_type": "execute_result"
    }
   ],
   "source": [
    "osm_routepoints[osm_routepoints['osm_osm:ref:FR:STIF'] == '9870']"
   ]
  },
  {
   "cell_type": "code",
   "execution_count": 24,
   "metadata": {},
   "outputs": [
    {
     "data": {
      "text/html": [
       "<div>\n",
       "<style scoped>\n",
       "    .dataframe tbody tr th:only-of-type {\n",
       "        vertical-align: middle;\n",
       "    }\n",
       "\n",
       "    .dataframe tbody tr th {\n",
       "        vertical-align: top;\n",
       "    }\n",
       "\n",
       "    .dataframe thead th {\n",
       "        text-align: right;\n",
       "    }\n",
       "</style>\n",
       "<table border=\"1\" class=\"dataframe\">\n",
       "  <thead>\n",
       "    <tr style=\"text-align: right;\">\n",
       "      <th></th>\n",
       "      <th>gtfs_stop_id</th>\n",
       "      <th>gtfs_route_id</th>\n",
       "      <th>gtfs_ZDEr_ID_REF_A</th>\n",
       "      <th>gtfs_stop_name</th>\n",
       "      <th>gtfs_stop_lat</th>\n",
       "      <th>gtfs_stop_lon</th>\n",
       "      <th>gtfs_wheelchair_boarding</th>\n",
       "      <th>gtfs_dest_name</th>\n",
       "      <th>gtfs_route_short_name</th>\n",
       "      <th>gtfs_agency_name</th>\n",
       "      <th>...</th>\n",
       "      <th>osm_name</th>\n",
       "      <th>osm_code</th>\n",
       "      <th>osm_destination</th>\n",
       "      <th>osm_network</th>\n",
       "      <th>osm_osm:ref:FR:STIF</th>\n",
       "      <th>osm_osm:ref:FR:STIF:ExternalCode_Line</th>\n",
       "      <th>osm_line_id</th>\n",
       "      <th>osm_route_id</th>\n",
       "      <th>osm_lat</th>\n",
       "      <th>osm_lon</th>\n",
       "    </tr>\n",
       "  </thead>\n",
       "  <tbody>\n",
       "    <tr>\n",
       "      <th>0</th>\n",
       "      <td>StopPoint:4:130</td>\n",
       "      <td>002002002:CEN</td>\n",
       "      <td>9870</td>\n",
       "      <td>Jeanne d'Arc</td>\n",
       "      <td>48.73262</td>\n",
       "      <td>2.424478</td>\n",
       "      <td></td>\n",
       "      <td>Villeneuve-le-roi Gare RER</td>\n",
       "      <td>CEN</td>\n",
       "      <td>Keolis Seine Val-De-Marne</td>\n",
       "      <td>...</td>\n",
       "      <td>Place Jeanne d'Arc</td>\n",
       "      <td>Centaure</td>\n",
       "      <td>Gare de Villeneuve-le-Roi</td>\n",
       "      <td>Athis Cars</td>\n",
       "      <td>9870</td>\n",
       "      <td>002002002:CEN</td>\n",
       "      <td>Line:Relation:6883352</td>\n",
       "      <td>Route:Relation:122930</td>\n",
       "      <td>48.732663699999996</td>\n",
       "      <td>2.4244719</td>\n",
       "    </tr>\n",
       "    <tr>\n",
       "      <th>3</th>\n",
       "      <td>StopPoint:4:130</td>\n",
       "      <td>002002002:LIC</td>\n",
       "      <td>9870</td>\n",
       "      <td>Jeanne d'Arc</td>\n",
       "      <td>48.73262</td>\n",
       "      <td>2.424478</td>\n",
       "      <td></td>\n",
       "      <td>Villeneuve-le-roi Gare RER</td>\n",
       "      <td>LIC</td>\n",
       "      <td>Keolis Seine Val-De-Marne</td>\n",
       "      <td>...</td>\n",
       "      <td>Place Jeanne d'Arc</td>\n",
       "      <td>Licorne</td>\n",
       "      <td>Foyer Jean Rostand (Villeneuve-le-Roi)</td>\n",
       "      <td>Athis Cars</td>\n",
       "      <td>9870</td>\n",
       "      <td>002002002:LIC</td>\n",
       "      <td>Line:Relation:6883314</td>\n",
       "      <td>Route:Relation:115222</td>\n",
       "      <td>48.7328185</td>\n",
       "      <td>2.4245859</td>\n",
       "    </tr>\n",
       "    <tr>\n",
       "      <th>4</th>\n",
       "      <td>StopPoint:4:130</td>\n",
       "      <td>002002002:LIC</td>\n",
       "      <td>9870</td>\n",
       "      <td>Jeanne d'Arc</td>\n",
       "      <td>48.73262</td>\n",
       "      <td>2.424478</td>\n",
       "      <td></td>\n",
       "      <td>Villeneuve-le-roi Gare RER</td>\n",
       "      <td>LIC</td>\n",
       "      <td>Keolis Seine Val-De-Marne</td>\n",
       "      <td>...</td>\n",
       "      <td>Place Jeanne d'Arc</td>\n",
       "      <td>Licorne</td>\n",
       "      <td>La Fresnaie (Villeneuve-le-Roi)</td>\n",
       "      <td>Athis Cars</td>\n",
       "      <td>9870</td>\n",
       "      <td>002002002:LIC</td>\n",
       "      <td>Line:Relation:6883314</td>\n",
       "      <td>Route:Relation:6883396</td>\n",
       "      <td>48.732663699999996</td>\n",
       "      <td>2.4244719</td>\n",
       "    </tr>\n",
       "    <tr>\n",
       "      <th>5</th>\n",
       "      <td>StopPoint:4:130</td>\n",
       "      <td>002002002:LIC</td>\n",
       "      <td>9870</td>\n",
       "      <td>Jeanne d'Arc</td>\n",
       "      <td>48.73262</td>\n",
       "      <td>2.424478</td>\n",
       "      <td></td>\n",
       "      <td>Foyer Jean Rostand</td>\n",
       "      <td>LIC</td>\n",
       "      <td>Keolis Seine Val-De-Marne</td>\n",
       "      <td>...</td>\n",
       "      <td>Place Jeanne d'Arc</td>\n",
       "      <td>Licorne</td>\n",
       "      <td>Foyer Jean Rostand (Villeneuve-le-Roi)</td>\n",
       "      <td>Athis Cars</td>\n",
       "      <td>9870</td>\n",
       "      <td>002002002:LIC</td>\n",
       "      <td>Line:Relation:6883314</td>\n",
       "      <td>Route:Relation:115222</td>\n",
       "      <td>48.7328185</td>\n",
       "      <td>2.4245859</td>\n",
       "    </tr>\n",
       "    <tr>\n",
       "      <th>6</th>\n",
       "      <td>StopPoint:4:130</td>\n",
       "      <td>002002002:LIC</td>\n",
       "      <td>9870</td>\n",
       "      <td>Jeanne d'Arc</td>\n",
       "      <td>48.73262</td>\n",
       "      <td>2.424478</td>\n",
       "      <td></td>\n",
       "      <td>Foyer Jean Rostand</td>\n",
       "      <td>LIC</td>\n",
       "      <td>Keolis Seine Val-De-Marne</td>\n",
       "      <td>...</td>\n",
       "      <td>Place Jeanne d'Arc</td>\n",
       "      <td>Licorne</td>\n",
       "      <td>La Fresnaie (Villeneuve-le-Roi)</td>\n",
       "      <td>Athis Cars</td>\n",
       "      <td>9870</td>\n",
       "      <td>002002002:LIC</td>\n",
       "      <td>Line:Relation:6883314</td>\n",
       "      <td>Route:Relation:6883396</td>\n",
       "      <td>48.732663699999996</td>\n",
       "      <td>2.4244719</td>\n",
       "    </tr>\n",
       "  </tbody>\n",
       "</table>\n",
       "<p>5 rows × 21 columns</p>\n",
       "</div>"
      ],
      "text/plain": [
       "      gtfs_stop_id  gtfs_route_id gtfs_ZDEr_ID_REF_A gtfs_stop_name  \\\n",
       "0  StopPoint:4:130  002002002:CEN               9870   Jeanne d'Arc   \n",
       "3  StopPoint:4:130  002002002:LIC               9870   Jeanne d'Arc   \n",
       "4  StopPoint:4:130  002002002:LIC               9870   Jeanne d'Arc   \n",
       "5  StopPoint:4:130  002002002:LIC               9870   Jeanne d'Arc   \n",
       "6  StopPoint:4:130  002002002:LIC               9870   Jeanne d'Arc   \n",
       "\n",
       "  gtfs_stop_lat gtfs_stop_lon gtfs_wheelchair_boarding  \\\n",
       "0      48.73262      2.424478                            \n",
       "3      48.73262      2.424478                            \n",
       "4      48.73262      2.424478                            \n",
       "5      48.73262      2.424478                            \n",
       "6      48.73262      2.424478                            \n",
       "\n",
       "               gtfs_dest_name gtfs_route_short_name  \\\n",
       "0  Villeneuve-le-roi Gare RER                   CEN   \n",
       "3  Villeneuve-le-roi Gare RER                   LIC   \n",
       "4  Villeneuve-le-roi Gare RER                   LIC   \n",
       "5          Foyer Jean Rostand                   LIC   \n",
       "6          Foyer Jean Rostand                   LIC   \n",
       "\n",
       "            gtfs_agency_name    ...                osm_name  osm_code  \\\n",
       "0  Keolis Seine Val-De-Marne    ...      Place Jeanne d'Arc  Centaure   \n",
       "3  Keolis Seine Val-De-Marne    ...      Place Jeanne d'Arc   Licorne   \n",
       "4  Keolis Seine Val-De-Marne    ...      Place Jeanne d'Arc   Licorne   \n",
       "5  Keolis Seine Val-De-Marne    ...      Place Jeanne d'Arc   Licorne   \n",
       "6  Keolis Seine Val-De-Marne    ...      Place Jeanne d'Arc   Licorne   \n",
       "\n",
       "                          osm_destination osm_network osm_osm:ref:FR:STIF  \\\n",
       "0               Gare de Villeneuve-le-Roi  Athis Cars                9870   \n",
       "3  Foyer Jean Rostand (Villeneuve-le-Roi)  Athis Cars                9870   \n",
       "4         La Fresnaie (Villeneuve-le-Roi)  Athis Cars                9870   \n",
       "5  Foyer Jean Rostand (Villeneuve-le-Roi)  Athis Cars                9870   \n",
       "6         La Fresnaie (Villeneuve-le-Roi)  Athis Cars                9870   \n",
       "\n",
       "  osm_osm:ref:FR:STIF:ExternalCode_Line            osm_line_id  \\\n",
       "0                         002002002:CEN  Line:Relation:6883352   \n",
       "3                         002002002:LIC  Line:Relation:6883314   \n",
       "4                         002002002:LIC  Line:Relation:6883314   \n",
       "5                         002002002:LIC  Line:Relation:6883314   \n",
       "6                         002002002:LIC  Line:Relation:6883314   \n",
       "\n",
       "             osm_route_id             osm_lat    osm_lon  \n",
       "0   Route:Relation:122930  48.732663699999996  2.4244719  \n",
       "3   Route:Relation:115222          48.7328185  2.4245859  \n",
       "4  Route:Relation:6883396  48.732663699999996  2.4244719  \n",
       "5   Route:Relation:115222          48.7328185  2.4245859  \n",
       "6  Route:Relation:6883396  48.732663699999996  2.4244719  \n",
       "\n",
       "[5 rows x 21 columns]"
      ]
     },
     "execution_count": 24,
     "metadata": {},
     "output_type": "execute_result"
    }
   ],
   "source": [
    "routepoints[routepoints['gtfs_ZDEr_ID_REF_A'] == '9870']"
   ]
  },
  {
   "cell_type": "code",
   "execution_count": null,
   "metadata": {},
   "outputs": [],
   "source": [
    "# on constate bien que le merge ne prend pas que le premier : ici il y a deux occurrences dans OSM avec les deux mêmes codes, on a donc 4 lignes dans le fichier fusionné"
   ]
  }
 ],
 "metadata": {
  "kernelspec": {
   "display_name": "Python 3",
   "language": "python",
   "name": "python3"
  },
  "language_info": {
   "codemirror_mode": {
    "name": "ipython",
    "version": 3
   },
   "file_extension": ".py",
   "mimetype": "text/x-python",
   "name": "python",
   "nbconvert_exporter": "python",
   "pygments_lexer": "ipython3",
   "version": "3.5.2"
  }
 },
 "nbformat": 4,
 "nbformat_minor": 2
}
