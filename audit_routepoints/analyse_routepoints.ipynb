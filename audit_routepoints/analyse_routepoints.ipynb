{
 "cells": [
  {
   "cell_type": "code",
   "execution_count": 1,
   "metadata": {},
   "outputs": [],
   "source": [
    "%matplotlib inline\n",
    "import pandas as pd"
   ]
  },
  {
   "cell_type": "code",
   "execution_count": 2,
   "metadata": {},
   "outputs": [
    {
     "data": {
      "text/plain": [
       "13019"
      ]
     },
     "execution_count": 2,
     "metadata": {},
     "output_type": "execute_result"
    }
   ],
   "source": [
    "osm_routepoints = pd.read_csv(\"../data/osm_routepoints.csv\", dtype=str)\n",
    "for c in osm_routepoints.columns:\n",
    "    new_col = \"osm_\" + c\n",
    "    osm_routepoints.rename(columns={c: new_col}, inplace=True)\n",
    "\n",
    "gtfs_routepoints = pd.read_csv(\"../data/gtfs_routepoints.csv\", dtype=str)\n",
    "for c in gtfs_routepoints.columns:\n",
    "    new_col = \"gtfs_\" + c\n",
    "    gtfs_routepoints.rename(columns={c: new_col}, inplace=True)\n",
    "\n",
    "routepoints = gtfs_routepoints.merge(\n",
    "                    osm_routepoints, how='inner', \n",
    "                    right_on=[\"osm_osm:ref:FR:STIF\", \"osm_osm:ref:FR:STIF:ExternalCode_Line\"],\n",
    "                    left_on=[\"gtfs_ZDEr_ID_REF_A\", \"gtfs_route_id\"]\n",
    "               )\n",
    "len(routepoints)"
   ]
  },
  {
   "cell_type": "code",
   "execution_count": 3,
   "metadata": {},
   "outputs": [
    {
     "data": {
      "text/plain": [
       "97"
      ]
     },
     "execution_count": 3,
     "metadata": {},
     "output_type": "execute_result"
    }
   ],
   "source": [
    "routepoints_strict = routepoints[routepoints[\"osm_name\"] == routepoints[\"gtfs_stop_name\"]]\n",
    "routepoints_strict = routepoints_strict[routepoints_strict[\"osm_destination\"] == routepoints_strict[\"gtfs_dest_name\"]]\n",
    "\n",
    "len(routepoints_strict)"
   ]
  },
  {
   "cell_type": "code",
   "execution_count": 4,
   "metadata": {
    "scrolled": false
   },
   "outputs": [
    {
     "data": {
      "text/html": [
       "<div>\n",
       "<style scoped>\n",
       "    .dataframe tbody tr th:only-of-type {\n",
       "        vertical-align: middle;\n",
       "    }\n",
       "\n",
       "    .dataframe tbody tr th {\n",
       "        vertical-align: top;\n",
       "    }\n",
       "\n",
       "    .dataframe thead th {\n",
       "        text-align: right;\n",
       "    }\n",
       "</style>\n",
       "<table border=\"1\" class=\"dataframe\">\n",
       "  <thead>\n",
       "    <tr style=\"text-align: right;\">\n",
       "      <th></th>\n",
       "      <th>gtfs_stop_id</th>\n",
       "      <th>gtfs_route_id</th>\n",
       "      <th>gtfs_ZDEr_ID_REF_A</th>\n",
       "      <th>gtfs_stop_name</th>\n",
       "      <th>gtfs_stop_lat</th>\n",
       "      <th>gtfs_stop_lon</th>\n",
       "      <th>gtfs_wheelchair_boarding</th>\n",
       "      <th>gtfs_dest_name</th>\n",
       "      <th>gtfs_route_short_name</th>\n",
       "      <th>gtfs_agency_name</th>\n",
       "      <th>osm_stop_id</th>\n",
       "      <th>osm_name</th>\n",
       "      <th>osm_code</th>\n",
       "      <th>osm_destination</th>\n",
       "      <th>osm_network</th>\n",
       "      <th>osm_osm:ref:FR:STIF</th>\n",
       "      <th>osm_osm:ref:FR:STIF:ExternalCode_Line</th>\n",
       "      <th>osm_lat</th>\n",
       "      <th>osm_lon</th>\n",
       "    </tr>\n",
       "  </thead>\n",
       "  <tbody>\n",
       "    <tr>\n",
       "      <th>685</th>\n",
       "      <td>StopPoint:35:1146</td>\n",
       "      <td>040240004:4</td>\n",
       "      <td>21408</td>\n",
       "      <td>Les Monrois</td>\n",
       "      <td>48.774157</td>\n",
       "      <td>2.52938</td>\n",
       "      <td>NaN</td>\n",
       "      <td>Gare RER Sucy-Bonneuil</td>\n",
       "      <td>4</td>\n",
       "      <td>SITUS</td>\n",
       "      <td>StopPoint:Node:3140222572</td>\n",
       "      <td>Les Monrois</td>\n",
       "      <td>4</td>\n",
       "      <td>Gare RER Sucy-Bonneuil</td>\n",
       "      <td>SITUS</td>\n",
       "      <td>21408</td>\n",
       "      <td>040240004:4</td>\n",
       "      <td>48.7740601</td>\n",
       "      <td>2.5293818</td>\n",
       "    </tr>\n",
       "    <tr>\n",
       "      <th>691</th>\n",
       "      <td>StopPoint:35:1148</td>\n",
       "      <td>040240004:4</td>\n",
       "      <td>21410</td>\n",
       "      <td>Moulin de Touillon</td>\n",
       "      <td>48.776507</td>\n",
       "      <td>2.526533</td>\n",
       "      <td>NaN</td>\n",
       "      <td>Gare RER Sucy-Bonneuil</td>\n",
       "      <td>4</td>\n",
       "      <td>SITUS</td>\n",
       "      <td>StopPoint:Node:3140222569</td>\n",
       "      <td>Moulin de Touillon</td>\n",
       "      <td>4</td>\n",
       "      <td>Gare RER Sucy-Bonneuil</td>\n",
       "      <td>SITUS</td>\n",
       "      <td>21410</td>\n",
       "      <td>040240004:4</td>\n",
       "      <td>48.7765115</td>\n",
       "      <td>2.526554</td>\n",
       "    </tr>\n",
       "    <tr>\n",
       "      <th>2448</th>\n",
       "      <td>StopPoint:40:100</td>\n",
       "      <td>059440038:38</td>\n",
       "      <td>8938</td>\n",
       "      <td>Les Grouettes</td>\n",
       "      <td>49.031674</td>\n",
       "      <td>2.069058</td>\n",
       "      <td>NaN</td>\n",
       "      <td>Préfecture RER</td>\n",
       "      <td>38</td>\n",
       "      <td>STIVO</td>\n",
       "      <td>StopPoint:Node:1866033587</td>\n",
       "      <td>Les Grouettes</td>\n",
       "      <td>38</td>\n",
       "      <td>Préfecture RER</td>\n",
       "      <td>STIVO</td>\n",
       "      <td>8938</td>\n",
       "      <td>059440038:38</td>\n",
       "      <td>49.031708699999996</td>\n",
       "      <td>2.0689295</td>\n",
       "    </tr>\n",
       "    <tr>\n",
       "      <th>2449</th>\n",
       "      <td>StopPoint:40:100</td>\n",
       "      <td>059440038:38</td>\n",
       "      <td>8938</td>\n",
       "      <td>Les Grouettes</td>\n",
       "      <td>49.031674</td>\n",
       "      <td>2.069058</td>\n",
       "      <td>NaN</td>\n",
       "      <td>Préfecture RER</td>\n",
       "      <td>38</td>\n",
       "      <td>STIVO</td>\n",
       "      <td>StopPoint:Node:1866033587</td>\n",
       "      <td>Les Grouettes</td>\n",
       "      <td>38</td>\n",
       "      <td>Préfecture RER</td>\n",
       "      <td>STIVO</td>\n",
       "      <td>8938</td>\n",
       "      <td>059440038:38</td>\n",
       "      <td>49.031708699999996</td>\n",
       "      <td>2.0689295</td>\n",
       "    </tr>\n",
       "    <tr>\n",
       "      <th>2456</th>\n",
       "      <td>StopPoint:40:13</td>\n",
       "      <td>059440038:38</td>\n",
       "      <td>10137</td>\n",
       "      <td>Conseil Départemental</td>\n",
       "      <td>49.03192</td>\n",
       "      <td>2.075043</td>\n",
       "      <td>1</td>\n",
       "      <td>Préfecture RER</td>\n",
       "      <td>38</td>\n",
       "      <td>STIVO</td>\n",
       "      <td>StopPoint:Node:617854915</td>\n",
       "      <td>Conseil Départemental</td>\n",
       "      <td>38</td>\n",
       "      <td>Préfecture RER</td>\n",
       "      <td>STIVO</td>\n",
       "      <td>10137</td>\n",
       "      <td>059440038:38</td>\n",
       "      <td>49.0318974</td>\n",
       "      <td>2.0750553</td>\n",
       "    </tr>\n",
       "  </tbody>\n",
       "</table>\n",
       "</div>"
      ],
      "text/plain": [
       "           gtfs_stop_id gtfs_route_id gtfs_ZDEr_ID_REF_A  \\\n",
       "685   StopPoint:35:1146   040240004:4              21408   \n",
       "691   StopPoint:35:1148   040240004:4              21410   \n",
       "2448   StopPoint:40:100  059440038:38               8938   \n",
       "2449   StopPoint:40:100  059440038:38               8938   \n",
       "2456    StopPoint:40:13  059440038:38              10137   \n",
       "\n",
       "             gtfs_stop_name gtfs_stop_lat gtfs_stop_lon  \\\n",
       "685             Les Monrois     48.774157       2.52938   \n",
       "691      Moulin de Touillon     48.776507      2.526533   \n",
       "2448          Les Grouettes     49.031674      2.069058   \n",
       "2449          Les Grouettes     49.031674      2.069058   \n",
       "2456  Conseil Départemental      49.03192      2.075043   \n",
       "\n",
       "     gtfs_wheelchair_boarding          gtfs_dest_name gtfs_route_short_name  \\\n",
       "685                       NaN  Gare RER Sucy-Bonneuil                     4   \n",
       "691                       NaN  Gare RER Sucy-Bonneuil                     4   \n",
       "2448                      NaN          Préfecture RER                    38   \n",
       "2449                      NaN          Préfecture RER                    38   \n",
       "2456                        1          Préfecture RER                    38   \n",
       "\n",
       "     gtfs_agency_name                osm_stop_id               osm_name  \\\n",
       "685             SITUS  StopPoint:Node:3140222572            Les Monrois   \n",
       "691             SITUS  StopPoint:Node:3140222569     Moulin de Touillon   \n",
       "2448            STIVO  StopPoint:Node:1866033587          Les Grouettes   \n",
       "2449            STIVO  StopPoint:Node:1866033587          Les Grouettes   \n",
       "2456            STIVO   StopPoint:Node:617854915  Conseil Départemental   \n",
       "\n",
       "     osm_code         osm_destination osm_network osm_osm:ref:FR:STIF  \\\n",
       "685         4  Gare RER Sucy-Bonneuil       SITUS               21408   \n",
       "691         4  Gare RER Sucy-Bonneuil       SITUS               21410   \n",
       "2448       38          Préfecture RER       STIVO                8938   \n",
       "2449       38          Préfecture RER       STIVO                8938   \n",
       "2456       38          Préfecture RER       STIVO               10137   \n",
       "\n",
       "     osm_osm:ref:FR:STIF:ExternalCode_Line             osm_lat    osm_lon  \n",
       "685                            040240004:4          48.7740601  2.5293818  \n",
       "691                            040240004:4          48.7765115   2.526554  \n",
       "2448                          059440038:38  49.031708699999996  2.0689295  \n",
       "2449                          059440038:38  49.031708699999996  2.0689295  \n",
       "2456                          059440038:38          49.0318974  2.0750553  "
      ]
     },
     "execution_count": 4,
     "metadata": {},
     "output_type": "execute_result"
    }
   ],
   "source": [
    "routepoints_strict.head()"
   ]
  },
  {
   "cell_type": "code",
   "execution_count": 5,
   "metadata": {},
   "outputs": [
    {
     "data": {
      "text/plain": [
       "<matplotlib.axes._subplots.AxesSubplot at 0x7fdad0bcb748>"
      ]
     },
     "execution_count": 5,
     "metadata": {},
     "output_type": "execute_result"
    },
    {
     "data": {
      "image/png": "[encoded data removed]",
      "text/plain": [
       "<matplotlib.figure.Figure at 0x7fdad1ec3320>"
      ]
     },
     "metadata": {},
     "output_type": "display_data"
    }
   ],
   "source": [
    "routepoints['gtfs_agency_name'].hist()\n",
    "\n",
    "#todo : lire la doc de matplotlib pour faire un graphe où on voit les légendes"
   ]
  },
  {
   "cell_type": "code",
   "execution_count": 6,
   "metadata": {},
   "outputs": [
    {
     "data": {
      "text/plain": [
       "<matplotlib.axes._subplots.AxesSubplot at 0x7fdad1178320>"
      ]
     },
     "execution_count": 6,
     "metadata": {},
     "output_type": "execute_result"
    },
    {
     "data": {
      "image/png": "[encoded data removed]",
      "text/plain": [
       "<matplotlib.figure.Figure at 0x7fdad17d0d68>"
      ]
     },
     "metadata": {},
     "output_type": "display_data"
    }
   ],
   "source": [
    "from geopy.distance import vincenty\n",
    "\n",
    "def compute_distance(row):\n",
    "    dist = vincenty(\n",
    "        (float(row['osm_lat']), float(row['osm_lon'])), \n",
    "        (float(row['gtfs_stop_lat']), float(row['gtfs_stop_lon']))\n",
    "    )\n",
    "    return dist.meters\n",
    "   \n",
    "routepoints['distance'] = routepoints.apply(compute_distance, axis=1)\n",
    "\n",
    "routepoints['distance'].hist()"
   ]
  },
  {
   "cell_type": "code",
   "execution_count": 7,
   "metadata": {},
   "outputs": [
    {
     "data": {
      "text/plain": [
       "1025"
      ]
     },
     "execution_count": 7,
     "metadata": {},
     "output_type": "execute_result"
    }
   ],
   "source": [
    "len(routepoints[routepoints['distance'] > 50])"
   ]
  },
  {
   "cell_type": "code",
   "execution_count": 8,
   "metadata": {},
   "outputs": [
    {
     "data": {
      "text/plain": [
       "<matplotlib.axes._subplots.AxesSubplot at 0x7fdad10d1390>"
      ]
     },
     "execution_count": 8,
     "metadata": {},
     "output_type": "execute_result"
    },
    {
     "data": {
      "image/png": "[encoded data removed]",
      "text/plain": [
       "<matplotlib.figure.Figure at 0x7fdad10d6940>"
      ]
     },
     "metadata": {},
     "output_type": "display_data"
    }
   ],
   "source": [
    "import difflib\n",
    "\n",
    "difflib.SequenceMatcher(None, 'Gare de Laplace (Arcueil)', 'Arcueil Laplace RER').ratio() # 0.5\n",
    "difflib.SequenceMatcher(None, 'Sucy-Bonneuil RER', 'Gare de Sucy-Bonneuil').ratio() # 0.68\n",
    "difflib.SequenceMatcher(None, 'Noisy-le-Roi - Centre Commercial le Cèdre', 'Centre commercial').ratio() #0.55\n",
    "difflib.SequenceMatcher(None, 'Cimetière', 'Cimetière de Saint-Maur-des-Fossés').ratio() #0.41\n",
    "difflib.SequenceMatcher(None, 'A. Lebrun', 'Auguste Lebrun').ratio() #0.69\n",
    "difflib.SequenceMatcher(None, 'Saint-Maur Créteil', 'SAINT-MAUR - CRETEIL RER').ratio() #0.23\n",
    "difflib.SequenceMatcher(None, 'Saint-Maur Créteil'.lower(), 'SAINT-MAUR - CRETEIL RER'.lower()).ratio() #0.80\n",
    "\n",
    "def compute_similarity(elem1, elem2):\n",
    "    return difflib.SequenceMatcher(None, elem1.lower(), elem2.lower()).ratio()\n",
    "\n",
    "routepoints['name_confidence'] = routepoints[['osm_name','gtfs_stop_name']].apply(lambda x: compute_similarity(*x), axis=1)\n",
    "routepoints['name_confidence'].hist()"
   ]
  },
  {
   "cell_type": "code",
   "execution_count": 9,
   "metadata": {},
   "outputs": [
    {
     "data": {
      "text/plain": [
       "12559"
      ]
     },
     "execution_count": 9,
     "metadata": {},
     "output_type": "execute_result"
    }
   ],
   "source": [
    "len(routepoints[routepoints['name_confidence'] > 0.6])"
   ]
  },
  {
   "cell_type": "code",
   "execution_count": 10,
   "metadata": {},
   "outputs": [
    {
     "data": {
      "text/plain": [
       "12547"
      ]
     },
     "execution_count": 10,
     "metadata": {},
     "output_type": "execute_result"
    },
    {
     "data": {
      "image/png": "[encoded data removed]",
      "text/plain": [
       "<matplotlib.figure.Figure at 0x7fdad1133908>"
      ]
     },
     "metadata": {},
     "output_type": "display_data"
    }
   ],
   "source": [
    "routepoints['line_code_confidence'] = routepoints[['osm_code','gtfs_route_short_name']].apply(lambda x: compute_similarity(*x), axis=1)\n",
    "routepoints['line_code_confidence'].hist()\n",
    "len(routepoints[routepoints['line_code_confidence'] > 0.8])"
   ]
  },
  {
   "cell_type": "code",
   "execution_count": 11,
   "metadata": {},
   "outputs": [
    {
     "data": {
      "text/plain": [
       "<matplotlib.axes._subplots.AxesSubplot at 0x7fdad10986a0>"
      ]
     },
     "execution_count": 11,
     "metadata": {},
     "output_type": "execute_result"
    },
    {
     "data": {
      "image/png": "[encoded data removed]",
      "text/plain": [
       "<matplotlib.figure.Figure at 0x7fdad1070390>"
      ]
     },
     "metadata": {},
     "output_type": "display_data"
    }
   ],
   "source": [
    "routepoints['destination_confidence'] = routepoints[['osm_destination','gtfs_dest_name']].apply(lambda x: compute_similarity(*x), axis=1)\n",
    "routepoints['destination_confidence'].hist()"
   ]
  },
  {
   "cell_type": "code",
   "execution_count": 12,
   "metadata": {},
   "outputs": [
    {
     "data": {
      "text/plain": [
       "609"
      ]
     },
     "execution_count": 12,
     "metadata": {},
     "output_type": "execute_result"
    }
   ],
   "source": [
    "len(routepoints[routepoints['destination_confidence'] > 0.6])\n",
    "#TODO : à vérifier !!"
   ]
  },
  {
   "cell_type": "code",
   "execution_count": 13,
   "metadata": {},
   "outputs": [],
   "source": [
    "#tt = routepoints[routepoints['destination_confidence'] < 0.5]\n",
    "#tt.to_csv('to_investigate_dest.csv')\n",
    "\n",
    "#tt = routepoints[routepoints['name_confidence'] < 0.5]\n",
    "#tt.to_csv('to_investigate_name.csv')\n",
    "\n",
    "#tt = routepoints[routepoints['line_code_confidence'] < 0.5]\n",
    "#tt.to_csv('to_investigate_line.csv')"
   ]
  },
  {
   "cell_type": "code",
   "execution_count": 14,
   "metadata": {},
   "outputs": [
    {
     "data": {
      "text/html": [
       "<div style=\"width:100%;\"><div style=\"position:relative;width:100%;height:0;padding-bottom:60%;\"><iframe src=\"data:text/html;charset=utf-8;base64,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\" style=\"position:absolute;width:100%;height:100%;left:0;top:0;border:none !important;\" allowfullscreen webkitallowfullscreen mozallowfullscreen></iframe></div></div>"
      ],
      "text/plain": [
       "<folium.folium.Map at 0x7fdad1051b70>"
      ]
     },
     "execution_count": 14,
     "metadata": {},
     "output_type": "execute_result"
    }
   ],
   "source": [
    "import folium\n",
    "map_ = folium.Map(location=[48.8527, 2.3387])\n",
    "for index, row in routepoints_strict.head().iterrows():\n",
    "    folium.Marker([float(row['gtfs_stop_lat']), float(row['gtfs_stop_lon'])], popup=row['gtfs_stop_name']).add_to(map_)\n",
    "\n",
    "map_"
   ]
  }
 ],
 "metadata": {
  "kernelspec": {
   "display_name": "Python 3",
   "language": "python",
   "name": "python3"
  },
  "language_info": {
   "codemirror_mode": {
    "name": "ipython",
    "version": 3
   },
   "file_extension": ".py",
   "mimetype": "text/x-python",
   "name": "python",
   "nbconvert_exporter": "python",
   "pygments_lexer": "ipython3",
   "version": "3.5.2"
  }
 },
 "nbformat": 4,
 "nbformat_minor": 2
}
