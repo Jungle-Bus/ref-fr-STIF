{
 "cells": [
  {
   "cell_type": "code",
   "execution_count": 1,
   "metadata": {},
   "outputs": [],
   "source": [
    "%matplotlib inline\n",
    "import pandas as pd"
   ]
  },
  {
   "cell_type": "code",
   "execution_count": 2,
   "metadata": {},
   "outputs": [
    {
     "data": {
      "text/plain": [
       "20604"
      ]
     },
     "execution_count": 2,
     "metadata": {},
     "output_type": "execute_result"
    }
   ],
   "source": [
    "osm_routepoints = pd.read_csv(\"../data/osm_routepoints.csv\", dtype=str)\n",
    "for c in osm_routepoints.columns:\n",
    "    new_col = \"osm_\" + c\n",
    "    osm_routepoints.rename(columns={c: new_col}, inplace=True)\n",
    "\n",
    "gtfs_routepoints = pd.read_csv(\"../data/gtfs_routepoints.csv\", dtype=str)\n",
    "for c in gtfs_routepoints.columns:\n",
    "    new_col = \"gtfs_\" + c\n",
    "    gtfs_routepoints.rename(columns={c: new_col}, inplace=True)\n",
    "\n",
    "routepoints = gtfs_routepoints.merge(\n",
    "                    osm_routepoints, how='inner', \n",
    "                    right_on=[\"osm_osm:ref:FR:STIF\", \"osm_osm:ref:FR:STIF:ExternalCode_Line\"],\n",
    "                    left_on=[\"gtfs_ZDEr_ID_REF_A\", \"gtfs_route_id\"]\n",
    "               )\n",
    "len(routepoints)"
   ]
  },
  {
   "cell_type": "code",
   "execution_count": 3,
   "metadata": {},
   "outputs": [
    {
     "data": {
      "text/plain": [
       "759"
      ]
     },
     "execution_count": 3,
     "metadata": {},
     "output_type": "execute_result"
    }
   ],
   "source": [
    "routepoints_strict = routepoints[routepoints[\"osm_name\"] == routepoints[\"gtfs_stop_name\"]]\n",
    "routepoints_strict = routepoints_strict[routepoints_strict[\"osm_destination\"] == routepoints_strict[\"gtfs_dest_name\"]]\n",
    "\n",
    "len(routepoints_strict)"
   ]
  },
  {
   "cell_type": "code",
   "execution_count": 4,
   "metadata": {
    "scrolled": false
   },
   "outputs": [
    {
     "data": {
      "text/html": [
       "<div>\n",
       "<style scoped>\n",
       "    .dataframe tbody tr th:only-of-type {\n",
       "        vertical-align: middle;\n",
       "    }\n",
       "\n",
       "    .dataframe tbody tr th {\n",
       "        vertical-align: top;\n",
       "    }\n",
       "\n",
       "    .dataframe thead th {\n",
       "        text-align: right;\n",
       "    }\n",
       "</style>\n",
       "<table border=\"1\" class=\"dataframe\">\n",
       "  <thead>\n",
       "    <tr style=\"text-align: right;\">\n",
       "      <th></th>\n",
       "      <th>gtfs_stop_id</th>\n",
       "      <th>gtfs_route_id</th>\n",
       "      <th>gtfs_ZDEr_ID_REF_A</th>\n",
       "      <th>gtfs_stop_name</th>\n",
       "      <th>gtfs_stop_lat</th>\n",
       "      <th>gtfs_stop_lon</th>\n",
       "      <th>gtfs_wheelchair_boarding</th>\n",
       "      <th>gtfs_dest_name</th>\n",
       "      <th>gtfs_route_short_name</th>\n",
       "      <th>gtfs_agency_name</th>\n",
       "      <th>...</th>\n",
       "      <th>osm_name</th>\n",
       "      <th>osm_code</th>\n",
       "      <th>osm_destination</th>\n",
       "      <th>osm_network</th>\n",
       "      <th>osm_osm:ref:FR:STIF</th>\n",
       "      <th>osm_osm:ref:FR:STIF:ExternalCode_Line</th>\n",
       "      <th>osm_line_id</th>\n",
       "      <th>osm_route_id</th>\n",
       "      <th>osm_lat</th>\n",
       "      <th>osm_lon</th>\n",
       "    </tr>\n",
       "  </thead>\n",
       "  <tbody>\n",
       "    <tr>\n",
       "      <th>38</th>\n",
       "      <td>StopPoint:57:570</td>\n",
       "      <td>006006003:3</td>\n",
       "      <td>41739</td>\n",
       "      <td>Bourgogne</td>\n",
       "      <td>48.684061</td>\n",
       "      <td>2.177385</td>\n",
       "      <td>NaN</td>\n",
       "      <td>Gare d'Orsay Ville</td>\n",
       "      <td>3</td>\n",
       "      <td>Mobicaps</td>\n",
       "      <td>...</td>\n",
       "      <td>Bourgogne</td>\n",
       "      <td>3</td>\n",
       "      <td>Gare d'Orsay Ville</td>\n",
       "      <td>Mobicaps</td>\n",
       "      <td>41739</td>\n",
       "      <td>006006003:3</td>\n",
       "      <td>Line:Relation:7413474</td>\n",
       "      <td>Route:Relation:6115743</td>\n",
       "      <td>48.6840599</td>\n",
       "      <td>2.1774818</td>\n",
       "    </tr>\n",
       "    <tr>\n",
       "      <th>43</th>\n",
       "      <td>StopPoint:57:630</td>\n",
       "      <td>006006003:3</td>\n",
       "      <td>11341</td>\n",
       "      <td>République</td>\n",
       "      <td>48.696502</td>\n",
       "      <td>2.184788</td>\n",
       "      <td>0</td>\n",
       "      <td>Gare d'Orsay Ville</td>\n",
       "      <td>3</td>\n",
       "      <td>Mobicaps</td>\n",
       "      <td>...</td>\n",
       "      <td>République</td>\n",
       "      <td>3</td>\n",
       "      <td>Gare d'Orsay Ville</td>\n",
       "      <td>Mobicaps</td>\n",
       "      <td>11341</td>\n",
       "      <td>006006003:3</td>\n",
       "      <td>Line:Relation:7413474</td>\n",
       "      <td>Route:Relation:6115743</td>\n",
       "      <td>48.6964641</td>\n",
       "      <td>2.1847851</td>\n",
       "    </tr>\n",
       "    <tr>\n",
       "      <th>53</th>\n",
       "      <td>StopPoint:57:1350</td>\n",
       "      <td>006006005:5</td>\n",
       "      <td>11439</td>\n",
       "      <td>Océanie 3</td>\n",
       "      <td>48.684205</td>\n",
       "      <td>2.207046</td>\n",
       "      <td>NaN</td>\n",
       "      <td>Gare d'Orsay Ville</td>\n",
       "      <td>5</td>\n",
       "      <td>Mobicaps</td>\n",
       "      <td>...</td>\n",
       "      <td>Océanie 3</td>\n",
       "      <td>5</td>\n",
       "      <td>Gare d'Orsay Ville</td>\n",
       "      <td>Mobicaps</td>\n",
       "      <td>11439</td>\n",
       "      <td>006006005:5</td>\n",
       "      <td>Line:Relation:7918097</td>\n",
       "      <td>Route:Relation:8063118</td>\n",
       "      <td>48.684205299999995</td>\n",
       "      <td>2.2070369999999997</td>\n",
       "    </tr>\n",
       "    <tr>\n",
       "      <th>58</th>\n",
       "      <td>StopPoint:57:390</td>\n",
       "      <td>006006005:5</td>\n",
       "      <td>11314</td>\n",
       "      <td>Bathes</td>\n",
       "      <td>48.685545</td>\n",
       "      <td>2.177991</td>\n",
       "      <td>NaN</td>\n",
       "      <td>Océanie 1</td>\n",
       "      <td>5</td>\n",
       "      <td>Mobicaps</td>\n",
       "      <td>...</td>\n",
       "      <td>Bathes</td>\n",
       "      <td>5</td>\n",
       "      <td>Océanie 1</td>\n",
       "      <td>Mobicaps</td>\n",
       "      <td>11314</td>\n",
       "      <td>006006005:5</td>\n",
       "      <td>Line:Relation:7918097</td>\n",
       "      <td>Route:Relation:6116915</td>\n",
       "      <td>48.6855006</td>\n",
       "      <td>2.1779569</td>\n",
       "    </tr>\n",
       "    <tr>\n",
       "      <th>63</th>\n",
       "      <td>StopPoint:57:391</td>\n",
       "      <td>006006005:5</td>\n",
       "      <td>11315</td>\n",
       "      <td>Bathes</td>\n",
       "      <td>48.685366</td>\n",
       "      <td>2.178304</td>\n",
       "      <td>NaN</td>\n",
       "      <td>Gare d'Orsay Ville</td>\n",
       "      <td>5</td>\n",
       "      <td>Mobicaps</td>\n",
       "      <td>...</td>\n",
       "      <td>Bathes</td>\n",
       "      <td>5</td>\n",
       "      <td>Gare d'Orsay Ville</td>\n",
       "      <td>Mobicaps</td>\n",
       "      <td>11315</td>\n",
       "      <td>006006005:5</td>\n",
       "      <td>Line:Relation:7918097</td>\n",
       "      <td>Route:Relation:6116859</td>\n",
       "      <td>48.6853702</td>\n",
       "      <td>2.1782882</td>\n",
       "    </tr>\n",
       "  </tbody>\n",
       "</table>\n",
       "<p>5 rows × 21 columns</p>\n",
       "</div>"
      ],
      "text/plain": [
       "         gtfs_stop_id gtfs_route_id gtfs_ZDEr_ID_REF_A gtfs_stop_name  \\\n",
       "38   StopPoint:57:570   006006003:3              41739      Bourgogne   \n",
       "43   StopPoint:57:630   006006003:3              11341     République   \n",
       "53  StopPoint:57:1350   006006005:5              11439      Océanie 3   \n",
       "58   StopPoint:57:390   006006005:5              11314         Bathes   \n",
       "63   StopPoint:57:391   006006005:5              11315         Bathes   \n",
       "\n",
       "   gtfs_stop_lat gtfs_stop_lon gtfs_wheelchair_boarding      gtfs_dest_name  \\\n",
       "38     48.684061      2.177385                      NaN  Gare d'Orsay Ville   \n",
       "43     48.696502      2.184788                        0  Gare d'Orsay Ville   \n",
       "53     48.684205      2.207046                      NaN  Gare d'Orsay Ville   \n",
       "58     48.685545      2.177991                      NaN           Océanie 1   \n",
       "63     48.685366      2.178304                      NaN  Gare d'Orsay Ville   \n",
       "\n",
       "   gtfs_route_short_name gtfs_agency_name         ...            osm_name  \\\n",
       "38                     3         Mobicaps         ...           Bourgogne   \n",
       "43                     3         Mobicaps         ...          République   \n",
       "53                     5         Mobicaps         ...           Océanie 3   \n",
       "58                     5         Mobicaps         ...              Bathes   \n",
       "63                     5         Mobicaps         ...              Bathes   \n",
       "\n",
       "   osm_code     osm_destination osm_network osm_osm:ref:FR:STIF  \\\n",
       "38        3  Gare d'Orsay Ville    Mobicaps               41739   \n",
       "43        3  Gare d'Orsay Ville    Mobicaps               11341   \n",
       "53        5  Gare d'Orsay Ville    Mobicaps               11439   \n",
       "58        5           Océanie 1    Mobicaps               11314   \n",
       "63        5  Gare d'Orsay Ville    Mobicaps               11315   \n",
       "\n",
       "   osm_osm:ref:FR:STIF:ExternalCode_Line            osm_line_id  \\\n",
       "38                           006006003:3  Line:Relation:7413474   \n",
       "43                           006006003:3  Line:Relation:7413474   \n",
       "53                           006006005:5  Line:Relation:7918097   \n",
       "58                           006006005:5  Line:Relation:7918097   \n",
       "63                           006006005:5  Line:Relation:7918097   \n",
       "\n",
       "              osm_route_id             osm_lat             osm_lon  \n",
       "38  Route:Relation:6115743          48.6840599           2.1774818  \n",
       "43  Route:Relation:6115743          48.6964641           2.1847851  \n",
       "53  Route:Relation:8063118  48.684205299999995  2.2070369999999997  \n",
       "58  Route:Relation:6116915          48.6855006           2.1779569  \n",
       "63  Route:Relation:6116859          48.6853702           2.1782882  \n",
       "\n",
       "[5 rows x 21 columns]"
      ]
     },
     "execution_count": 4,
     "metadata": {},
     "output_type": "execute_result"
    }
   ],
   "source": [
    "routepoints_strict.head()"
   ]
  },
  {
   "cell_type": "code",
   "execution_count": 5,
   "metadata": {},
   "outputs": [
    {
     "data": {
      "text/plain": [
       "<matplotlib.axes._subplots.AxesSubplot at 0x7fae9db8d2e8>"
      ]
     },
     "execution_count": 5,
     "metadata": {},
     "output_type": "execute_result"
    },
    {
     "data": {
      "image/png": "[encoded data removed]",
      "text/plain": [
       "<matplotlib.figure.Figure at 0x7fae9f5f4f60>"
      ]
     },
     "metadata": {},
     "output_type": "display_data"
    }
   ],
   "source": [
    "routepoints['gtfs_agency_name'].hist()\n",
    "\n",
    "#todo : lire la doc de matplotlib pour faire un graphe où on voit les légendes"
   ]
  },
  {
   "cell_type": "code",
   "execution_count": 6,
   "metadata": {},
   "outputs": [
    {
     "data": {
      "text/plain": [
       "<matplotlib.axes._subplots.AxesSubplot at 0x7fae9e444748>"
      ]
     },
     "execution_count": 6,
     "metadata": {},
     "output_type": "execute_result"
    },
    {
     "data": {
      "image/png": "[encoded data removed]",
      "text/plain": [
       "<matplotlib.figure.Figure at 0x7fae9e69ada0>"
      ]
     },
     "metadata": {},
     "output_type": "display_data"
    }
   ],
   "source": [
    "from geopy.distance import vincenty\n",
    "\n",
    "def compute_distance(row):\n",
    "    dist = vincenty(\n",
    "        (float(row['osm_lat']), float(row['osm_lon'])), \n",
    "        (float(row['gtfs_stop_lat']), float(row['gtfs_stop_lon']))\n",
    "    )\n",
    "    return dist.meters\n",
    "   \n",
    "routepoints['distance'] = routepoints.apply(compute_distance, axis=1)\n",
    "\n",
    "routepoints['distance'].hist()"
   ]
  },
  {
   "cell_type": "code",
   "execution_count": 7,
   "metadata": {},
   "outputs": [
    {
     "data": {
      "text/plain": [
       "8884"
      ]
     },
     "execution_count": 7,
     "metadata": {},
     "output_type": "execute_result"
    }
   ],
   "source": [
    "len(routepoints[routepoints['distance'] > 50])"
   ]
  },
  {
   "cell_type": "code",
   "execution_count": 22,
   "metadata": {},
   "outputs": [
    {
     "data": {
      "text/plain": [
       "0.0"
      ]
     },
     "execution_count": 22,
     "metadata": {},
     "output_type": "execute_result"
    },
    {
     "data": {
      "image/png": "[encoded data removed]",
      "text/plain": [
       "<matplotlib.figure.Figure at 0x7fae9b07df28>"
      ]
     },
     "metadata": {},
     "output_type": "display_data"
    }
   ],
   "source": [
    "import difflib\n",
    "\n",
    "difflib.SequenceMatcher(None, 'Gare de Laplace (Arcueil)', 'Arcueil Laplace RER').ratio() # 0.5\n",
    "difflib.SequenceMatcher(None, 'Sucy-Bonneuil RER', 'Gare de Sucy-Bonneuil').ratio() # 0.68\n",
    "difflib.SequenceMatcher(None, 'Noisy-le-Roi - Centre Commercial le Cèdre', 'Centre commercial').ratio() #0.55\n",
    "difflib.SequenceMatcher(None, 'Cimetière', 'Cimetière de Saint-Maur-des-Fossés').ratio() #0.41\n",
    "difflib.SequenceMatcher(None, 'A. Lebrun', 'Auguste Lebrun').ratio() #0.69\n",
    "difflib.SequenceMatcher(None, 'Saint-Maur Créteil', 'SAINT-MAUR - CRETEIL RER').ratio() #0.23\n",
    "difflib.SequenceMatcher(None, 'Saint-Maur Créteil'.lower(), 'SAINT-MAUR - CRETEIL RER'.lower()).ratio() #0.80\n",
    "difflib.SequenceMatcher(None, 'A. Lebrun', '').ratio() #0\n",
    "\n",
    "routepoints.fillna(\"\", inplace=True)\n",
    "\n",
    "def compute_similarity(elem1, elem2):\n",
    "    return difflib.SequenceMatcher(None, elem1.lower(), elem2.lower()).ratio()\n",
    "\n",
    "routepoints['name_confidence'] = routepoints[['osm_name','gtfs_stop_name']].apply(lambda x: compute_similarity(*x), axis=1)\n",
    "routepoints['name_confidence'].hist()\n",
    "\n"
   ]
  },
  {
   "cell_type": "code",
   "execution_count": 17,
   "metadata": {},
   "outputs": [
    {
     "data": {
      "text/plain": [
       "12353"
      ]
     },
     "execution_count": 17,
     "metadata": {},
     "output_type": "execute_result"
    }
   ],
   "source": [
    "len(routepoints[routepoints['name_confidence'] > 0.6])"
   ]
  },
  {
   "cell_type": "code",
   "execution_count": 18,
   "metadata": {},
   "outputs": [
    {
     "data": {
      "text/plain": [
       "20159"
      ]
     },
     "execution_count": 18,
     "metadata": {},
     "output_type": "execute_result"
    },
    {
     "data": {
      "image/png": "[encoded data removed]",
      "text/plain": [
       "<matplotlib.figure.Figure at 0x7fae9e19c208>"
      ]
     },
     "metadata": {},
     "output_type": "display_data"
    }
   ],
   "source": [
    "routepoints['line_code_confidence'] = routepoints[['osm_code','gtfs_route_short_name']].apply(lambda x: compute_similarity(*x), axis=1)\n",
    "routepoints['line_code_confidence'].hist()\n",
    "len(routepoints[routepoints['line_code_confidence'] > 0.8])"
   ]
  },
  {
   "cell_type": "code",
   "execution_count": 19,
   "metadata": {},
   "outputs": [
    {
     "data": {
      "text/plain": [
       "<matplotlib.axes._subplots.AxesSubplot at 0x7fae9d887518>"
      ]
     },
     "execution_count": 19,
     "metadata": {},
     "output_type": "execute_result"
    },
    {
     "data": {
      "image/png": "[encoded data removed]",
      "text/plain": [
       "<matplotlib.figure.Figure at 0x7fae9d81b278>"
      ]
     },
     "metadata": {},
     "output_type": "display_data"
    }
   ],
   "source": [
    "routepoints['destination_confidence'] = routepoints[['osm_destination','gtfs_dest_name']].apply(lambda x: compute_similarity(*x), axis=1)\n",
    "routepoints['destination_confidence'].hist()"
   ]
  },
  {
   "cell_type": "code",
   "execution_count": 20,
   "metadata": {},
   "outputs": [
    {
     "data": {
      "text/plain": [
       "9263"
      ]
     },
     "execution_count": 20,
     "metadata": {},
     "output_type": "execute_result"
    }
   ],
   "source": [
    "len(routepoints[routepoints['destination_confidence'] > 0.6])"
   ]
  },
  {
   "cell_type": "code",
   "execution_count": null,
   "metadata": {},
   "outputs": [],
   "source": [
    "#tt = routepoints[routepoints['destination_confidence'] < 0.5]\n",
    "#tt.to_csv('to_investigate_dest.csv')\n",
    "\n",
    "#tt = routepoints[routepoints['name_confidence'] < 0.5]\n",
    "#tt.to_csv('to_investigate_name.csv')\n",
    "\n",
    "#tt = routepoints[routepoints['line_code_confidence'] < 0.5]\n",
    "#tt.to_csv('to_investigate_line.csv')"
   ]
  },
  {
   "cell_type": "code",
   "execution_count": 21,
   "metadata": {},
   "outputs": [
    {
     "data": {
      "text/html": [
       "<div style=\"width:100%;\"><div style=\"position:relative;width:100%;height:0;padding-bottom:60%;\"><iframe src=\"data:text/html;charset=utf-8;base64,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\" style=\"position:absolute;width:100%;height:100%;left:0;top:0;border:none !important;\" allowfullscreen webkitallowfullscreen mozallowfullscreen></iframe></div></div>"
      ],
      "text/plain": [
       "<folium.folium.Map at 0x7fae9d7e8160>"
      ]
     },
     "execution_count": 21,
     "metadata": {},
     "output_type": "execute_result"
    }
   ],
   "source": [
    "import folium\n",
    "map_ = folium.Map(location=[48.8527, 2.3387])\n",
    "for index, row in routepoints_strict.head().iterrows():\n",
    "    folium.Marker([float(row['gtfs_stop_lat']), float(row['gtfs_stop_lon'])], popup=row['gtfs_stop_name']).add_to(map_)\n",
    "\n",
    "map_"
   ]
  }
 ],
 "metadata": {
  "kernelspec": {
   "display_name": "Python 3",
   "language": "python",
   "name": "python3"
  },
  "language_info": {
   "codemirror_mode": {
    "name": "ipython",
    "version": 3
   },
   "file_extension": ".py",
   "mimetype": "text/x-python",
   "name": "python",
   "nbconvert_exporter": "python",
   "pygments_lexer": "ipython3",
   "version": "3.5.2"
  }
 },
 "nbformat": 4,
 "nbformat_minor": 2
}
