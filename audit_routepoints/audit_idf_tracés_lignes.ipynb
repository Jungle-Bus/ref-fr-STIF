{
 "cells": [
  {
   "cell_type": "code",
   "execution_count": 1,
   "metadata": {},
   "outputs": [],
   "source": [
    "import pandas as pd\n",
    "import geopandas\n",
    "import json\n",
    "import os\n",
    "from shapely.geometry import Point\n",
    "from shapely import wkt\n",
    "import folium\n",
    "import difflib\n",
    "from geopy.distance import vincenty\n",
    "import numpy as np\n",
    "import matplotlib as mpl\n",
    "import matplotlib.pyplot as plt\n",
    "from shapely.ops import transform\n",
    "from functools import partial\n",
    "import pyproj\n",
    "\n",
    "%matplotlib inline\n",
    "inline_rc = dict(mpl.rcParams)\n",
    "\n",
    "in_folder = \"audits/2018_07/data/\"\n",
    "out_folder = \"audits/2018_07/images/\""
   ]
  },
  {
   "cell_type": "code",
   "execution_count": 2,
   "metadata": {},
   "outputs": [],
   "source": [
    "osm_lines = pd.read_csv(os.path.join(in_folder, \"osm-transit-extractor_lines.csv\"), dtype=str)\n",
    "osm_lines = osm_lines[osm_lines['mode'] == 'bus']"
   ]
  },
  {
   "cell_type": "code",
   "execution_count": 3,
   "metadata": {
    "scrolled": true
   },
   "outputs": [],
   "source": [
    "osm_line_route = pd.read_csv(os.path.join(in_folder, \"osm-transit-extractor_line_routes.csv\"), dtype=str)\n",
    "tt = pd.DataFrame(osm_line_route.groupby('line_id').count()).reset_index()\n",
    "tt.rename(columns={'route_id': 'nb_routes'}, inplace=True)\n",
    "result = pd.merge(osm_lines,tt, on='line_id')\n",
    "\n",
    "osm_lines = result[['line_id', 'name', 'nb_routes','code', 'colour', 'operator', 'network','shape']].copy()"
   ]
  },
  {
   "cell_type": "code",
   "execution_count": 4,
   "metadata": {},
   "outputs": [],
   "source": [
    "project = partial(\n",
    "    pyproj.transform,\n",
    "    pyproj.Proj(init='EPSG:4326'),\n",
    "    pyproj.Proj(init='EPSG:2154'))\n",
    "\n",
    "def osm_shape_to_wkt(row):\n",
    "    if pd.isna(row['shape']):\n",
    "        wkt_ = wkt.loads('POINT (2.482068 49.0327237)')\n",
    "    else :\n",
    "        wkt_ = wkt.loads(row['shape'])\n",
    "    return transform(project, wkt_) # on projette, pour avoir plus tard la longueur en mètres\n",
    "\n",
    "osm_lines['geom'] = osm_lines.apply(osm_shape_to_wkt, axis=1)"
   ]
  },
  {
   "cell_type": "code",
   "execution_count": 5,
   "metadata": {},
   "outputs": [
    {
     "data": {
      "text/html": [
       "<div>\n",
       "<style scoped>\n",
       "    .dataframe tbody tr th:only-of-type {\n",
       "        vertical-align: middle;\n",
       "    }\n",
       "\n",
       "    .dataframe tbody tr th {\n",
       "        vertical-align: top;\n",
       "    }\n",
       "\n",
       "    .dataframe thead th {\n",
       "        text-align: right;\n",
       "    }\n",
       "</style>\n",
       "<table border=\"1\" class=\"dataframe\">\n",
       "  <thead>\n",
       "    <tr style=\"text-align: right;\">\n",
       "      <th></th>\n",
       "      <th>line_id</th>\n",
       "      <th>name</th>\n",
       "      <th>nb_routes</th>\n",
       "      <th>code</th>\n",
       "      <th>colour</th>\n",
       "      <th>operator</th>\n",
       "      <th>network</th>\n",
       "      <th>shape</th>\n",
       "      <th>geom</th>\n",
       "      <th>geometry</th>\n",
       "    </tr>\n",
       "  </thead>\n",
       "  <tbody>\n",
       "    <tr>\n",
       "      <th>0</th>\n",
       "      <td>Line:Relation:36997</td>\n",
       "      <td>Bus 34 : Les Noues RER (Circulaire)</td>\n",
       "      <td>2</td>\n",
       "      <td>34</td>\n",
       "      <td>#00B353</td>\n",
       "      <td>Keolis CIF</td>\n",
       "      <td>Les Courriers de l'Île-de-France</td>\n",
       "      <td>MULTILINESTRING((2.482068 49.0327237, 2.481475...</td>\n",
       "      <td>(LINESTRING (662126.1289399948 6881550.1632409...</td>\n",
       "      <td>(LINESTRING (662126.1289399948 6881550.1632409...</td>\n",
       "    </tr>\n",
       "    <tr>\n",
       "      <th>1</th>\n",
       "      <td>Line:Relation:107352</td>\n",
       "      <td>Bus 33 : Les Noues RER (Circulaire)</td>\n",
       "      <td>2</td>\n",
       "      <td>33</td>\n",
       "      <td>#007AC2</td>\n",
       "      <td>Keolis CIF</td>\n",
       "      <td>Les Courriers de l'Île-de-France</td>\n",
       "      <td>MULTILINESTRING((2.4747065999999998 49.0313401...</td>\n",
       "      <td>(LINESTRING (661586.8094866406 6881399.8481064...</td>\n",
       "      <td>(LINESTRING (661586.8094866406 6881399.8481064...</td>\n",
       "    </tr>\n",
       "    <tr>\n",
       "      <th>2</th>\n",
       "      <td>Line:Relation:107354</td>\n",
       "      <td>Bus 11 : Victor Basch (Goussainville) ↔ Saint-...</td>\n",
       "      <td>2</td>\n",
       "      <td>11</td>\n",
       "      <td>#B456A1</td>\n",
       "      <td>Keolis CIF</td>\n",
       "      <td>Les Courriers de l'Île-de-France</td>\n",
       "      <td>MULTILINESTRING((2.3552624 48.9384249, 2.35614...</td>\n",
       "      <td>(LINESTRING (652768.0073368527 6871131.9764142...</td>\n",
       "      <td>(LINESTRING (652768.0073368527 6871131.9764142...</td>\n",
       "    </tr>\n",
       "    <tr>\n",
       "      <th>3</th>\n",
       "      <td>Line:Relation:107356</td>\n",
       "      <td>Bus 32 : Goussainville, Victor Basch - Roissypole</td>\n",
       "      <td>2</td>\n",
       "      <td>32</td>\n",
       "      <td>#B2CE40</td>\n",
       "      <td>Keolis CIF</td>\n",
       "      <td>Les Courriers de l'Île-de-France</td>\n",
       "      <td>MULTILINESTRING((2.4737355 49.0286249, 2.47397...</td>\n",
       "      <td>(LINESTRING (661513.7842904497 6881098.3623743...</td>\n",
       "      <td>(LINESTRING (661513.7842904497 6881098.3623743...</td>\n",
       "    </tr>\n",
       "    <tr>\n",
       "      <th>4</th>\n",
       "      <td>Line:Relation:225665</td>\n",
       "      <td>Bus 170 : Saint-Denis RER ↔ Porte des Lilas</td>\n",
       "      <td>2</td>\n",
       "      <td>170</td>\n",
       "      <td>#87d3df</td>\n",
       "      <td>RATP</td>\n",
       "      <td>RATP</td>\n",
       "      <td>MULTILINESTRING((2.347647 48.9338312, 2.347713...</td>\n",
       "      <td>(LINESTRING (652205.9130451448 6870625.7423249...</td>\n",
       "      <td>(LINESTRING (652205.9130451448 6870625.7423249...</td>\n",
       "    </tr>\n",
       "  </tbody>\n",
       "</table>\n",
       "</div>"
      ],
      "text/plain": [
       "                line_id                                               name  \\\n",
       "0   Line:Relation:36997                Bus 34 : Les Noues RER (Circulaire)   \n",
       "1  Line:Relation:107352                Bus 33 : Les Noues RER (Circulaire)   \n",
       "2  Line:Relation:107354  Bus 11 : Victor Basch (Goussainville) ↔ Saint-...   \n",
       "3  Line:Relation:107356  Bus 32 : Goussainville, Victor Basch - Roissypole   \n",
       "4  Line:Relation:225665        Bus 170 : Saint-Denis RER ↔ Porte des Lilas   \n",
       "\n",
       "   nb_routes code   colour    operator                           network  \\\n",
       "0          2   34  #00B353  Keolis CIF  Les Courriers de l'Île-de-France   \n",
       "1          2   33  #007AC2  Keolis CIF  Les Courriers de l'Île-de-France   \n",
       "2          2   11  #B456A1  Keolis CIF  Les Courriers de l'Île-de-France   \n",
       "3          2   32  #B2CE40  Keolis CIF  Les Courriers de l'Île-de-France   \n",
       "4          2  170  #87d3df        RATP                              RATP   \n",
       "\n",
       "                                               shape  \\\n",
       "0  MULTILINESTRING((2.482068 49.0327237, 2.481475...   \n",
       "1  MULTILINESTRING((2.4747065999999998 49.0313401...   \n",
       "2  MULTILINESTRING((2.3552624 48.9384249, 2.35614...   \n",
       "3  MULTILINESTRING((2.4737355 49.0286249, 2.47397...   \n",
       "4  MULTILINESTRING((2.347647 48.9338312, 2.347713...   \n",
       "\n",
       "                                                geom  \\\n",
       "0  (LINESTRING (662126.1289399948 6881550.1632409...   \n",
       "1  (LINESTRING (661586.8094866406 6881399.8481064...   \n",
       "2  (LINESTRING (652768.0073368527 6871131.9764142...   \n",
       "3  (LINESTRING (661513.7842904497 6881098.3623743...   \n",
       "4  (LINESTRING (652205.9130451448 6870625.7423249...   \n",
       "\n",
       "                                            geometry  \n",
       "0  (LINESTRING (662126.1289399948 6881550.1632409...  \n",
       "1  (LINESTRING (661586.8094866406 6881399.8481064...  \n",
       "2  (LINESTRING (652768.0073368527 6871131.9764142...  \n",
       "3  (LINESTRING (661513.7842904497 6881098.3623743...  \n",
       "4  (LINESTRING (652205.9130451448 6870625.7423249...  "
      ]
     },
     "execution_count": 5,
     "metadata": {},
     "output_type": "execute_result"
    }
   ],
   "source": [
    "osm_lines_geo = geopandas.GeoDataFrame(osm_lines, geometry=osm_lines.geom)\n",
    "\n",
    "osm_lines_geo.head()\n",
    "#osm_lines_geo.plot()"
   ]
  },
  {
   "cell_type": "code",
   "execution_count": 6,
   "metadata": {},
   "outputs": [
    {
     "data": {
      "text/plain": [
       "<matplotlib.axes._subplots.AxesSubplot at 0x7f0329cb8978>"
      ]
     },
     "execution_count": 6,
     "metadata": {},
     "output_type": "execute_result"
    },
    {
     "data": {
      "image/png": "[encoded data removed]",
      "text/plain": [
       "<Figure size 432x288 with 1 Axes>"
      ]
     },
     "metadata": {},
     "output_type": "display_data"
    }
   ],
   "source": [
    "osm_lines_geo['line_length'] = (osm_lines_geo.length/osm_lines_geo['nb_routes'] ) /1000\n",
    "osm_lines_geo['line_length'].hist()"
   ]
  },
  {
   "cell_type": "code",
   "execution_count": 7,
   "metadata": {},
   "outputs": [],
   "source": [
    "#analyse des petites lignes\n",
    "#osm_lines_geo_petit = osm_lines_geo[osm_lines_geo['line_length'] < 3]\n",
    "#osm_lines_geo_petit.sort_values('line_length', inplace=True,  ascending=False)\n",
    "#osm_lines_geo_petit"
   ]
  },
  {
   "cell_type": "code",
   "execution_count": 8,
   "metadata": {},
   "outputs": [
    {
     "name": "stdout",
     "output_type": "stream",
     "text": [
      "Nombre de lignes avec tracé : 758\n"
     ]
    },
    {
     "data": {
      "text/plain": [
       "'Pourcentage de lignes OSM qui ont un tracé : 71.44203581526861'"
      ]
     },
     "execution_count": 8,
     "metadata": {},
     "output_type": "execute_result"
    }
   ],
   "source": [
    "osm_lines_geo_ok = osm_lines_geo[osm_lines_geo['line_length'] >= 3].copy()\n",
    "\n",
    "osm_lines_geo_ok[['line_id', 'name', 'network', 'line_length']]\n",
    "\n",
    "print(\"Nombre de lignes avec tracé : {}\".format(len(osm_lines_geo_ok)))\n",
    "\n",
    "tt = len(osm_lines_geo_ok) * 100.0 / len(osm_lines_geo)\n",
    "\"Pourcentage de lignes OSM qui ont un tracé : {}\".format(tt)"
   ]
  },
  {
   "cell_type": "code",
   "execution_count": 9,
   "metadata": {},
   "outputs": [
    {
     "data": {
      "text/plain": [
       "'Pourcentage de lignes qui ont un tracé : 52.78551532033426'"
      ]
     },
     "execution_count": 9,
     "metadata": {},
     "output_type": "execute_result"
    }
   ],
   "source": [
    "## rapporté au nombre de lignes du GTFS\n",
    "gtfs_lines = pd.read_csv(os.path.join(in_folder, \"gtfs_routes.txt\"), dtype=str)\n",
    "gtfs_lines = gtfs_lines[gtfs_lines['route_type'] == '3']\n",
    "\n",
    "tt = len(osm_lines_geo_ok) * 100.0 / len(gtfs_lines)\n",
    "\"Pourcentage de lignes qui ont un tracé : {}\".format(tt)\n"
   ]
  },
  {
   "cell_type": "code",
   "execution_count": 10,
   "metadata": {},
   "outputs": [
    {
     "data": {
      "image/png": "[encoded data removed]",
      "text/plain": [
       "<Figure size 432x288 with 1 Axes>"
      ]
     },
     "metadata": {},
     "output_type": "display_data"
    }
   ],
   "source": [
    "lines_count = len(osm_lines_geo_ok)\n",
    "labels = 'moins de 10 km', 'de 10 km à 30 km', 'plus de 30 km'\n",
    "count_petit = len(osm_lines_geo_ok[osm_lines_geo_ok['line_length'] < 10])\n",
    "count_moyen = len(osm_lines_geo_ok[(osm_lines_geo_ok['line_length'] >= 10) & (osm_lines_geo_ok['line_length'] < 30 )])\n",
    "count_grand = len(osm_lines_geo_ok[osm_lines_geo_ok['line_length'] > 30])\n",
    "\n",
    "sizes = [count_petit/lines_count * 100, \n",
    "         count_moyen/lines_count * 100,\n",
    "         count_grand/lines_count * 100]\n",
    "explode = (0, 0.1, 0.2)\n",
    "\n",
    "fig1, ax1 = plt.subplots()\n",
    "plt.rcParams['font.size'] = 16\n",
    "\n",
    "ax1.set_title(\"Longueur moyenne des lignes de bus d'après OSM\")\n",
    "ax1.pie(sizes, explode=explode, labels=labels, autopct='%1.1f%%',\n",
    "        shadow=True, startangle=10, pctdistance=0.8)\n",
    "ax1.axis('equal') \n",
    "plt.savefig(os.path.join(out_folder,'21_longueur_moyenne_lignes.png'), bbox_inches='tight')"
   ]
  },
  {
   "cell_type": "code",
   "execution_count": 11,
   "metadata": {},
   "outputs": [
    {
     "data": {
      "text/html": [
       "<div>\n",
       "<style scoped>\n",
       "    .dataframe tbody tr th:only-of-type {\n",
       "        vertical-align: middle;\n",
       "    }\n",
       "\n",
       "    .dataframe tbody tr th {\n",
       "        vertical-align: top;\n",
       "    }\n",
       "\n",
       "    .dataframe thead th {\n",
       "        text-align: right;\n",
       "    }\n",
       "</style>\n",
       "<table border=\"1\" class=\"dataframe\">\n",
       "  <thead>\n",
       "    <tr style=\"text-align: right;\">\n",
       "      <th></th>\n",
       "      <th>network</th>\n",
       "      <th>nb_routes</th>\n",
       "      <th>line_length</th>\n",
       "    </tr>\n",
       "  </thead>\n",
       "  <tbody>\n",
       "    <tr>\n",
       "      <th>27</th>\n",
       "      <td>Express A14</td>\n",
       "      <td>2.000000</td>\n",
       "      <td>81.114372</td>\n",
       "    </tr>\n",
       "    <tr>\n",
       "      <th>13</th>\n",
       "      <td>CEAT Sud Ile-de-France</td>\n",
       "      <td>4.000000</td>\n",
       "      <td>75.372655</td>\n",
       "    </tr>\n",
       "    <tr>\n",
       "      <th>35</th>\n",
       "      <td>Le Bus Direct</td>\n",
       "      <td>2.000000</td>\n",
       "      <td>53.942468</td>\n",
       "    </tr>\n",
       "    <tr>\n",
       "      <th>83</th>\n",
       "      <td>Seine-et-Marne Express</td>\n",
       "      <td>2.500000</td>\n",
       "      <td>51.388145</td>\n",
       "    </tr>\n",
       "    <tr>\n",
       "      <th>108</th>\n",
       "      <td>Étampois</td>\n",
       "      <td>2.000000</td>\n",
       "      <td>48.657286</td>\n",
       "    </tr>\n",
       "    <tr>\n",
       "      <th>28</th>\n",
       "      <td>Flixbus</td>\n",
       "      <td>2.000000</td>\n",
       "      <td>40.879154</td>\n",
       "    </tr>\n",
       "    <tr>\n",
       "      <th>86</th>\n",
       "      <td>Still</td>\n",
       "      <td>2.000000</td>\n",
       "      <td>34.301101</td>\n",
       "    </tr>\n",
       "    <tr>\n",
       "      <th>66</th>\n",
       "      <td>Réseau interurbain de Rambouillet</td>\n",
       "      <td>2.000000</td>\n",
       "      <td>33.873210</td>\n",
       "    </tr>\n",
       "    <tr>\n",
       "      <th>8</th>\n",
       "      <td>Bus Val d'Oise</td>\n",
       "      <td>2.666667</td>\n",
       "      <td>33.107767</td>\n",
       "    </tr>\n",
       "    <tr>\n",
       "      <th>73</th>\n",
       "      <td>STILL</td>\n",
       "      <td>2.416667</td>\n",
       "      <td>31.471110</td>\n",
       "    </tr>\n",
       "  </tbody>\n",
       "</table>\n",
       "</div>"
      ],
      "text/plain": [
       "                               network  nb_routes  line_length\n",
       "27                         Express A14   2.000000    81.114372\n",
       "13              CEAT Sud Ile-de-France   4.000000    75.372655\n",
       "35                       Le Bus Direct   2.000000    53.942468\n",
       "83              Seine-et-Marne Express   2.500000    51.388145\n",
       "108                           Étampois   2.000000    48.657286\n",
       "28                             Flixbus   2.000000    40.879154\n",
       "86                               Still   2.000000    34.301101\n",
       "66   Réseau interurbain de Rambouillet   2.000000    33.873210\n",
       "8                       Bus Val d'Oise   2.666667    33.107767\n",
       "73                               STILL   2.416667    31.471110"
      ]
     },
     "execution_count": 11,
     "metadata": {},
     "output_type": "execute_result"
    }
   ],
   "source": [
    "#difficile d'estimer la qualité du résultat, \n",
    "#mais si on regroupe par réseau, on retrouve bien les réseaux urbains vs les réseaux longues distances\n",
    "\n",
    "osm_networks = pd.DataFrame(osm_lines_geo_ok.groupby('network').mean()).reset_index()\n",
    "\n",
    "osm_networks.sort_values(by='line_length', ascending=False, inplace=True)\n",
    "osm_networks.tail(10)\n",
    "# petits réseaux urbains (Orgebus, Probus, Chavilbus)\n",
    "\n",
    "osm_networks.head(10)\n",
    "# réseaux en car type express (Express A14, Seine-et-Marne Express) \n",
    "# ou longue distance (Réseau Interurbain de Rambouillet, Le Bus Direct)"
   ]
  }
 ],
 "metadata": {
  "kernelspec": {
   "display_name": "Python 3",
   "language": "python",
   "name": "python3"
  },
  "language_info": {
   "codemirror_mode": {
    "name": "ipython",
    "version": 3
   },
   "file_extension": ".py",
   "mimetype": "text/x-python",
   "name": "python",
   "nbconvert_exporter": "python",
   "pygments_lexer": "ipython3",
   "version": "3.5.2"
  }
 },
 "nbformat": 4,
 "nbformat_minor": 2
}
