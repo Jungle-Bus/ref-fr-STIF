{
 "cells": [
  {
   "cell_type": "code",
   "execution_count": 1,
   "metadata": {
    "collapsed": true
   },
   "outputs": [],
   "source": [
    "import pandas as pd\n",
    "import os\n",
    "import json\n",
    "from shapely.geometry import Point\n",
    "import difflib\n",
    "from geopy.distance import vincenty\n",
    "import numpy as np\n",
    "import matplotlib as mpl\n",
    "import matplotlib.pyplot as plt\n",
    "\n",
    "%matplotlib inline\n",
    "inline_rc = dict(mpl.rcParams)"
   ]
  },
  {
   "cell_type": "code",
   "execution_count": 2,
   "metadata": {
    "collapsed": true
   },
   "outputs": [],
   "source": [
    "#in_folder = \"audits/2018_04/data/\"\n",
    "in_folder = \"../data/\"\n",
    "#out_folder = \"/tmp/\"\n",
    "out_folder = \"audits/2018_07/images/\""
   ]
  },
  {
   "cell_type": "code",
   "execution_count": 3,
   "metadata": {},
   "outputs": [
    {
     "name": "stdout",
     "output_type": "stream",
     "text": [
      "On a 22873 routepoints dans OSM et 101504 routepoints dans le GTFS\n"
     ]
    }
   ],
   "source": [
    "osm_stoppoints = pd.read_csv(os.path.join(in_folder, \"osm-transit-extractor_stop_points.csv\"), dtype=str)\n",
    "for c in osm_stoppoints.columns:\n",
    "    if c not in [\"stop_point_id\", \"osm:wheelchair\"]:\n",
    "        osm_stoppoints.drop(c, axis=1, inplace=True)\n",
    "    elif c == \"stop_point_id\":\n",
    "        new_col = \"osm_stop_id\"\n",
    "        osm_stoppoints.rename(columns={c: new_col}, inplace=True)\n",
    "    elif c == \"osm:wheelchair\":\n",
    "        new_col = \"osm_wheelchair\"\n",
    "        osm_stoppoints.rename(columns={c: new_col}, inplace=True)\n",
    "\n",
    "osm_routepoints = pd.read_csv(os.path.join(in_folder, \"osm_routepoints_for_matching.csv\"), dtype=str)\n",
    "for c in osm_routepoints.columns:\n",
    "    new_col = \"osm_\" + c\n",
    "    osm_routepoints.rename(columns={c: new_col}, inplace=True)\n",
    "osm_routepoints = osm_routepoints.merge(osm_stoppoints, how=\"left\", on=\"osm_stop_id\")\n",
    "osm_routepoints[\"osm_wheelchair\"] = osm_routepoints[\"osm_wheelchair\"].fillna(\"\")\n",
    "\n",
    "gtfs_routepoints = pd.read_csv(os.path.join(in_folder, \"opendata_routepoints.csv\"), dtype=str)\n",
    "for c in gtfs_routepoints.columns:\n",
    "    new_col = \"gtfs_\" + c\n",
    "    gtfs_routepoints.rename(columns={c: new_col}, inplace=True)\n",
    "    \n",
    "print(\"On a {:d} routepoints dans OSM et {:d} routepoints dans le GTFS\".format(osm_routepoints.shape[0], gtfs_routepoints.shape[0]))\n"
   ]
  },
  {
   "cell_type": "markdown",
   "metadata": {},
   "source": [
    "## Etat de l'accessibilité sur les deux jeux de données\n",
    "A noter que l'accessibilité dans OSM et dans GTFS indiquent une notion de pouvoir monter dans des vehicules à cet arrêt (et pas juste \"l'arrêt est accessible\")"
   ]
  },
  {
   "cell_type": "markdown",
   "metadata": {},
   "source": [
    "### Accessibilité dans les routepoints OSM"
   ]
  },
  {
   "cell_type": "code",
   "execution_count": 4,
   "metadata": {},
   "outputs": [
    {
     "data": {
      "text/html": [
       "<div>\n",
       "<style scoped>\n",
       "    .dataframe tbody tr th:only-of-type {\n",
       "        vertical-align: middle;\n",
       "    }\n",
       "\n",
       "    .dataframe tbody tr th {\n",
       "        vertical-align: top;\n",
       "    }\n",
       "\n",
       "    .dataframe thead th {\n",
       "        text-align: right;\n",
       "    }\n",
       "</style>\n",
       "<table border=\"1\" class=\"dataframe\">\n",
       "  <thead>\n",
       "    <tr style=\"text-align: right;\">\n",
       "      <th></th>\n",
       "      <th>count</th>\n",
       "      <th>access</th>\n",
       "      <th>percent</th>\n",
       "    </tr>\n",
       "  </thead>\n",
       "  <tbody>\n",
       "    <tr>\n",
       "      <th>0</th>\n",
       "      <td>21367</td>\n",
       "      <td></td>\n",
       "      <td>93.415818</td>\n",
       "    </tr>\n",
       "    <tr>\n",
       "      <th>1</th>\n",
       "      <td>91</td>\n",
       "      <td>no</td>\n",
       "      <td>0.397849</td>\n",
       "    </tr>\n",
       "    <tr>\n",
       "      <th>2</th>\n",
       "      <td>1415</td>\n",
       "      <td>yes</td>\n",
       "      <td>6.186333</td>\n",
       "    </tr>\n",
       "  </tbody>\n",
       "</table>\n",
       "</div>"
      ],
      "text/plain": [
       "   count access    percent\n",
       "0  21367         93.415818\n",
       "1     91     no   0.397849\n",
       "2   1415    yes   6.186333"
      ]
     },
     "execution_count": 4,
     "metadata": {},
     "output_type": "execute_result"
    }
   ],
   "source": [
    "osm_access_group = osm_routepoints.groupby('osm_wheelchair').size()\n",
    "osm_access_group[\"\"] = osm_access_group[\"\"] + osm_access_group[\"designated\"]\n",
    "osm_access_group.pop(\"designated\")\n",
    "#grouping limited with the yes value to be compliant with gtfs groups\n",
    "osm_access_group[\"yes\"] = osm_access_group[\"yes\"] + osm_access_group[\"limited\"]\n",
    "osm_access_group.pop(\"limited\")\n",
    "osm_access_count = pd.DataFrame(osm_access_group.values, columns=[\"count\"])\n",
    "osm_access_count[\"access\"] = osm_access_group.index\n",
    "osm_access_count[\"percent\"] = osm_access_count[\"count\"] / osm_access_group.sum() * 100\n",
    "\n",
    "osm_access_count.head()"
   ]
  },
  {
   "cell_type": "markdown",
   "metadata": {},
   "source": [
    "### Accessibilité dans les routepoints GTFS"
   ]
  },
  {
   "cell_type": "code",
   "execution_count": 5,
   "metadata": {},
   "outputs": [
    {
     "data": {
      "text/html": [
       "<div>\n",
       "<style scoped>\n",
       "    .dataframe tbody tr th:only-of-type {\n",
       "        vertical-align: middle;\n",
       "    }\n",
       "\n",
       "    .dataframe tbody tr th {\n",
       "        vertical-align: top;\n",
       "    }\n",
       "\n",
       "    .dataframe thead th {\n",
       "        text-align: right;\n",
       "    }\n",
       "</style>\n",
       "<table border=\"1\" class=\"dataframe\">\n",
       "  <thead>\n",
       "    <tr style=\"text-align: right;\">\n",
       "      <th></th>\n",
       "      <th>count</th>\n",
       "      <th>access</th>\n",
       "      <th>percent</th>\n",
       "    </tr>\n",
       "  </thead>\n",
       "  <tbody>\n",
       "    <tr>\n",
       "      <th>0</th>\n",
       "      <td>68503</td>\n",
       "      <td></td>\n",
       "      <td>67.487981</td>\n",
       "    </tr>\n",
       "    <tr>\n",
       "      <th>1</th>\n",
       "      <td>2819</td>\n",
       "      <td>0</td>\n",
       "      <td>2.777230</td>\n",
       "    </tr>\n",
       "    <tr>\n",
       "      <th>2</th>\n",
       "      <td>30182</td>\n",
       "      <td>1</td>\n",
       "      <td>29.734789</td>\n",
       "    </tr>\n",
       "  </tbody>\n",
       "</table>\n",
       "</div>"
      ],
      "text/plain": [
       "   count access    percent\n",
       "0  68503         67.487981\n",
       "1   2819      0   2.777230\n",
       "2  30182      1  29.734789"
      ]
     },
     "execution_count": 5,
     "metadata": {},
     "output_type": "execute_result"
    }
   ],
   "source": [
    "gtfs_routepoints = gtfs_routepoints.fillna(\"\")\n",
    "nb_gtfs_routepoints = gtfs_routepoints.shape[0]\n",
    "gtfs_access_group = gtfs_routepoints.groupby('gtfs_wheelchair_boarding').size()\n",
    "gtfs_access_count = pd.DataFrame(gtfs_access_group.values, columns=[\"count\"])\n",
    "gtfs_access_count[\"access\"] = gtfs_access_group.index\n",
    "gtfs_access_count[\"percent\"] = gtfs_access_count[\"count\"] / nb_gtfs_routepoints * 100\n",
    "gtfs_access_count"
   ]
  },
  {
   "cell_type": "markdown",
   "metadata": {},
   "source": [
    "On constate que dans le GTFS, plus de 30% des routepoints ont une indication d'accessibilité.\n",
    "Dans OSM, moins de 7% des routepoints ont une indication d'accessibilité.\n",
    "Le ratio en volume pour les deux est de 1500/33000 = 4,5%"
   ]
  },
  {
   "cell_type": "markdown",
   "metadata": {},
   "source": [
    "## Etude qualitative"
   ]
  },
  {
   "cell_type": "code",
   "execution_count": 6,
   "metadata": {},
   "outputs": [
    {
     "data": {
      "text/html": [
       "<div>\n",
       "<style scoped>\n",
       "    .dataframe tbody tr th:only-of-type {\n",
       "        vertical-align: middle;\n",
       "    }\n",
       "\n",
       "    .dataframe tbody tr th {\n",
       "        vertical-align: top;\n",
       "    }\n",
       "\n",
       "    .dataframe thead th {\n",
       "        text-align: right;\n",
       "    }\n",
       "</style>\n",
       "<table border=\"1\" class=\"dataframe\">\n",
       "  <thead>\n",
       "    <tr style=\"text-align: right;\">\n",
       "      <th></th>\n",
       "      <th>osm_stop_id</th>\n",
       "      <th>osm_wheelchair</th>\n",
       "    </tr>\n",
       "  </thead>\n",
       "  <tbody>\n",
       "    <tr>\n",
       "      <th>0</th>\n",
       "      <td>StopPoint:Node:17924573</td>\n",
       "      <td>yes</td>\n",
       "    </tr>\n",
       "    <tr>\n",
       "      <th>1</th>\n",
       "      <td>StopPoint:Node:29414560</td>\n",
       "      <td>yes</td>\n",
       "    </tr>\n",
       "    <tr>\n",
       "      <th>2</th>\n",
       "      <td>StopPoint:Node:29441475</td>\n",
       "      <td>NaN</td>\n",
       "    </tr>\n",
       "    <tr>\n",
       "      <th>3</th>\n",
       "      <td>StopPoint:Node:95617756</td>\n",
       "      <td>NaN</td>\n",
       "    </tr>\n",
       "    <tr>\n",
       "      <th>4</th>\n",
       "      <td>StopPoint:Node:125272923</td>\n",
       "      <td>NaN</td>\n",
       "    </tr>\n",
       "  </tbody>\n",
       "</table>\n",
       "</div>"
      ],
      "text/plain": [
       "                osm_stop_id osm_wheelchair\n",
       "0   StopPoint:Node:17924573            yes\n",
       "1   StopPoint:Node:29414560            yes\n",
       "2   StopPoint:Node:29441475            NaN\n",
       "3   StopPoint:Node:95617756            NaN\n",
       "4  StopPoint:Node:125272923            NaN"
      ]
     },
     "execution_count": 6,
     "metadata": {},
     "output_type": "execute_result"
    }
   ],
   "source": [
    "osm_stoppoints.head()"
   ]
  },
  {
   "cell_type": "code",
   "execution_count": 7,
   "metadata": {
    "scrolled": true
   },
   "outputs": [
    {
     "name": "stdout",
     "output_type": "stream",
     "text": [
      "nombre total de routepoints : 15137\n",
      "nombre total de routepoints avec accessibilité différente: 8400\n"
     ]
    }
   ],
   "source": [
    "quali_routepoints = pd.read_csv(os.path.join(out_folder, \"mapping_des_routepoints.csv\"), dtype=str)\n",
    "quali_routepoints[\"gtfs_wheelchair_boarding\"] = quali_routepoints[\"gtfs_wheelchair_boarding\"].fillna(\"\")\n",
    "# on a besoin d'ajouter l'accessibilité OSM \n",
    "quali_routepoints = quali_routepoints.merge(osm_stoppoints, how=\"left\", on=\"osm_stop_id\")\n",
    "quali_routepoints[\"osm_wheelchair\"] = quali_routepoints[\"osm_wheelchair\"].fillna(\"\")\n",
    "# on nettoie les valeurs issues d'OSM (comme fait plus haut)\n",
    "quali_routepoints['osm_wheelchair'] = quali_routepoints['osm_wheelchair'].map(\n",
    "    {\n",
    "        'designated': \"\", \n",
    "        'limited': \"yes\",\n",
    "        \"yes\": \"yes\",\n",
    "        \"no\": \"no\",\n",
    "        \"\": \"\"\n",
    "    }\n",
    ")\n",
    "\n",
    "print(\"nombre total de routepoints : {}\".format(quali_routepoints.shape[0]))\n",
    "#print(\"nombre total de routepoints : {}\".format(quali_routepoints.shape[0]))\n",
    "#quali_routepoints.shape\n",
    "quali_routepoints_different = quali_routepoints[quali_routepoints[\"gtfs_wheelchair_boarding\"] != quali_routepoints[\"osm_wheelchair\"]]\n",
    "print(\"nombre total de routepoints avec accessibilité différente: {}\".format(quali_routepoints_different.shape[0]))\n"
   ]
  },
  {
   "cell_type": "code",
   "execution_count": 8,
   "metadata": {},
   "outputs": [
    {
     "data": {
      "text/plain": [
       "gtfs_wheelchair_boarding\n",
       "       78\n",
       "0     568\n",
       "1    7754\n",
       "dtype: int64"
      ]
     },
     "execution_count": 8,
     "metadata": {},
     "output_type": "execute_result"
    }
   ],
   "source": [
    "quali_routepoints_different.groupby(\"gtfs_wheelchair_boarding\").size()"
   ]
  },
  {
   "cell_type": "code",
   "execution_count": 9,
   "metadata": {},
   "outputs": [
    {
     "data": {
      "text/plain": [
       "osm_wheelchair\n",
       "no     15\n",
       "yes    63\n",
       "dtype: int64"
      ]
     },
     "execution_count": 9,
     "metadata": {},
     "output_type": "execute_result"
    }
   ],
   "source": [
    "unknown_access_in_gtfs = quali_routepoints_different[quali_routepoints_different[\"gtfs_wheelchair_boarding\"] == \"\"]\n",
    "unknown_access_in_gtfs_group = unknown_access_in_gtfs.groupby('osm_wheelchair').size()\n",
    "\n",
    "unknown_access_in_gtfs_group"
   ]
  },
  {
   "cell_type": "markdown",
   "metadata": {},
   "source": [
    "sur les **78 routepoints** avec une accessibilité non connue du GTFS, OSM permet **de toutes les spécifier**."
   ]
  },
  {
   "cell_type": "code",
   "execution_count": 10,
   "metadata": {},
   "outputs": [
    {
     "data": {
      "text/plain": [
       "osm_wheelchair\n",
       "       560\n",
       "no       5\n",
       "yes      3\n",
       "dtype: int64"
      ]
     },
     "execution_count": 10,
     "metadata": {},
     "output_type": "execute_result"
    }
   ],
   "source": [
    "no_access_in_gtfs = quali_routepoints_different[quali_routepoints_different[\"gtfs_wheelchair_boarding\"] == \"0\"]\n",
    "no_access_in_gtfs_group = no_access_in_gtfs.groupby('osm_wheelchair').size()\n",
    "\n",
    "no_access_in_gtfs_group"
   ]
  },
  {
   "cell_type": "markdown",
   "metadata": {},
   "source": [
    "Sur les **568** routepoints qui sont notés comme non accessibles, OSM indique que **3 routepoints sont accessibles**."
   ]
  },
  {
   "cell_type": "code",
   "execution_count": 11,
   "metadata": {},
   "outputs": [
    {
     "data": {
      "text/plain": [
       "osm_wheelchair\n",
       "       6649\n",
       "no       54\n",
       "yes    1051\n",
       "dtype: int64"
      ]
     },
     "execution_count": 11,
     "metadata": {},
     "output_type": "execute_result"
    }
   ],
   "source": [
    "access_yes_in_gtfs = quali_routepoints_different[quali_routepoints_different[\"gtfs_wheelchair_boarding\"] == \"1\"]\n",
    "access_yes_in_gtfs_group = access_yes_in_gtfs.groupby('osm_wheelchair').size()\n",
    "\n",
    "access_yes_in_gtfs_group"
   ]
  },
  {
   "cell_type": "markdown",
   "metadata": {},
   "source": [
    "sur les **7754** routepoints qui sont notés comme accessible, OSM **met en doute 54** routepoints"
   ]
  },
  {
   "cell_type": "markdown",
   "metadata": {},
   "source": [
    "## Conclusion"
   ]
  },
  {
   "cell_type": "markdown",
   "metadata": {},
   "source": [
    "OSM n'est pas une source d'amélioration notable de l'information d'accessibilité. Cependant, cette information n'est encore que très peu collectée sur le terrain, et elle permet déjà de mettre en doute l'accessibilité de plusieurs arrêts par rapport au référentiel officiel.\n",
    "Un guide permettant de savoir comment indiquer qu'un arrêt est accessible ainsi qu'une animation de la communauté sur ce thème pourrait permettre une mise en qualité certaine."
   ]
  }
 ],
 "metadata": {
  "kernelspec": {
   "display_name": "audit_routepoints",
   "language": "python",
   "name": "audit_routepoints"
  },
  "language_info": {
   "codemirror_mode": {
    "name": "ipython",
    "version": 3
   },
   "file_extension": ".py",
   "mimetype": "text/x-python",
   "name": "python",
   "nbconvert_exporter": "python",
   "pygments_lexer": "ipython3",
   "version": "3.5.2"
  }
 },
 "nbformat": 4,
 "nbformat_minor": 2
}
