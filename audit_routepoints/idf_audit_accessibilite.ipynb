{
 "cells": [
  {
   "cell_type": "code",
   "execution_count": 1,
   "metadata": {},
   "outputs": [],
   "source": [
    "import pandas as pd\n",
    "import geopandas\n",
    "import json\n",
    "import os\n",
    "from shapely.geometry import Point\n",
    "import difflib\n",
    "from geopy.distance import vincenty\n",
    "import numpy as np\n",
    "import matplotlib as mpl\n",
    "import matplotlib.pyplot as plt\n",
    "\n",
    "%matplotlib inline\n",
    "inline_rc = dict(mpl.rcParams)"
   ]
  },
  {
   "cell_type": "code",
   "execution_count": 2,
   "metadata": {},
   "outputs": [],
   "source": [
    "#in_folder = \"audits/2018_07/data/\"\n",
    "out_folder = \"audits/2018_11/images/\"\n",
    "in_folder = \"../data/\"\n",
    "#out_folder = \"/tmp\""
   ]
  },
  {
   "cell_type": "markdown",
   "metadata": {},
   "source": [
    "# Analyse quantitative sur les routepoints\n",
    "\n",
    "L'objectif est ici de déterminer combien de routepoints dans chaque jeu de données dispose d'informations sur l'accessibilité aux usagers de fauteuil roulant"
   ]
  },
  {
   "cell_type": "markdown",
   "metadata": {},
   "source": [
    "## Données officielles\n",
    "\n",
    "TODO : mettre un petit blabla pour expliquer les différentes valeurs possibles et sur quels objets on les trouve"
   ]
  },
  {
   "cell_type": "code",
   "execution_count": 3,
   "metadata": {},
   "outputs": [],
   "source": [
    "#préparation géographique des données officielles pour les routepoints\n",
    "gtfs_routepoints = pd.read_csv(os.path.join(in_folder,\"opendata_routepoints.csv\"), dtype=str)\n",
    "for c in gtfs_routepoints.columns:\n",
    "    new_col = \"gtfs_\" + c\n",
    "    gtfs_routepoints.rename(columns={c: new_col}, inplace=True)\n",
    "\n",
    "gtfs_routepoints = gtfs_routepoints.fillna(\"\")\n",
    "\n",
    "#gtfs_routepoints"
   ]
  },
  {
   "cell_type": "code",
   "execution_count": 4,
   "metadata": {},
   "outputs": [
    {
     "name": "stdout",
     "output_type": "stream",
     "text": [
      "sur un total de 103423 routepoints :\n"
     ]
    },
    {
     "data": {
      "text/plain": [
       "wheelchair\n",
       "accessibilité inconnue      69220\n",
       "accessible                  25642\n",
       "partiellement accessible     7622\n",
       "non accessible                939\n",
       "dtype: int64"
      ]
     },
     "execution_count": 4,
     "metadata": {},
     "output_type": "execute_result"
    }
   ],
   "source": [
    "\n",
    "def gtfs_wheelchair(row):\n",
    "    if row[\"gtfs_route_wheelchair\"] == \"\" or row[\"gtfs_stop_wheelchair\"] == \"\":\n",
    "        return \"accessibilité inconnue\"\n",
    "    if row[\"gtfs_route_wheelchair\"] == \"1\" and row[\"gtfs_stop_wheelchair\"] == \"1\":\n",
    "        return \"accessible\"\n",
    "    if row[\"gtfs_route_wheelchair\"] == \"0\" and row[\"gtfs_stop_wheelchair\"] == \"0\":\n",
    "        return \"non accessible\"\n",
    "    else :\n",
    "        return \"partiellement accessible\"\n",
    "\n",
    "gtfs_routepoints['wheelchair_'] = gtfs_routepoints.apply(gtfs_wheelchair, axis=1)\n",
    "gtfs_routepoints[\"wheelchair\"] = gtfs_routepoints[\"wheelchair_\"].astype(\"category\")\n",
    "gtfs_routepoints[\"wheelchair\"] = gtfs_routepoints[\"wheelchair\"].cat.set_categories([\"accessibilité inconnue\", \"accessible\", \"partiellement accessible\", \"non accessible\"])\n",
    "\n",
    "print('sur un total de {} routepoints :'.format(len(gtfs_routepoints)))\n",
    "gtfs_routepoints.groupby(\"wheelchair\").size()"
   ]
  },
  {
   "cell_type": "markdown",
   "metadata": {},
   "source": [
    "## Données OpenStreetMap\n",
    "\n",
    "TODO : idem, écrire un blabla pour expliquer les différentes valeurs possibles et sur quels objets on les trouve, et pourquoi on a choisi de garder juste stop et route."
   ]
  },
  {
   "cell_type": "code",
   "execution_count": 5,
   "metadata": {},
   "outputs": [],
   "source": [
    "#préparation géographique des données OSM pour les routepoints\n",
    "osm_routepoints = pd.read_csv(os.path.join(in_folder, \"osm_routepoints.csv\"), dtype=str)\n",
    "for c in osm_routepoints.columns:\n",
    "    new_col = \"osm_\" + c\n",
    "    osm_routepoints.rename(columns={c: new_col}, inplace=True)\n",
    "    \n",
    "osm_routepoints = osm_routepoints.fillna(\"\")"
   ]
  },
  {
   "cell_type": "code",
   "execution_count": 6,
   "metadata": {
    "scrolled": true
   },
   "outputs": [
    {
     "name": "stdout",
     "output_type": "stream",
     "text": [
      "sur un total de 35382 routepoints :\n"
     ]
    },
    {
     "data": {
      "text/plain": [
       "wheelchair\n",
       "accessibilité inconnue      33124\n",
       "accessible                   1450\n",
       "partiellement accessible      771\n",
       "non accessible                 37\n",
       "dtype: int64"
      ]
     },
     "execution_count": 6,
     "metadata": {},
     "output_type": "execute_result"
    }
   ],
   "source": [
    "\n",
    "def osm_wheelchair(row):\n",
    "    if row[\"osm_stop_wheelchair\"] == \"\" or row[\"osm_route_wheelchair\"] == \"\":\n",
    "        return \"accessibilité inconnue\"\n",
    "    if row[\"osm_stop_wheelchair\"] == \"yes\" and row[\"osm_route_wheelchair\"] == \"yes\":\n",
    "        return \"accessible\"\n",
    "    if row[\"osm_stop_wheelchair\"] == \"no\" and row[\"osm_route_wheelchair\"] == \"no\":\n",
    "        return \"non accessible\"\n",
    "    else :\n",
    "        return \"partiellement accessible\"\n",
    "\n",
    "osm_routepoints['wheelchair_'] = osm_routepoints.apply(osm_wheelchair, axis=1)\n",
    "osm_routepoints[\"wheelchair\"] = osm_routepoints[\"wheelchair_\"].astype(\"category\")\n",
    "osm_routepoints[\"wheelchair\"] = osm_routepoints[\"wheelchair\"].cat.set_categories([\"accessibilité inconnue\", \"accessible\", \"partiellement accessible\", \"non accessible\"])\n",
    "\n",
    "print('sur un total de {} routepoints :'.format(len(osm_routepoints)))\n",
    "osm_routepoints.groupby(\"wheelchair\").size()"
   ]
  }
 ],
 "metadata": {
  "kernelspec": {
   "display_name": "Python 3",
   "language": "python",
   "name": "python3"
  },
  "language_info": {
   "codemirror_mode": {
    "name": "ipython",
    "version": 3
   },
   "file_extension": ".py",
   "mimetype": "text/x-python",
   "name": "python",
   "nbconvert_exporter": "python",
   "pygments_lexer": "ipython3",
   "version": "3.5.2"
  }
 },
 "nbformat": 4,
 "nbformat_minor": 2
}
