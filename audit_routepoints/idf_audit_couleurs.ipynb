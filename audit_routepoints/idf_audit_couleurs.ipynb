{
 "cells": [
  {
   "cell_type": "code",
   "execution_count": 1,
   "metadata": {},
   "outputs": [],
   "source": [
    "import pandas as pd\n",
    "import geopandas\n",
    "import json\n",
    "import os\n",
    "from shapely.geometry import Point\n",
    "import difflib\n",
    "from geopy.distance import vincenty\n",
    "import numpy as np\n",
    "import matplotlib as mpl\n",
    "import matplotlib.pyplot as plt\n",
    "\n",
    "%matplotlib inline\n",
    "inline_rc = dict(mpl.rcParams)"
   ]
  },
  {
   "cell_type": "code",
   "execution_count": 2,
   "metadata": {},
   "outputs": [],
   "source": [
    "in_folder = \"audits/2019_02/data/\"\n",
    "out_folder = \"audits/2019_02/images/\"\n",
    "in_folder = \"../data/\"\n",
    "out_folder = \"/tmp\""
   ]
  },
  {
   "cell_type": "code",
   "execution_count": 3,
   "metadata": {},
   "outputs": [],
   "source": [
    "# on fusionne les lignes et les parcours, en conservant les ref STIF"
   ]
  },
  {
   "cell_type": "code",
   "execution_count": 4,
   "metadata": {},
   "outputs": [],
   "source": [
    "osm_lines = pd.read_csv(os.path.join(in_folder, \"osm-transit-extractor_lines.csv\"), dtype=str)\n",
    "osm_lines = osm_lines[osm_lines['mode'] == 'bus']\n"
   ]
  },
  {
   "cell_type": "code",
   "execution_count": 5,
   "metadata": {},
   "outputs": [],
   "source": [
    "osm_line_route = pd.read_csv(os.path.join(in_folder, \"osm-transit-extractor_line_routes.csv\"), dtype=str)\n",
    "osm_lines.rename(columns={'colour': 'line_colour'}, inplace=True)\n",
    "\n",
    "result = pd.merge(osm_lines,osm_line_route, on='line_id')\n",
    "\n",
    "osm_lines = result[['route_id', 'osm:ref:FR:STIF:ExternalCode_Line', 'line_id', 'name', 'code', 'line_colour', 'operator', 'network']].copy()"
   ]
  },
  {
   "cell_type": "code",
   "execution_count": 6,
   "metadata": {},
   "outputs": [],
   "source": [
    "osm_routes = pd.read_csv(os.path.join(in_folder, \"osm-transit-extractor_routes.csv\"), dtype=str)\n",
    "osm_routes = osm_routes[['route_id', 'colour']].copy()\n",
    "osm_routes.rename(columns={'colour': 'route_colour'}, inplace=True)\n",
    "\n",
    "result = pd.merge(osm_lines,osm_routes, on='route_id')\n",
    "osm_lines = result[['osm:ref:FR:STIF:ExternalCode_Line', 'line_id', 'name', 'code', 'line_colour', 'route_colour', 'operator', 'network']].copy()"
   ]
  },
  {
   "cell_type": "code",
   "execution_count": 7,
   "metadata": {},
   "outputs": [],
   "source": [
    "def compute_colour(row):\n",
    "    if pd.isna(row['line_colour']):\n",
    "        colour = row['route_colour']\n",
    "    else :     \n",
    "        colour = row['line_colour']\n",
    "    return colour\n",
    "\n",
    "osm_lines['colour'] = osm_lines.apply(compute_colour, axis=1)"
   ]
  },
  {
   "cell_type": "code",
   "execution_count": 8,
   "metadata": {},
   "outputs": [
    {
     "data": {
      "text/plain": [
       "486"
      ]
     },
     "execution_count": 8,
     "metadata": {},
     "output_type": "execute_result"
    }
   ],
   "source": [
    "osm_lines.dropna(inplace=True)\n",
    "osm_lines = osm_lines[['osm:ref:FR:STIF:ExternalCode_Line', 'line_id', 'name', 'code', 'colour', 'operator', 'network']].copy()\n",
    "osm_lines.drop_duplicates(inplace=True) #jusque là, on avait des parcours, là, on retombe bien sur des lignes\n",
    "len(osm_lines)"
   ]
  },
  {
   "cell_type": "code",
   "execution_count": 9,
   "metadata": {},
   "outputs": [],
   "source": [
    "# GTFS"
   ]
  },
  {
   "cell_type": "code",
   "execution_count": 10,
   "metadata": {},
   "outputs": [
    {
     "data": {
      "text/plain": [
       "1710"
      ]
     },
     "execution_count": 10,
     "metadata": {},
     "output_type": "execute_result"
    }
   ],
   "source": [
    "gtfs_lines = pd.read_csv(os.path.join(in_folder, \"gtfs_routes.txt\"), dtype=str)\n",
    "gtfs_lines = gtfs_lines[gtfs_lines['route_type'] == '3']\n",
    "gtfs_lines['colour'] = \"#\" + gtfs_lines['route_color']\n",
    "gtfs_lines = gtfs_lines[['route_id','colour']].copy()\n",
    "gtfs_lines = gtfs_lines[gtfs_lines['colour']!='#000000'].copy()\n",
    "len(gtfs_lines)"
   ]
  },
  {
   "cell_type": "code",
   "execution_count": 11,
   "metadata": {},
   "outputs": [],
   "source": [
    "# on fusionne"
   ]
  },
  {
   "cell_type": "code",
   "execution_count": 12,
   "metadata": {},
   "outputs": [
    {
     "data": {
      "text/plain": [
       "466"
      ]
     },
     "execution_count": 12,
     "metadata": {},
     "output_type": "execute_result"
    }
   ],
   "source": [
    "gtfs_lines.rename(columns={'colour': 'gtfs_colour'}, inplace=True)\n",
    "osm_lines.rename(columns={'colour': 'osm_colour'}, inplace=True)\n",
    "\n",
    "\n",
    "result = pd.merge(osm_lines,gtfs_lines, right_on='route_id', left_on='osm:ref:FR:STIF:ExternalCode_Line')\n",
    "len(result)"
   ]
  },
  {
   "cell_type": "code",
   "execution_count": 13,
   "metadata": {},
   "outputs": [],
   "source": [
    "#result[result['osm_colour']!=result['gtfs_colour']]\n",
    "# TODO : faire un calcul de similarité de couleur ?"
   ]
  }
 ],
 "metadata": {
  "kernelspec": {
   "display_name": "Python 3",
   "language": "python",
   "name": "python3"
  },
  "language_info": {
   "codemirror_mode": {
    "name": "ipython",
    "version": 3
   },
   "file_extension": ".py",
   "mimetype": "text/x-python",
   "name": "python",
   "nbconvert_exporter": "python",
   "pygments_lexer": "ipython3",
   "version": "3.5.2"
  }
 },
 "nbformat": 4,
 "nbformat_minor": 2
}
