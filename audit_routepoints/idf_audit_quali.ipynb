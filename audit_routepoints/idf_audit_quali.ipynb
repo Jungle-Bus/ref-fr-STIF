{
 "cells": [
  {
   "cell_type": "markdown",
   "metadata": {},
   "source": [
    "# Analyse qualitative\n",
    "\n",
    "Uniquement sur les données où les référentiels d'Île-de-France ont été intégrés"
   ]
  },
  {
   "cell_type": "code",
   "execution_count": 1,
   "metadata": {},
   "outputs": [],
   "source": [
    "import pandas as pd\n",
    "import os\n",
    "import json\n",
    "from shapely.geometry import Point\n",
    "import difflib\n",
    "from geopy.distance import vincenty\n",
    "import numpy as np\n",
    "import matplotlib as mpl\n",
    "import matplotlib.pyplot as plt\n",
    "\n",
    "%matplotlib inline\n",
    "inline_rc = dict(mpl.rcParams)\n",
    "\n"
   ]
  },
  {
   "cell_type": "code",
   "execution_count": 2,
   "metadata": {},
   "outputs": [],
   "source": [
    "#in_folder = \"audits/2018_04/data/\"\n",
    "in_folder = \"../data/\"\n",
    "#out_folder = \"/tmp/\"\n",
    "out_folder = \"audits/2018_07/images/\""
   ]
  },
  {
   "cell_type": "markdown",
   "metadata": {},
   "source": [
    "## Mapping des routepoints (reflex, coddifligne, terminus)"
   ]
  },
  {
   "cell_type": "markdown",
   "metadata": {},
   "source": [
    "Chargement des routepoints OSM et GTFS"
   ]
  },
  {
   "cell_type": "code",
   "execution_count": 3,
   "metadata": {},
   "outputs": [
    {
     "name": "stdout",
     "output_type": "stream",
     "text": [
      "On a 23084 routepoints dans OSM et 71047 routepoints dans le GTFS\n"
     ]
    }
   ],
   "source": [
    "quali_osm_routepoints = pd.read_csv(os.path.join(in_folder, \"osm_routepoints_for_matching.csv\"), dtype=str)\n",
    "for c in quali_osm_routepoints.columns:\n",
    "    new_col = \"osm_\" + c\n",
    "    quali_osm_routepoints.rename(columns={c: new_col}, inplace=True)\n",
    "\n",
    "gtfs_routepoints = pd.read_csv(os.path.join(in_folder, \"opendata_routepoints.csv\"), dtype=str)\n",
    "for c in gtfs_routepoints.columns:\n",
    "    new_col = \"gtfs_\" + c\n",
    "    gtfs_routepoints.rename(columns={c: new_col}, inplace=True)\n",
    "    \n",
    "print(\"On a {:d} routepoints dans OSM et {:d} routepoints dans le GTFS\".format(quali_osm_routepoints.shape[0], gtfs_routepoints.shape[0]))\n",
    "\n"
   ]
  },
  {
   "cell_type": "markdown",
   "metadata": {},
   "source": [
    "On fusionne les routepoints par code REFLEX, Codifligne et on calcule la correspondance de terminus"
   ]
  },
  {
   "cell_type": "code",
   "execution_count": 4,
   "metadata": {
    "scrolled": true
   },
   "outputs": [
    {
     "data": {
      "text/plain": [
       "<matplotlib.axes._subplots.AxesSubplot at 0x7f2eed7ff438>"
      ]
     },
     "execution_count": 4,
     "metadata": {},
     "output_type": "execute_result"
    },
    {
     "data": {
      "image/png": "[encoded data removed]",
      "text/plain": [
       "<Figure size 432x288 with 1 Axes>"
      ]
     },
     "metadata": {},
     "output_type": "display_data"
    }
   ],
   "source": [
    "quali_gtfs_routepoints = gtfs_routepoints.copy().fillna(\"\")\n",
    "quali_gtfs_routepoints = quali_gtfs_routepoints[quali_gtfs_routepoints['gtfs_ZDEr_ID_REF_A'] != '']\n",
    "\n",
    "#on fusionne sur les codes d'arrêts et les codes de lignes\n",
    "quali_routepoints = quali_gtfs_routepoints.merge(\n",
    "                    quali_osm_routepoints, how='inner', \n",
    "                    right_on=[\"osm_osm:ref:FR:STIF\", \"osm_osm:ref:FR:STIF:ExternalCode_Line\"],\n",
    "                    left_on=[\"gtfs_ZDEr_ID_REF_A\", \"gtfs_route_id\"]\n",
    "               )\n",
    "quali_routepoints.fillna(\"\", inplace=True)\n",
    "\n",
    "def compute_similarity_lower(elem1, elem2):\n",
    "    return difflib.SequenceMatcher(None, elem1.lower(), elem2.lower()).ratio()\n",
    "\n",
    "def compute_similarity(elem1, elem2):\n",
    "    return difflib.SequenceMatcher(None, elem1, elem2).ratio()\n",
    "\n",
    "#on fusionne sur les terminus de lignes\n",
    "quali_routepoints['destination_confidence'] = quali_routepoints[['osm_destination','gtfs_dest_name']].apply(lambda x: compute_similarity_lower(*x), axis=1)\n",
    "quali_routepoints['destination_confidence'].hist()\n"
   ]
  },
  {
   "cell_type": "markdown",
   "metadata": {},
   "source": [
    "**Pour la suite, on ne conserve que les routepoints qui matchent à 60% et plus**"
   ]
  },
  {
   "cell_type": "code",
   "execution_count": 5,
   "metadata": {},
   "outputs": [],
   "source": [
    "quali_routepoints_filtered = quali_routepoints[quali_routepoints['destination_confidence'] >= 0.6].copy()\n",
    "\"{:d} routepoints matchant à plus de 60%\".format(quali_routepoints_filtered.shape[0])\n",
    "\n",
    "quali_routepoints_filtered_export = quali_routepoints_filtered[['gtfs_stop_id', 'gtfs_route_id', 'gtfs_ZDEr_ID_REF_A', 'gtfs_dest_name', 'gtfs_stop_name',\n",
    "                         'osm_stop_id', 'osm_osm:ref:FR:STIF:ExternalCode_Line','osm_osm:ref:FR:STIF', 'osm_destination', 'osm_name']]\n",
    "\n",
    "quali_routepoints_filtered_export.to_csv(os.path.join(out_folder, 'mapping_des_routepoints.csv'))"
   ]
  },
  {
   "cell_type": "code",
   "execution_count": 6,
   "metadata": {},
   "outputs": [
    {
     "data": {
      "text/plain": [
       "\"Pourcentage de routepoints qu'on considère pour la suite : 20.21337987529382\""
      ]
     },
     "execution_count": 6,
     "metadata": {},
     "output_type": "execute_result"
    }
   ],
   "source": [
    "tt = len(quali_routepoints_filtered) * 100.0 / len(gtfs_routepoints)\n",
    "\"Pourcentage de routepoints qu'on considère pour la suite : {}\".format(tt)"
   ]
  },
  {
   "cell_type": "markdown",
   "metadata": {},
   "source": [
    "NB : le matching sur les terminus est loin d'être parfait. Pour de meilleurs résultats, il faudrait :\n",
    "* soit un référentiel officiel des parcours (qui pourrait être importé dans les données OSM)\n",
    "* soit établir un tableau de correspondance entre les terminus\n",
    "\n",
    "(cf quelques contrexemples ci-dessous)"
   ]
  },
  {
   "cell_type": "code",
   "execution_count": 7,
   "metadata": {},
   "outputs": [
    {
     "data": {
      "text/plain": [
       "0.4"
      ]
     },
     "execution_count": 7,
     "metadata": {},
     "output_type": "execute_result"
    }
   ],
   "source": [
    "difflib.SequenceMatcher(None, 'A. Lebrun', '').ratio() #0\n",
    "difflib.SequenceMatcher(None, 'Sucy-Bonneuil RER', 'Gare de Sucy-Bonneuil').ratio() # 0.68\n",
    "difflib.SequenceMatcher(None, 'Cimetière', 'Cimetière de Saint-Maur-des-Fossés').ratio() #0.41\n",
    "difflib.SequenceMatcher(None, 'A. Lebrun', 'Auguste Lebrun').ratio() #0.69\n",
    "difflib.SequenceMatcher(None, 'Saint-Maur Créteil', 'SAINT-MAUR - CRETEIL RER').ratio() #0.23\n",
    "difflib.SequenceMatcher(None, 'Saint-Maur Créteil'.lower(), 'SAINT-MAUR - CRETEIL RER'.lower()).ratio() #0.80\n",
    "\n",
    "difflib.SequenceMatcher(None, 'Gare de Laplace (Arcueil)', 'Arcueil Laplace RER').ratio() # 0.5\n",
    "difflib.SequenceMatcher(None, 'Noisy-le-Roi - Centre Commercial le Cèdre', 'Centre commercial').ratio() #0.55\n",
    "difflib.SequenceMatcher(None, 'Massy', 'Gare RER Massy Palaiseau').ratio() #0.34\n",
    "difflib.SequenceMatcher(None, 'Gare de La Verrière', 'LA VERRIERE NOCTILIEN'.lower()).ratio() #0.4"
   ]
  },
  {
   "cell_type": "code",
   "execution_count": 8,
   "metadata": {},
   "outputs": [
    {
     "name": "stdout",
     "output_type": "stream",
     "text": [
      "Nombre total de parcours en utilisant les destinations pour les séparer des lignes :\n"
     ]
    },
    {
     "data": {
      "text/plain": [
       "3550"
      ]
     },
     "execution_count": 8,
     "metadata": {},
     "output_type": "execute_result"
    }
   ],
   "source": [
    "print('Nombre total de parcours en utilisant les destinations pour les séparer des lignes :')\n",
    "len(gtfs_routepoints.groupby(['gtfs_route_id','gtfs_dest_name']).size())"
   ]
  },
  {
   "cell_type": "markdown",
   "metadata": {},
   "source": [
    "## Mesures qualitatives"
   ]
  },
  {
   "cell_type": "markdown",
   "metadata": {},
   "source": [
    "## Analyse des codes de ligne"
   ]
  },
  {
   "cell_type": "code",
   "execution_count": 9,
   "metadata": {},
   "outputs": [
    {
     "data": {
      "text/plain": [
       "<matplotlib.axes._subplots.AxesSubplot at 0x7f2ef05c6c50>"
      ]
     },
     "execution_count": 9,
     "metadata": {},
     "output_type": "execute_result"
    },
    {
     "data": {
      "image/png": "[encoded data removed]",
      "text/plain": [
       "<Figure size 432x288 with 1 Axes>"
      ]
     },
     "metadata": {},
     "output_type": "display_data"
    }
   ],
   "source": [
    "# différences sur les codes de ligne\n",
    "quali_routepoints_filtered['line_code_confidence'] = quali_routepoints_filtered[['osm_code','gtfs_route_short_name']].apply(lambda x: compute_similarity(*x), axis=1)\n",
    "quali_routepoints_filtered[\"line_code_confidence_rounded\"] = quali_routepoints_filtered[\"line_code_confidence\"].round(1) * 100\n",
    "\n",
    "# quali_routepoints_and_line_volume\n",
    "quali_routepoints_filtered['line_code_confidence'].hist()"
   ]
  },
  {
   "cell_type": "code",
   "execution_count": 10,
   "metadata": {},
   "outputs": [
    {
     "data": {
      "image/png": "[encoded data removed]",
      "text/plain": [
       "<Figure size 432x288 with 1 Axes>"
      ]
     },
     "metadata": {},
     "output_type": "display_data"
    }
   ],
   "source": [
    "routepoints_count_total = quali_routepoints_filtered.shape[0]\n",
    "routepoints_count_with_perfect_line_mapping = quali_routepoints_filtered[quali_routepoints_filtered[\"line_code_confidence_rounded\"] == 100].shape[0]\n",
    "routepoints_count_with_different_line_mapping = routepoints_count_total - routepoints_count_with_perfect_line_mapping\n",
    "labels = 'Code de ligne identique', 'Code de ligne différent'\n",
    "\n",
    "\n",
    "sizes = [routepoints_count_with_perfect_line_mapping/routepoints_count_total * 100, \n",
    "         routepoints_count_with_different_line_mapping/routepoints_count_total * 100]\n",
    "explode = (0, 0.2)\n",
    "\n",
    "mpl.rcParams.update(inline_rc) # reset du style \n",
    "plt.rcParams['font.family'] = 'serif'\n",
    "plt.rcParams['font.serif'] = 'Ubuntu'\n",
    "plt.rcParams['font.monospace'] = 'Ubuntu Mono'\n",
    "plt.rcParams['font.size'] = 20\n",
    "plt.rcParams['axes.labelsize'] = 16\n",
    "plt.rcParams['axes.labelweight'] = 'bold'\n",
    "plt.rcParams['axes.titlesize'] = 20\n",
    "plt.rcParams['xtick.labelsize'] = 12\n",
    "plt.rcParams['ytick.labelsize'] = 16\n",
    "plt.rcParams['legend.fontsize'] = 16\n",
    "plt.rcParams['figure.titlesize'] = 22\n",
    "fig1, ax1 = plt.subplots()\n",
    "ax1.set_title('Analyse de concordance des codes de lignes sur les routepoints')\n",
    "ax1.pie(sizes, explode=explode, labels=labels, autopct='%1.1f%%',\n",
    "        shadow=True, startangle=10)\n",
    "ax1.axis('equal')  # Equal aspect ratio ensures that pie is drawn as a circle.\n",
    "plt.savefig(os.path.join(out_folder, '11_routepoints_line_code_mapping_pie.png'), bbox_inches='tight')"
   ]
  },
  {
   "cell_type": "code",
   "execution_count": 11,
   "metadata": {},
   "outputs": [
    {
     "name": "stdout",
     "output_type": "stream",
     "text": [
      "Il y a 43 lignes qui ne correspondent pas sur un total de 428\n"
     ]
    },
    {
     "data": {
      "text/html": [
       "<div>\n",
       "<style scoped>\n",
       "    .dataframe tbody tr th:only-of-type {\n",
       "        vertical-align: middle;\n",
       "    }\n",
       "\n",
       "    .dataframe tbody tr th {\n",
       "        vertical-align: top;\n",
       "    }\n",
       "\n",
       "    .dataframe thead th {\n",
       "        text-align: right;\n",
       "    }\n",
       "</style>\n",
       "<table border=\"1\" class=\"dataframe\">\n",
       "  <thead>\n",
       "    <tr style=\"text-align: right;\">\n",
       "      <th></th>\n",
       "      <th>gtfs_route_short_name</th>\n",
       "      <th>osm_code</th>\n",
       "      <th>0</th>\n",
       "    </tr>\n",
       "  </thead>\n",
       "  <tbody>\n",
       "    <tr>\n",
       "      <th>0</th>\n",
       "      <td>05</td>\n",
       "      <td>5</td>\n",
       "      <td>60</td>\n",
       "    </tr>\n",
       "    <tr>\n",
       "      <th>1</th>\n",
       "      <td>100C</td>\n",
       "      <td>Express 100</td>\n",
       "      <td>1</td>\n",
       "    </tr>\n",
       "    <tr>\n",
       "      <th>2</th>\n",
       "      <td>4.</td>\n",
       "      <td>4</td>\n",
       "      <td>19</td>\n",
       "    </tr>\n",
       "    <tr>\n",
       "      <th>3</th>\n",
       "      <td>414</td>\n",
       "      <td>414D</td>\n",
       "      <td>16</td>\n",
       "    </tr>\n",
       "    <tr>\n",
       "      <th>4</th>\n",
       "      <td>78 EXPRES</td>\n",
       "      <td>78 Express</td>\n",
       "      <td>35</td>\n",
       "    </tr>\n",
       "  </tbody>\n",
       "</table>\n",
       "</div>"
      ],
      "text/plain": [
       "  gtfs_route_short_name     osm_code   0\n",
       "0                    05            5  60\n",
       "1                  100C  Express 100   1\n",
       "2                    4.            4  19\n",
       "3                   414         414D  16\n",
       "4             78 EXPRES   78 Express  35"
      ]
     },
     "execution_count": 11,
     "metadata": {},
     "output_type": "execute_result"
    }
   ],
   "source": [
    "routepoints_with_different_line_mapping = quali_routepoints_filtered[quali_routepoints_filtered[\"line_code_confidence_rounded\"] < 100]\n",
    "\n",
    "\n",
    "lines_with_different_line_mapping = pd.DataFrame(routepoints_with_different_line_mapping.groupby(['gtfs_route_short_name', 'osm_code']).size()).reset_index()\n",
    "print(\"Il y a {:d} lignes qui ne correspondent pas sur un total de {:d}\".format(\n",
    "    lines_with_different_line_mapping.shape[0],\n",
    "    pd.DataFrame(quali_routepoints_filtered.groupby(['gtfs_route_short_name', 'osm_code']).size()).shape[0]\n",
    "))\n",
    "lines_with_different_line_mapping.head()\n"
   ]
  },
  {
   "cell_type": "markdown",
   "metadata": {},
   "source": [
    "### Analyse des différence sur les noms des arrêts"
   ]
  },
  {
   "cell_type": "code",
   "execution_count": 12,
   "metadata": {},
   "outputs": [],
   "source": [
    "quali_routepoints_filtered['name_confidence'] = quali_routepoints_filtered[['osm_name','gtfs_stop_name']].apply(lambda x: compute_similarity(*x), axis=1)\n",
    "quali_routepoints_filtered[\"name_confidence_rounded\"] = quali_routepoints_filtered[\"name_confidence\"].round(1) * 100\n",
    "quali_routepoints_filtered['name_confidence_lower'] = quali_routepoints_filtered[['osm_name','gtfs_stop_name']].apply(lambda x: compute_similarity_lower(*x), axis=1)\n",
    "quali_routepoints_filtered[\"name_confidence_lower_rounded\"] = quali_routepoints_filtered[\"name_confidence_lower\"].round(1) * 100\n"
   ]
  },
  {
   "cell_type": "code",
   "execution_count": 13,
   "metadata": {},
   "outputs": [],
   "source": [
    "routepoints_count = quali_routepoints_filtered.shape[0]\n",
    "borne_identique = 0.9\n",
    "borne_proche = 0.7\n",
    "identiques = quali_routepoints_filtered[quali_routepoints_filtered['name_confidence'] >= borne_identique].shape[0]\n",
    "proches = quali_routepoints_filtered[\n",
    "    (quali_routepoints_filtered[\"name_confidence\"] < borne_identique) & \n",
    "    (quali_routepoints_filtered[\"name_confidence\"] >= borne_proche)].shape[0]\n",
    "differents = quali_routepoints_filtered[quali_routepoints_filtered[\"name_confidence\"] < borne_proche].shape[0]\n",
    "\n",
    "identiques_lower = quali_routepoints_filtered[quali_routepoints_filtered['name_confidence_lower'] >= borne_identique].shape[0]\n",
    "proches_lower = quali_routepoints_filtered[\n",
    "    (quali_routepoints_filtered[\"name_confidence_lower\"] < borne_identique) & \n",
    "    (quali_routepoints_filtered[\"name_confidence_lower\"] >= borne_proche)].shape[0]\n",
    "differents_lower = quali_routepoints_filtered[quali_routepoints_filtered[\"name_confidence_lower\"] < borne_proche].shape[0]\n",
    "\n",
    "#quali_routepoints_filtered[quali_routepoints_filtered['name_confidence'] >= borne_proche].sort_values(\"name_confidence\")"
   ]
  },
  {
   "cell_type": "code",
   "execution_count": 14,
   "metadata": {},
   "outputs": [
    {
     "data": {
      "image/png": "[encoded data removed]",
      "text/plain": [
       "<Figure size 432x288 with 1 Axes>"
      ]
     },
     "metadata": {},
     "output_type": "display_data"
    }
   ],
   "source": [
    "sizes = [identiques/routepoints_count * 100, \n",
    "         proches/routepoints_count * 100,\n",
    "         differents/routepoints_count * 100]\n",
    "sizes_lower = [identiques_lower/routepoints_count * 100, \n",
    "         proches_lower/routepoints_count * 100,\n",
    "         differents_lower/routepoints_count * 100]\n",
    "explode = (0.1, 0, 0)\n",
    "colors = ['yellowgreen', 'gold', 'lightcoral']\n",
    "labels = 'Identiques', 'Proches', 'Différents'\n",
    "\n",
    "fig1, ax1 = plt.subplots()\n",
    "plt.rcParams['font.size'] = 16\n",
    "\n",
    "ax1.set_title('Similitude entre les noms des arrêts')\n",
    "ax1.pie(sizes, explode=explode, labels=labels, autopct='%1.1f%%',\n",
    "        colors=colors,\n",
    "        shadow=True, startangle=90, pctdistance=0.8)\n",
    "ax1.axis('equal')  # Equal aspect ratio ensures that pie is drawn as a circle.\n",
    "\n",
    "plt.savefig(os.path.join(out_folder,'12_routepoints_name_mapping_pie.png'), bbox_inches='tight')"
   ]
  },
  {
   "cell_type": "code",
   "execution_count": 15,
   "metadata": {},
   "outputs": [
    {
     "data": {
      "image/png": "[encoded data removed]",
      "text/plain": [
       "<Figure size 432x288 with 1 Axes>"
      ]
     },
     "metadata": {},
     "output_type": "display_data"
    }
   ],
   "source": [
    "fig1, ax1 = plt.subplots()\n",
    "plt.rcParams['font.size'] = 16\n",
    "\n",
    "ax1.set_title('Similitude entre les noms des arrêts (sans casse)')\n",
    "ax1.pie(sizes_lower, explode=explode, labels=labels, autopct='%1.1f%%',\n",
    "        colors=colors,\n",
    "        shadow=True, startangle=90, pctdistance=0.8)\n",
    "ax1.axis('equal')  # Equal aspect ratio ensures that pie is drawn as a circle.\n",
    "\n",
    "plt.savefig(os.path.join(out_folder,'12_routepoints_name_mapping_pie_lower.png'), bbox_inches='tight')"
   ]
  },
  {
   "cell_type": "markdown",
   "metadata": {},
   "source": [
    "Visualisation de quelques cas les plus différents (avec majuscules)"
   ]
  },
  {
   "cell_type": "code",
   "execution_count": 16,
   "metadata": {},
   "outputs": [
    {
     "data": {
      "text/html": [
       "<div>\n",
       "<style scoped>\n",
       "    .dataframe tbody tr th:only-of-type {\n",
       "        vertical-align: middle;\n",
       "    }\n",
       "\n",
       "    .dataframe tbody tr th {\n",
       "        vertical-align: top;\n",
       "    }\n",
       "\n",
       "    .dataframe thead th {\n",
       "        text-align: right;\n",
       "    }\n",
       "</style>\n",
       "<table border=\"1\" class=\"dataframe\">\n",
       "  <thead>\n",
       "    <tr style=\"text-align: right;\">\n",
       "      <th></th>\n",
       "      <th>gtfs_stop_name</th>\n",
       "      <th>osm_name</th>\n",
       "    </tr>\n",
       "  </thead>\n",
       "  <tbody>\n",
       "    <tr>\n",
       "      <th>14180</th>\n",
       "      <td>SURESNES-DE GAULLE</td>\n",
       "      <td>Suresnes - De Gaulle</td>\n",
       "    </tr>\n",
       "    <tr>\n",
       "      <th>3967</th>\n",
       "      <td>GYMNASE</td>\n",
       "      <td>Gymnase</td>\n",
       "    </tr>\n",
       "    <tr>\n",
       "      <th>12574</th>\n",
       "      <td>MAIRIE DU 15E</td>\n",
       "      <td>Mairie du 15e</td>\n",
       "    </tr>\n",
       "    <tr>\n",
       "      <th>11803</th>\n",
       "      <td>RUBENS - ECOLE DES ARTS ET METIERS</td>\n",
       "      <td>Rubens - École des Arts et Métiers</td>\n",
       "    </tr>\n",
       "    <tr>\n",
       "      <th>19246</th>\n",
       "      <td>SAINT-CHRISTOPHE</td>\n",
       "      <td>Saint-Christophe</td>\n",
       "    </tr>\n",
       "  </tbody>\n",
       "</table>\n",
       "</div>"
      ],
      "text/plain": [
       "                           gtfs_stop_name                            osm_name\n",
       "14180                  SURESNES-DE GAULLE                Suresnes - De Gaulle\n",
       "3967                              GYMNASE                             Gymnase\n",
       "12574                       MAIRIE DU 15E                       Mairie du 15e\n",
       "11803  RUBENS - ECOLE DES ARTS ET METIERS  Rubens - École des Arts et Métiers\n",
       "19246                    SAINT-CHRISTOPHE                    Saint-Christophe"
      ]
     },
     "execution_count": 16,
     "metadata": {},
     "output_type": "execute_result"
    }
   ],
   "source": [
    "quali_routepoints_filtered_ = quali_routepoints_filtered[quali_routepoints_filtered['name_confidence'] < 0.5]\n",
    "quali_routepoints_filtered_ = quali_routepoints_filtered_[['gtfs_stop_name', 'osm_name']]\n",
    "grouped = quali_routepoints_filtered_.groupby(['gtfs_stop_name', 'osm_name'])\n",
    "index = [gp_keys[0] for gp_keys in grouped.groups.values()]\n",
    "quali_unique_df = quali_routepoints_filtered_.reindex(index)\n",
    "quali_unique_df.head()"
   ]
  },
  {
   "cell_type": "markdown",
   "metadata": {},
   "source": [
    "VIsualisation des cas les plus différents (sans majuscules)"
   ]
  },
  {
   "cell_type": "code",
   "execution_count": 17,
   "metadata": {},
   "outputs": [
    {
     "data": {
      "text/html": [
       "<div>\n",
       "<style scoped>\n",
       "    .dataframe tbody tr th:only-of-type {\n",
       "        vertical-align: middle;\n",
       "    }\n",
       "\n",
       "    .dataframe tbody tr th {\n",
       "        vertical-align: top;\n",
       "    }\n",
       "\n",
       "    .dataframe thead th {\n",
       "        text-align: right;\n",
       "    }\n",
       "</style>\n",
       "<table border=\"1\" class=\"dataframe\">\n",
       "  <thead>\n",
       "    <tr style=\"text-align: right;\">\n",
       "      <th></th>\n",
       "      <th>gtfs_stop_name</th>\n",
       "      <th>osm_name</th>\n",
       "    </tr>\n",
       "  </thead>\n",
       "  <tbody>\n",
       "    <tr>\n",
       "      <th>24550</th>\n",
       "      <td>Place</td>\n",
       "      <td>Place du 14 Juillet</td>\n",
       "    </tr>\n",
       "    <tr>\n",
       "      <th>20932</th>\n",
       "      <td>TOURELLE-METRO</td>\n",
       "      <td>Saint-Mandé - Tourelle</td>\n",
       "    </tr>\n",
       "    <tr>\n",
       "      <th>26233</th>\n",
       "      <td>Mairie de Soisy s/Seine</td>\n",
       "      <td>Mairie</td>\n",
       "    </tr>\n",
       "    <tr>\n",
       "      <th>24822</th>\n",
       "      <td>POSTE</td>\n",
       "      <td>Cité Judiciaire</td>\n",
       "    </tr>\n",
       "    <tr>\n",
       "      <th>16986</th>\n",
       "      <td>MARCHE DE PONTAULT-COMBAULT</td>\n",
       "      <td>Marché</td>\n",
       "    </tr>\n",
       "    <tr>\n",
       "      <th>18397</th>\n",
       "      <td>AEROPORT CHARLES DE GAULLE (T3-ROISSYPOLE)</td>\n",
       "      <td>Roissypole Gare RER</td>\n",
       "    </tr>\n",
       "    <tr>\n",
       "      <th>4743</th>\n",
       "      <td>Centre Commercial de l'Oseraie</td>\n",
       "      <td>Oseraie</td>\n",
       "    </tr>\n",
       "    <tr>\n",
       "      <th>2192</th>\n",
       "      <td>Aéroport CDG1 RER B</td>\n",
       "      <td>Roissypole</td>\n",
       "    </tr>\n",
       "    <tr>\n",
       "      <th>22652</th>\n",
       "      <td>Hopital</td>\n",
       "      <td>Hôpital de Gonesse</td>\n",
       "    </tr>\n",
       "    <tr>\n",
       "      <th>5024</th>\n",
       "      <td>Mairie</td>\n",
       "      <td>Mairie de Mantes la Ville</td>\n",
       "    </tr>\n",
       "  </tbody>\n",
       "</table>\n",
       "</div>"
      ],
      "text/plain": [
       "                                   gtfs_stop_name                   osm_name\n",
       "24550                                       Place        Place du 14 Juillet\n",
       "20932                              TOURELLE-METRO     Saint-Mandé - Tourelle\n",
       "26233                     Mairie de Soisy s/Seine                     Mairie\n",
       "24822                                       POSTE            Cité Judiciaire\n",
       "16986                 MARCHE DE PONTAULT-COMBAULT                     Marché\n",
       "18397  AEROPORT CHARLES DE GAULLE (T3-ROISSYPOLE)        Roissypole Gare RER\n",
       "4743               Centre Commercial de l'Oseraie                    Oseraie\n",
       "2192                          Aéroport CDG1 RER B                 Roissypole\n",
       "22652                                     Hopital         Hôpital de Gonesse\n",
       "5024                                       Mairie  Mairie de Mantes la Ville"
      ]
     },
     "execution_count": 17,
     "metadata": {},
     "output_type": "execute_result"
    }
   ],
   "source": [
    "quali_routepoints_filtered_ = quali_routepoints_filtered[quali_routepoints_filtered['name_confidence_lower'] < 0.5]\n",
    "quali_routepoints_filtered_ = quali_routepoints_filtered_[['gtfs_stop_name', 'osm_name']]\n",
    "grouped = quali_routepoints_filtered_.groupby(['gtfs_stop_name', 'osm_name'])\n",
    "index = [gp_keys[0] for gp_keys in grouped.groups.values()]\n",
    "quali_unique_df = quali_routepoints_filtered_.reindex(index)\n",
    "quali_unique_df.head(10)"
   ]
  },
  {
   "cell_type": "markdown",
   "metadata": {},
   "source": [
    "### Analyse des distances "
   ]
  },
  {
   "cell_type": "code",
   "execution_count": 18,
   "metadata": {},
   "outputs": [],
   "source": [
    "def compute_distance(row):\n",
    "    dist = vincenty(\n",
    "        (float(row['osm_lat']), float(row['osm_lon'])), \n",
    "        (float(row['gtfs_stop_lat']), float(row['gtfs_stop_lon']))\n",
    "    )\n",
    "    return dist.meters\n",
    "   \n",
    "quali_routepoints_filtered['distance'] = quali_routepoints_filtered.apply(compute_distance, axis=1)\n",
    "#uali_routepoints_filtered['distance'].hist()"
   ]
  },
  {
   "cell_type": "code",
   "execution_count": 19,
   "metadata": {},
   "outputs": [
    {
     "data": {
      "image/png": "[encoded data removed]",
      "text/plain": [
       "<Figure size 432x288 with 1 Axes>"
      ]
     },
     "metadata": {},
     "output_type": "display_data"
    }
   ],
   "source": [
    "routepoints_count = quali_routepoints_filtered.shape[0]\n",
    "labels = 'moins de 20m', 'de 20m à 70m', 'de 70m à 150m', 'plus de 150m'\n",
    "count_moins_20 = quali_routepoints_filtered[quali_routepoints_filtered[\"distance\"] < 20].shape[0]\n",
    "count_20_70 = quali_routepoints_filtered[(quali_routepoints_filtered[\"distance\"] >= 20) & (quali_routepoints_filtered[\"distance\"] < 70)].shape[0]\n",
    "count_70_150 = quali_routepoints_filtered[(quali_routepoints_filtered[\"distance\"] >= 70) & (quali_routepoints_filtered[\"distance\"] < 150)].shape[0]\n",
    "count_plus_150 = quali_routepoints_filtered[quali_routepoints_filtered[\"distance\"] >= 150].shape[0]\n",
    "\n",
    "sizes = [count_moins_20/routepoints_count * 100, \n",
    "         count_20_70/routepoints_count * 100,\n",
    "         count_70_150/routepoints_count * 100,\n",
    "         count_plus_150/routepoints_count * 100]\n",
    "explode = (0, 0, 0.1, 0.4)\n",
    "\n",
    "fig1, ax1 = plt.subplots()\n",
    "plt.rcParams['font.size'] = 16\n",
    "\n",
    "ax1.set_title('Distance entre les arrêts officiels et OSM')\n",
    "ax1.pie(sizes, explode=explode, labels=labels, autopct='%1.1f%%',\n",
    "        shadow=True, startangle=10, pctdistance=0.8)\n",
    "ax1.axis('equal')  # Equal aspect ratio ensures that pie is drawn as a circle.\n",
    "\n",
    "plt.savefig(os.path.join(out_folder,'14_routepoints_distance_pie_V2.png'), bbox_inches='tight')"
   ]
  },
  {
   "cell_type": "code",
   "execution_count": 20,
   "metadata": {},
   "outputs": [
    {
     "name": "stdout",
     "output_type": "stream",
     "text": [
      "Distance max : 15963.264681\n",
      "Distance moyenne : 19.975411\n",
      "Distance médiane : 9.046403\n"
     ]
    }
   ],
   "source": [
    "print(\"Distance max : {:f}\".format(quali_routepoints_filtered['distance'].max()))\n",
    "print(\"Distance moyenne : {:f}\".format(quali_routepoints_filtered['distance'].mean()))\n",
    "print(\"Distance médiane : {:f}\".format(quali_routepoints_filtered['distance'].median()))\n"
   ]
  },
  {
   "cell_type": "code",
   "execution_count": 21,
   "metadata": {},
   "outputs": [
    {
     "name": "stdout",
     "output_type": "stream",
     "text": [
      "Nombre de routepoints à plus de 70m : 616\n"
     ]
    }
   ],
   "source": [
    "routepoints_bad_position = quali_routepoints_filtered[quali_routepoints_filtered['distance'] > 70].copy()\n",
    "print(\"Nombre de routepoints à plus de 70m : {:d}\".format(len(routepoints_bad_position)))"
   ]
  },
  {
   "cell_type": "code",
   "execution_count": 22,
   "metadata": {},
   "outputs": [
    {
     "name": "stdout",
     "output_type": "stream",
     "text": [
      "Nombre de stoppoints du GTFS à plus de 70m : 441\n"
     ]
    }
   ],
   "source": [
    "print(\"Nombre de stoppoints du GTFS à plus de 70m : {:d}\".format(\n",
    "    len(routepoints_bad_position.groupby(['gtfs_stop_id'])[[\"distance\"]].count()))\n",
    ")"
   ]
  },
  {
   "cell_type": "code",
   "execution_count": 23,
   "metadata": {},
   "outputs": [],
   "source": [
    "routepoints_bad_position_export = routepoints_bad_position[['gtfs_stop_id', 'gtfs_route_id', 'gtfs_ZDEr_ID_REF_A', 'gtfs_dest_name', 'gtfs_stop_name',\n",
    "                         'osm_stop_id', 'osm_osm:ref:FR:STIF:ExternalCode_Line','osm_osm:ref:FR:STIF', 'osm_destination', 'osm_name',\n",
    "                              'distance']]\n",
    "routepoints_bad_position_export.to_csv(os.path.join(out_folder, 'écart_positions_routepoints.csv'))"
   ]
  }
 ],
 "metadata": {
  "kernelspec": {
   "display_name": "Python 3",
   "language": "python",
   "name": "python3"
  },
  "language_info": {
   "codemirror_mode": {
    "name": "ipython",
    "version": 3
   },
   "file_extension": ".py",
   "mimetype": "text/x-python",
   "name": "python",
   "nbconvert_exporter": "python",
   "pygments_lexer": "ipython3",
   "version": "3.5.2"
  }
 },
 "nbformat": 4,
 "nbformat_minor": 2
}
