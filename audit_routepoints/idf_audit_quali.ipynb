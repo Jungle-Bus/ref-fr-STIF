{
 "cells": [
  {
   "cell_type": "markdown",
   "metadata": {},
   "source": [
    "# Analyse qualitative\n",
    "\n",
    "Uniquement sur les données où les référentiels d'Île-de-France ont été intégrés"
   ]
  },
  {
   "cell_type": "code",
   "execution_count": 1,
   "metadata": {},
   "outputs": [],
   "source": [
    "import pandas as pd\n",
    "import os\n",
    "import json\n",
    "from shapely.geometry import Point\n",
    "import difflib\n",
    "from geopy.distance import vincenty\n",
    "import numpy as np\n",
    "import matplotlib as mpl\n",
    "import matplotlib.pyplot as plt\n",
    "\n",
    "%matplotlib inline\n",
    "inline_rc = dict(mpl.rcParams)\n",
    "\n"
   ]
  },
  {
   "cell_type": "code",
   "execution_count": 2,
   "metadata": {},
   "outputs": [],
   "source": [
    "#in_folder = \"audits/2018_04/data/\"\n",
    "#out_folder = \"audits/2018_04/images/\"\n",
    "in_folder = \"../data/\"\n",
    "out_folder = \"/tmp/\""
   ]
  },
  {
   "cell_type": "markdown",
   "metadata": {},
   "source": [
    "## Mapping des routepoints (reflex, coddifligne, terminus)"
   ]
  },
  {
   "cell_type": "markdown",
   "metadata": {},
   "source": [
    "Chargement des routepoints OSM et GTFS"
   ]
  },
  {
   "cell_type": "code",
   "execution_count": 3,
   "metadata": {},
   "outputs": [
    {
     "name": "stdout",
     "output_type": "stream",
     "text": [
      "On a 11595 routepoints dans OSM et 103087 routepoints dans le GTFS\n"
     ]
    }
   ],
   "source": [
    "quali_osm_routepoints = pd.read_csv(os.path.join(in_folder, \"osm_routepoints_for_matching.csv\"), dtype=str)\n",
    "for c in quali_osm_routepoints.columns:\n",
    "    new_col = \"osm_\" + c\n",
    "    quali_osm_routepoints.rename(columns={c: new_col}, inplace=True)\n",
    "\n",
    "gtfs_routepoints = pd.read_csv(os.path.join(in_folder, \"opendata_routepoints.csv\"), dtype=str)\n",
    "for c in gtfs_routepoints.columns:\n",
    "    new_col = \"gtfs_\" + c\n",
    "    gtfs_routepoints.rename(columns={c: new_col}, inplace=True)\n",
    "    \n",
    "print(\"On a {:d} routepoints dans OSM et {:d} routepoints dans le GTFS\".format(quali_osm_routepoints.shape[0], gtfs_routepoints.shape[0]))\n",
    "\n"
   ]
  },
  {
   "cell_type": "code",
   "execution_count": 4,
   "metadata": {},
   "outputs": [
    {
     "data": {
      "text/html": [
       "<div>\n",
       "<style scoped>\n",
       "    .dataframe tbody tr th:only-of-type {\n",
       "        vertical-align: middle;\n",
       "    }\n",
       "\n",
       "    .dataframe tbody tr th {\n",
       "        vertical-align: top;\n",
       "    }\n",
       "\n",
       "    .dataframe thead th {\n",
       "        text-align: right;\n",
       "    }\n",
       "</style>\n",
       "<table border=\"1\" class=\"dataframe\">\n",
       "  <thead>\n",
       "    <tr style=\"text-align: right;\">\n",
       "      <th></th>\n",
       "      <th>osm_osm:ref:FR:STIF</th>\n",
       "      <th>osm_osm:ref:FR:STIF:ExternalCode_Line</th>\n",
       "      <th>osm_stop_id</th>\n",
       "      <th>gtfs_route_id</th>\n",
       "    </tr>\n",
       "  </thead>\n",
       "  <tbody>\n",
       "    <tr>\n",
       "      <th>104916</th>\n",
       "      <td>38508</td>\n",
       "      <td>014014030:30D</td>\n",
       "      <td>StopPoint:Node:5320764715</td>\n",
       "      <td></td>\n",
       "    </tr>\n",
       "    <tr>\n",
       "      <th>104917</th>\n",
       "      <td>423960</td>\n",
       "      <td>014014030:30D</td>\n",
       "      <td>StopPoint:Node:5326079506</td>\n",
       "      <td></td>\n",
       "    </tr>\n",
       "    <tr>\n",
       "      <th>104918</th>\n",
       "      <td>38519</td>\n",
       "      <td>014014030:30D</td>\n",
       "      <td>StopPoint:Node:5326079505</td>\n",
       "      <td></td>\n",
       "    </tr>\n",
       "    <tr>\n",
       "      <th>104919</th>\n",
       "      <td>37968</td>\n",
       "      <td>014014030:30D</td>\n",
       "      <td>StopPoint:Node:5320764709</td>\n",
       "      <td></td>\n",
       "    </tr>\n",
       "    <tr>\n",
       "      <th>104920</th>\n",
       "      <td>38698</td>\n",
       "      <td>014014030:30D</td>\n",
       "      <td>StopPoint:Node:837540002</td>\n",
       "      <td></td>\n",
       "    </tr>\n",
       "    <tr>\n",
       "      <th>104921</th>\n",
       "      <td>38670</td>\n",
       "      <td>014014030:30D</td>\n",
       "      <td>StopPoint:Node:837539998</td>\n",
       "      <td></td>\n",
       "    </tr>\n",
       "    <tr>\n",
       "      <th>104922</th>\n",
       "      <td>38634</td>\n",
       "      <td>014014030:30D</td>\n",
       "      <td>StopPoint:Node:837539990</td>\n",
       "      <td></td>\n",
       "    </tr>\n",
       "    <tr>\n",
       "      <th>104923</th>\n",
       "      <td>415750</td>\n",
       "      <td>014014030:30D</td>\n",
       "      <td>StopPoint:Node:837540004</td>\n",
       "      <td></td>\n",
       "    </tr>\n",
       "    <tr>\n",
       "      <th>104924</th>\n",
       "      <td>38442</td>\n",
       "      <td>014014030:30D</td>\n",
       "      <td>StopPoint:Node:5320764711</td>\n",
       "      <td></td>\n",
       "    </tr>\n",
       "    <tr>\n",
       "      <th>104925</th>\n",
       "      <td>38837</td>\n",
       "      <td>014014030:30D</td>\n",
       "      <td>StopPoint:Node:372739907</td>\n",
       "      <td></td>\n",
       "    </tr>\n",
       "    <tr>\n",
       "      <th>104926</th>\n",
       "      <td>38841</td>\n",
       "      <td>014014030:30D</td>\n",
       "      <td>StopPoint:Node:5326885599</td>\n",
       "      <td></td>\n",
       "    </tr>\n",
       "    <tr>\n",
       "      <th>104927</th>\n",
       "      <td>28584</td>\n",
       "      <td>100100582:CHOISYB</td>\n",
       "      <td>StopPoint:Node:1936001337</td>\n",
       "      <td></td>\n",
       "    </tr>\n",
       "    <tr>\n",
       "      <th>104928</th>\n",
       "      <td>36987</td>\n",
       "      <td>100100105:105</td>\n",
       "      <td>StopPoint:Node:2878817125</td>\n",
       "      <td></td>\n",
       "    </tr>\n",
       "    <tr>\n",
       "      <th>104929</th>\n",
       "      <td>36987</td>\n",
       "      <td>100100129:129</td>\n",
       "      <td>StopPoint:Node:2878817125</td>\n",
       "      <td></td>\n",
       "    </tr>\n",
       "    <tr>\n",
       "      <th>104930</th>\n",
       "      <td>3823</td>\n",
       "      <td>055055022:DM22</td>\n",
       "      <td>StopPoint:Node:3241761263</td>\n",
       "      <td></td>\n",
       "    </tr>\n",
       "    <tr>\n",
       "      <th>104931</th>\n",
       "      <td>25213</td>\n",
       "      <td>100100318:318</td>\n",
       "      <td>StopPoint:Node:3912829344</td>\n",
       "      <td></td>\n",
       "    </tr>\n",
       "    <tr>\n",
       "      <th>104932</th>\n",
       "      <td>35134</td>\n",
       "      <td>055055004:DM04</td>\n",
       "      <td>StopPoint:Node:5296298735</td>\n",
       "      <td></td>\n",
       "    </tr>\n",
       "    <tr>\n",
       "      <th>104933</th>\n",
       "      <td>4035</td>\n",
       "      <td>055055004:DM04</td>\n",
       "      <td>StopPoint:Node:5296298730</td>\n",
       "      <td></td>\n",
       "    </tr>\n",
       "    <tr>\n",
       "      <th>104934</th>\n",
       "      <td>40423</td>\n",
       "      <td>002002009:9</td>\n",
       "      <td>StopPoint:Node:519909311</td>\n",
       "      <td></td>\n",
       "    </tr>\n",
       "    <tr>\n",
       "      <th>104935</th>\n",
       "      <td>24342</td>\n",
       "      <td>100100185:185</td>\n",
       "      <td>StopPoint:Node:2084076552</td>\n",
       "      <td></td>\n",
       "    </tr>\n",
       "    <tr>\n",
       "      <th>104936</th>\n",
       "      <td>414767</td>\n",
       "      <td>100100180:180</td>\n",
       "      <td>StopPoint:Node:1345764367</td>\n",
       "      <td></td>\n",
       "    </tr>\n",
       "    <tr>\n",
       "      <th>104937</th>\n",
       "      <td>420280</td>\n",
       "      <td>100100180:180</td>\n",
       "      <td>StopPoint:Node:1504208290</td>\n",
       "      <td></td>\n",
       "    </tr>\n",
       "    <tr>\n",
       "      <th>104938</th>\n",
       "      <td>24146</td>\n",
       "      <td>100100216:216</td>\n",
       "      <td>StopPoint:Node:1319910485</td>\n",
       "      <td></td>\n",
       "    </tr>\n",
       "    <tr>\n",
       "      <th>104939</th>\n",
       "      <td>24342</td>\n",
       "      <td>100100131:131</td>\n",
       "      <td>StopPoint:Node:2084076552</td>\n",
       "      <td></td>\n",
       "    </tr>\n",
       "    <tr>\n",
       "      <th>104940</th>\n",
       "      <td>24342</td>\n",
       "      <td>100100131:131</td>\n",
       "      <td>StopPoint:Node:2084076552</td>\n",
       "      <td></td>\n",
       "    </tr>\n",
       "    <tr>\n",
       "      <th>104941</th>\n",
       "      <td>35134</td>\n",
       "      <td>055055008:DM08</td>\n",
       "      <td>StopPoint:Node:5296298735</td>\n",
       "      <td></td>\n",
       "    </tr>\n",
       "    <tr>\n",
       "      <th>104942</th>\n",
       "      <td>3999</td>\n",
       "      <td>055055008:DM08</td>\n",
       "      <td>StopPoint:Node:661045295</td>\n",
       "      <td></td>\n",
       "    </tr>\n",
       "    <tr>\n",
       "      <th>104943</th>\n",
       "      <td>4035</td>\n",
       "      <td>055055008:DM08</td>\n",
       "      <td>StopPoint:Node:5296298730</td>\n",
       "      <td></td>\n",
       "    </tr>\n",
       "    <tr>\n",
       "      <th>104944</th>\n",
       "      <td>41423</td>\n",
       "      <td>100100317:317</td>\n",
       "      <td>StopPoint:Node:1227177082</td>\n",
       "      <td></td>\n",
       "    </tr>\n",
       "    <tr>\n",
       "      <th>104945</th>\n",
       "      <td>2356</td>\n",
       "      <td>100100237:237</td>\n",
       "      <td>StopPoint:Node:5296341991</td>\n",
       "      <td></td>\n",
       "    </tr>\n",
       "    <tr>\n",
       "      <th>...</th>\n",
       "      <td>...</td>\n",
       "      <td>...</td>\n",
       "      <td>...</td>\n",
       "      <td>...</td>\n",
       "    </tr>\n",
       "    <tr>\n",
       "      <th>106178</th>\n",
       "      <td>426628</td>\n",
       "      <td>051051035:35</td>\n",
       "      <td>StopPoint:Node:3738175373</td>\n",
       "      <td></td>\n",
       "    </tr>\n",
       "    <tr>\n",
       "      <th>106179</th>\n",
       "      <td>29582</td>\n",
       "      <td>025195008:95-08</td>\n",
       "      <td>StopPoint:Node:1658742802</td>\n",
       "      <td></td>\n",
       "    </tr>\n",
       "    <tr>\n",
       "      <th>106180</th>\n",
       "      <td>8686</td>\n",
       "      <td>025195008:95-08</td>\n",
       "      <td>StopPoint:Node:1870252813</td>\n",
       "      <td></td>\n",
       "    </tr>\n",
       "    <tr>\n",
       "      <th>106181</th>\n",
       "      <td>15708</td>\n",
       "      <td>067067014:14</td>\n",
       "      <td>StopPoint:Node:5265241856</td>\n",
       "      <td></td>\n",
       "    </tr>\n",
       "    <tr>\n",
       "      <th>106182</th>\n",
       "      <td>15236</td>\n",
       "      <td>067067014:14</td>\n",
       "      <td>StopPoint:Node:5265234266</td>\n",
       "      <td></td>\n",
       "    </tr>\n",
       "    <tr>\n",
       "      <th>106183</th>\n",
       "      <td>15705</td>\n",
       "      <td>067067014:14</td>\n",
       "      <td>StopPoint:Node:4320006352</td>\n",
       "      <td></td>\n",
       "    </tr>\n",
       "    <tr>\n",
       "      <th>106184</th>\n",
       "      <td>15705</td>\n",
       "      <td>067067014:14</td>\n",
       "      <td>StopPoint:Node:4320006352</td>\n",
       "      <td></td>\n",
       "    </tr>\n",
       "    <tr>\n",
       "      <th>106185</th>\n",
       "      <td>15235</td>\n",
       "      <td>067067014:14</td>\n",
       "      <td>StopPoint:Node:4590698186</td>\n",
       "      <td></td>\n",
       "    </tr>\n",
       "    <tr>\n",
       "      <th>106186</th>\n",
       "      <td>15707</td>\n",
       "      <td>067067014:14</td>\n",
       "      <td>StopPoint:Node:1799961694</td>\n",
       "      <td></td>\n",
       "    </tr>\n",
       "    <tr>\n",
       "      <th>106187</th>\n",
       "      <td>15429</td>\n",
       "      <td>003351504:A</td>\n",
       "      <td>StopPoint:Node:5392630997</td>\n",
       "      <td></td>\n",
       "    </tr>\n",
       "    <tr>\n",
       "      <th>106188</th>\n",
       "      <td>5579</td>\n",
       "      <td>030030021:30-21Oues;030030021:30-21Est</td>\n",
       "      <td>StopPoint:Node:4908169647</td>\n",
       "      <td></td>\n",
       "    </tr>\n",
       "    <tr>\n",
       "      <th>106189</th>\n",
       "      <td>4942</td>\n",
       "      <td>067167001:M1</td>\n",
       "      <td>StopPoint:Node:4715318755</td>\n",
       "      <td></td>\n",
       "    </tr>\n",
       "    <tr>\n",
       "      <th>106190</th>\n",
       "      <td>11238</td>\n",
       "      <td>067167001:M1</td>\n",
       "      <td>StopPoint:Node:5553890462</td>\n",
       "      <td></td>\n",
       "    </tr>\n",
       "    <tr>\n",
       "      <th>106191</th>\n",
       "      <td>11147</td>\n",
       "      <td>067167001:M1</td>\n",
       "      <td>StopPoint:Node:4715318758</td>\n",
       "      <td></td>\n",
       "    </tr>\n",
       "    <tr>\n",
       "      <th>106192</th>\n",
       "      <td>38287</td>\n",
       "      <td>067167001:M1</td>\n",
       "      <td>StopPoint:Node:4715318756</td>\n",
       "      <td></td>\n",
       "    </tr>\n",
       "    <tr>\n",
       "      <th>106193</th>\n",
       "      <td>18640</td>\n",
       "      <td>012012016:16</td>\n",
       "      <td>StopPoint:Node:4933871069</td>\n",
       "      <td></td>\n",
       "    </tr>\n",
       "    <tr>\n",
       "      <th>106194</th>\n",
       "      <td>18640</td>\n",
       "      <td>012012016:16</td>\n",
       "      <td>StopPoint:Node:4933871069</td>\n",
       "      <td></td>\n",
       "    </tr>\n",
       "    <tr>\n",
       "      <th>106195</th>\n",
       "      <td>18641</td>\n",
       "      <td>012012016:16</td>\n",
       "      <td>StopPoint:Node:4933871069</td>\n",
       "      <td></td>\n",
       "    </tr>\n",
       "    <tr>\n",
       "      <th>106196</th>\n",
       "      <td>18641</td>\n",
       "      <td>012012016:16</td>\n",
       "      <td>StopPoint:Node:4933871069</td>\n",
       "      <td></td>\n",
       "    </tr>\n",
       "    <tr>\n",
       "      <th>106197</th>\n",
       "      <td>2364</td>\n",
       "      <td>016016020:11</td>\n",
       "      <td>StopPoint:Node:5348342980</td>\n",
       "      <td></td>\n",
       "    </tr>\n",
       "    <tr>\n",
       "      <th>106198</th>\n",
       "      <td>36574</td>\n",
       "      <td>293193610:610</td>\n",
       "      <td>StopPoint:Node:5586538836</td>\n",
       "      <td></td>\n",
       "    </tr>\n",
       "    <tr>\n",
       "      <th>106199</th>\n",
       "      <td>41270</td>\n",
       "      <td>230410417:417</td>\n",
       "      <td>StopPoint:Node:1537096682</td>\n",
       "      <td></td>\n",
       "    </tr>\n",
       "    <tr>\n",
       "      <th>106200</th>\n",
       "      <td>41270</td>\n",
       "      <td>230410417:417</td>\n",
       "      <td>StopPoint:Node:1537086704</td>\n",
       "      <td></td>\n",
       "    </tr>\n",
       "    <tr>\n",
       "      <th>106201</th>\n",
       "      <td>41501</td>\n",
       "      <td>230410417:417</td>\n",
       "      <td>StopPoint:Node:1537080226</td>\n",
       "      <td></td>\n",
       "    </tr>\n",
       "    <tr>\n",
       "      <th>106202</th>\n",
       "      <td>41501</td>\n",
       "      <td>230410417:417</td>\n",
       "      <td>StopPoint:Node:1537081605</td>\n",
       "      <td></td>\n",
       "    </tr>\n",
       "    <tr>\n",
       "      <th>106203</th>\n",
       "      <td>41272</td>\n",
       "      <td>230410417:417</td>\n",
       "      <td>StopPoint:Node:1083676367</td>\n",
       "      <td></td>\n",
       "    </tr>\n",
       "    <tr>\n",
       "      <th>106204</th>\n",
       "      <td>2285</td>\n",
       "      <td>004004026:23</td>\n",
       "      <td>StopPoint:Node:2604332187</td>\n",
       "      <td></td>\n",
       "    </tr>\n",
       "    <tr>\n",
       "      <th>106205</th>\n",
       "      <td>41837</td>\n",
       "      <td>004004026:23</td>\n",
       "      <td>StopPoint:Node:3567219341</td>\n",
       "      <td></td>\n",
       "    </tr>\n",
       "    <tr>\n",
       "      <th>106206</th>\n",
       "      <td>420378</td>\n",
       "      <td>230410439:439</td>\n",
       "      <td>StopPoint:Node:4597112996</td>\n",
       "      <td></td>\n",
       "    </tr>\n",
       "    <tr>\n",
       "      <th>106207</th>\n",
       "      <td>15132</td>\n",
       "      <td>400300510:510</td>\n",
       "      <td>StopPoint:Node:5603894524</td>\n",
       "      <td></td>\n",
       "    </tr>\n",
       "  </tbody>\n",
       "</table>\n",
       "<p>1292 rows × 4 columns</p>\n",
       "</div>"
      ],
      "text/plain": [
       "       osm_osm:ref:FR:STIF   osm_osm:ref:FR:STIF:ExternalCode_Line  \\\n",
       "104916               38508                           014014030:30D   \n",
       "104917              423960                           014014030:30D   \n",
       "104918               38519                           014014030:30D   \n",
       "104919               37968                           014014030:30D   \n",
       "104920               38698                           014014030:30D   \n",
       "104921               38670                           014014030:30D   \n",
       "104922               38634                           014014030:30D   \n",
       "104923              415750                           014014030:30D   \n",
       "104924               38442                           014014030:30D   \n",
       "104925               38837                           014014030:30D   \n",
       "104926               38841                           014014030:30D   \n",
       "104927               28584                       100100582:CHOISYB   \n",
       "104928               36987                           100100105:105   \n",
       "104929               36987                           100100129:129   \n",
       "104930                3823                          055055022:DM22   \n",
       "104931               25213                           100100318:318   \n",
       "104932               35134                          055055004:DM04   \n",
       "104933                4035                          055055004:DM04   \n",
       "104934               40423                             002002009:9   \n",
       "104935               24342                           100100185:185   \n",
       "104936              414767                           100100180:180   \n",
       "104937              420280                           100100180:180   \n",
       "104938               24146                           100100216:216   \n",
       "104939               24342                           100100131:131   \n",
       "104940               24342                           100100131:131   \n",
       "104941               35134                          055055008:DM08   \n",
       "104942                3999                          055055008:DM08   \n",
       "104943                4035                          055055008:DM08   \n",
       "104944               41423                           100100317:317   \n",
       "104945                2356                           100100237:237   \n",
       "...                    ...                                     ...   \n",
       "106178              426628                            051051035:35   \n",
       "106179               29582                         025195008:95-08   \n",
       "106180                8686                         025195008:95-08   \n",
       "106181               15708                            067067014:14   \n",
       "106182               15236                            067067014:14   \n",
       "106183               15705                            067067014:14   \n",
       "106184               15705                            067067014:14   \n",
       "106185               15235                            067067014:14   \n",
       "106186               15707                            067067014:14   \n",
       "106187               15429                             003351504:A   \n",
       "106188                5579  030030021:30-21Oues;030030021:30-21Est   \n",
       "106189                4942                            067167001:M1   \n",
       "106190               11238                            067167001:M1   \n",
       "106191               11147                            067167001:M1   \n",
       "106192               38287                            067167001:M1   \n",
       "106193               18640                            012012016:16   \n",
       "106194               18640                            012012016:16   \n",
       "106195               18641                            012012016:16   \n",
       "106196               18641                            012012016:16   \n",
       "106197                2364                            016016020:11   \n",
       "106198               36574                           293193610:610   \n",
       "106199               41270                           230410417:417   \n",
       "106200               41270                           230410417:417   \n",
       "106201               41501                           230410417:417   \n",
       "106202               41501                           230410417:417   \n",
       "106203               41272                           230410417:417   \n",
       "106204                2285                            004004026:23   \n",
       "106205               41837                            004004026:23   \n",
       "106206              420378                           230410439:439   \n",
       "106207               15132                           400300510:510   \n",
       "\n",
       "                      osm_stop_id gtfs_route_id  \n",
       "104916  StopPoint:Node:5320764715                \n",
       "104917  StopPoint:Node:5326079506                \n",
       "104918  StopPoint:Node:5326079505                \n",
       "104919  StopPoint:Node:5320764709                \n",
       "104920   StopPoint:Node:837540002                \n",
       "104921   StopPoint:Node:837539998                \n",
       "104922   StopPoint:Node:837539990                \n",
       "104923   StopPoint:Node:837540004                \n",
       "104924  StopPoint:Node:5320764711                \n",
       "104925   StopPoint:Node:372739907                \n",
       "104926  StopPoint:Node:5326885599                \n",
       "104927  StopPoint:Node:1936001337                \n",
       "104928  StopPoint:Node:2878817125                \n",
       "104929  StopPoint:Node:2878817125                \n",
       "104930  StopPoint:Node:3241761263                \n",
       "104931  StopPoint:Node:3912829344                \n",
       "104932  StopPoint:Node:5296298735                \n",
       "104933  StopPoint:Node:5296298730                \n",
       "104934   StopPoint:Node:519909311                \n",
       "104935  StopPoint:Node:2084076552                \n",
       "104936  StopPoint:Node:1345764367                \n",
       "104937  StopPoint:Node:1504208290                \n",
       "104938  StopPoint:Node:1319910485                \n",
       "104939  StopPoint:Node:2084076552                \n",
       "104940  StopPoint:Node:2084076552                \n",
       "104941  StopPoint:Node:5296298735                \n",
       "104942   StopPoint:Node:661045295                \n",
       "104943  StopPoint:Node:5296298730                \n",
       "104944  StopPoint:Node:1227177082                \n",
       "104945  StopPoint:Node:5296341991                \n",
       "...                           ...           ...  \n",
       "106178  StopPoint:Node:3738175373                \n",
       "106179  StopPoint:Node:1658742802                \n",
       "106180  StopPoint:Node:1870252813                \n",
       "106181  StopPoint:Node:5265241856                \n",
       "106182  StopPoint:Node:5265234266                \n",
       "106183  StopPoint:Node:4320006352                \n",
       "106184  StopPoint:Node:4320006352                \n",
       "106185  StopPoint:Node:4590698186                \n",
       "106186  StopPoint:Node:1799961694                \n",
       "106187  StopPoint:Node:5392630997                \n",
       "106188  StopPoint:Node:4908169647                \n",
       "106189  StopPoint:Node:4715318755                \n",
       "106190  StopPoint:Node:5553890462                \n",
       "106191  StopPoint:Node:4715318758                \n",
       "106192  StopPoint:Node:4715318756                \n",
       "106193  StopPoint:Node:4933871069                \n",
       "106194  StopPoint:Node:4933871069                \n",
       "106195  StopPoint:Node:4933871069                \n",
       "106196  StopPoint:Node:4933871069                \n",
       "106197  StopPoint:Node:5348342980                \n",
       "106198  StopPoint:Node:5586538836                \n",
       "106199  StopPoint:Node:1537096682                \n",
       "106200  StopPoint:Node:1537086704                \n",
       "106201  StopPoint:Node:1537080226                \n",
       "106202  StopPoint:Node:1537081605                \n",
       "106203  StopPoint:Node:1083676367                \n",
       "106204  StopPoint:Node:2604332187                \n",
       "106205  StopPoint:Node:3567219341                \n",
       "106206  StopPoint:Node:4597112996                \n",
       "106207  StopPoint:Node:5603894524                \n",
       "\n",
       "[1292 rows x 4 columns]"
      ]
     },
     "execution_count": 4,
     "metadata": {},
     "output_type": "execute_result"
    }
   ],
   "source": [
    "quali_gtfs_routepoints = gtfs_routepoints.copy().fillna(\"\")\n",
    "quali_gtfs_routepoints = quali_gtfs_routepoints[quali_gtfs_routepoints['gtfs_ZDEr_ID_REF_A'] != '']\n",
    "\n",
    "#on fusionne sur les codes d'arrêts et les codes de lignes\n",
    "yofix_routepoints = quali_gtfs_routepoints.merge(\n",
    "                    quali_osm_routepoints, how='outer', \n",
    "                    right_on=[\"osm_osm:ref:FR:STIF\", \"osm_osm:ref:FR:STIF:ExternalCode_Line\"],\n",
    "                    left_on=[\"gtfs_ZDEr_ID_REF_A\", \"gtfs_route_id\"]\n",
    "               )\n",
    "yofix_routepoints.fillna(\"\", inplace=True)\n",
    "\n",
    "tt = yofix_routepoints[yofix_routepoints['gtfs_route_id'] == '']\n",
    "tt[[\"osm_osm:ref:FR:STIF\", \"osm_osm:ref:FR:STIF:ExternalCode_Line\", \"osm_stop_id\", \"gtfs_route_id\"]]\n",
    "# détecter au préalable les pb de codes de lignes ?\n",
    "\n"
   ]
  },
  {
   "cell_type": "markdown",
   "metadata": {},
   "source": [
    "On fusionne les routepoints par code REFLEX, Codifligne et on calcule la correspondance de terminus"
   ]
  },
  {
   "cell_type": "code",
   "execution_count": 5,
   "metadata": {},
   "outputs": [
    {
     "data": {
      "text/plain": [
       "<matplotlib.axes._subplots.AxesSubplot at 0x7fb491ee6780>"
      ]
     },
     "execution_count": 5,
     "metadata": {},
     "output_type": "execute_result"
    },
    {
     "data": {
      "image/png": "[encoded data removed]",
      "text/plain": [
       "<Figure size 432x288 with 1 Axes>"
      ]
     },
     "metadata": {},
     "output_type": "display_data"
    }
   ],
   "source": [
    "quali_gtfs_routepoints = gtfs_routepoints.copy().fillna(\"\")\n",
    "quali_gtfs_routepoints = quali_gtfs_routepoints[quali_gtfs_routepoints['gtfs_ZDEr_ID_REF_A'] != '']\n",
    "\n",
    "#on fusionne sur les codes d'arrêts et les codes de lignes\n",
    "quali_routepoints = quali_gtfs_routepoints.merge(\n",
    "                    quali_osm_routepoints, how='inner', \n",
    "                    right_on=[\"osm_osm:ref:FR:STIF\", \"osm_osm:ref:FR:STIF:ExternalCode_Line\"],\n",
    "                    left_on=[\"gtfs_ZDEr_ID_REF_A\", \"gtfs_route_id\"]\n",
    "               )\n",
    "quali_routepoints.fillna(\"\", inplace=True)\n",
    "\n",
    "def compute_similarity_lower(elem1, elem2):\n",
    "    return difflib.SequenceMatcher(None, elem1.lower(), elem2.lower()).ratio()\n",
    "\n",
    "def compute_similarity(elem1, elem2):\n",
    "    return difflib.SequenceMatcher(None, elem1, elem2).ratio()\n",
    "\n",
    "#on fusionne sur les terminus de lignes\n",
    "quali_routepoints['destination_confidence'] = quali_routepoints[['osm_destination','gtfs_dest_name']].apply(lambda x: compute_similarity_lower(*x), axis=1)\n",
    "quali_routepoints['destination_confidence'].hist()\n"
   ]
  },
  {
   "cell_type": "markdown",
   "metadata": {},
   "source": [
    "**Pour la suite, on ne conserve que les routepoints qui matchent à 60% et plus**"
   ]
  },
  {
   "cell_type": "code",
   "execution_count": 6,
   "metadata": {},
   "outputs": [
    {
     "data": {
      "text/plain": [
       "'8060 routepoints matchant à plus de 60%'"
      ]
     },
     "execution_count": 6,
     "metadata": {},
     "output_type": "execute_result"
    }
   ],
   "source": [
    "quali_routepoints_filtered = quali_routepoints[quali_routepoints['destination_confidence'] >= 0.6].copy()\n",
    "\"{:d} routepoints matchant à plus de 60%\".format(quali_routepoints_filtered.shape[0])"
   ]
  },
  {
   "cell_type": "code",
   "execution_count": 7,
   "metadata": {},
   "outputs": [
    {
     "data": {
      "text/plain": [
       "\"Pourcentage de routepoints qu'on considère pour la suite : 7.818638625626898\""
      ]
     },
     "execution_count": 7,
     "metadata": {},
     "output_type": "execute_result"
    }
   ],
   "source": [
    "tt = len(quali_routepoints_filtered) * 100.0 / len(gtfs_routepoints)\n",
    "\"Pourcentage de routepoints qu'on considère pour la suite : {}\".format(tt)"
   ]
  },
  {
   "cell_type": "markdown",
   "metadata": {},
   "source": [
    "NB : le matching sur les terminus est loin d'être parfait. Pour de meilleurs résultats, il faudrait :\n",
    "* soit un référentiel officiel des parcours (qui pourrait être importé dans les données OSM)\n",
    "* soit établir un tableau de correspondance entre les terminus\n",
    "\n",
    "(cf quelques contrexemples ci-dessous)"
   ]
  },
  {
   "cell_type": "code",
   "execution_count": 8,
   "metadata": {},
   "outputs": [
    {
     "data": {
      "text/plain": [
       "0.4"
      ]
     },
     "execution_count": 8,
     "metadata": {},
     "output_type": "execute_result"
    }
   ],
   "source": [
    "difflib.SequenceMatcher(None, 'A. Lebrun', '').ratio() #0\n",
    "difflib.SequenceMatcher(None, 'Sucy-Bonneuil RER', 'Gare de Sucy-Bonneuil').ratio() # 0.68\n",
    "difflib.SequenceMatcher(None, 'Cimetière', 'Cimetière de Saint-Maur-des-Fossés').ratio() #0.41\n",
    "difflib.SequenceMatcher(None, 'A. Lebrun', 'Auguste Lebrun').ratio() #0.69\n",
    "difflib.SequenceMatcher(None, 'Saint-Maur Créteil', 'SAINT-MAUR - CRETEIL RER').ratio() #0.23\n",
    "difflib.SequenceMatcher(None, 'Saint-Maur Créteil'.lower(), 'SAINT-MAUR - CRETEIL RER'.lower()).ratio() #0.80\n",
    "\n",
    "difflib.SequenceMatcher(None, 'Gare de Laplace (Arcueil)', 'Arcueil Laplace RER').ratio() # 0.5\n",
    "difflib.SequenceMatcher(None, 'Noisy-le-Roi - Centre Commercial le Cèdre', 'Centre commercial').ratio() #0.55\n",
    "difflib.SequenceMatcher(None, 'Massy', 'Gare RER Massy Palaiseau').ratio() #0.34\n",
    "difflib.SequenceMatcher(None, 'Gare de La Verrière', 'LA VERRIERE NOCTILIEN'.lower()).ratio() #0.4"
   ]
  },
  {
   "cell_type": "code",
   "execution_count": 9,
   "metadata": {},
   "outputs": [
    {
     "name": "stdout",
     "output_type": "stream",
     "text": [
      "Nombre total de parcours en utilisant les destinations pour les séparer des lignes :\n"
     ]
    },
    {
     "data": {
      "text/plain": [
       "5638"
      ]
     },
     "execution_count": 9,
     "metadata": {},
     "output_type": "execute_result"
    }
   ],
   "source": [
    "print('Nombre total de parcours en utilisant les destinations pour les séparer des lignes :')\n",
    "len(gtfs_routepoints.groupby(['gtfs_route_id','gtfs_dest_name']).size())"
   ]
  },
  {
   "cell_type": "markdown",
   "metadata": {},
   "source": [
    "## Mesures qualitatives"
   ]
  },
  {
   "cell_type": "markdown",
   "metadata": {},
   "source": [
    "## Analyse des codes de ligne"
   ]
  },
  {
   "cell_type": "code",
   "execution_count": 10,
   "metadata": {},
   "outputs": [
    {
     "data": {
      "text/plain": [
       "<matplotlib.axes._subplots.AxesSubplot at 0x7fb491ee2eb8>"
      ]
     },
     "execution_count": 10,
     "metadata": {},
     "output_type": "execute_result"
    },
    {
     "data": {
      "image/png": "[encoded data removed]",
      "text/plain": [
       "<Figure size 432x288 with 1 Axes>"
      ]
     },
     "metadata": {},
     "output_type": "display_data"
    }
   ],
   "source": [
    "# différences sur les codes de ligne\n",
    "quali_routepoints_filtered['line_code_confidence'] = quali_routepoints_filtered[['osm_code','gtfs_route_short_name']].apply(lambda x: compute_similarity(*x), axis=1)\n",
    "quali_routepoints_filtered[\"line_code_confidence_rounded\"] = quali_routepoints_filtered[\"line_code_confidence\"].round(1) * 100\n",
    "\n",
    "# quali_routepoints_and_line_volume\n",
    "quali_routepoints_filtered['line_code_confidence'].hist()"
   ]
  },
  {
   "cell_type": "code",
   "execution_count": 11,
   "metadata": {},
   "outputs": [
    {
     "data": {
      "image/png": "[encoded data removed]",
      "text/plain": [
       "<Figure size 432x288 with 1 Axes>"
      ]
     },
     "metadata": {},
     "output_type": "display_data"
    }
   ],
   "source": [
    "routepoints_count_total = quali_routepoints_filtered.shape[0]\n",
    "routepoints_count_with_perfect_line_mapping = quali_routepoints_filtered[quali_routepoints_filtered[\"line_code_confidence_rounded\"] == 100].shape[0]\n",
    "routepoints_count_with_different_line_mapping = routepoints_count_total - routepoints_count_with_perfect_line_mapping\n",
    "labels = 'Code de ligne identique', 'Code de ligne différent'\n",
    "\n",
    "\n",
    "sizes = [routepoints_count_with_perfect_line_mapping/routepoints_count_total * 100, \n",
    "         routepoints_count_with_different_line_mapping/routepoints_count_total * 100]\n",
    "explode = (0, 0.2)\n",
    "\n",
    "mpl.rcParams.update(inline_rc) # reset du style \n",
    "plt.rcParams['font.family'] = 'serif'\n",
    "plt.rcParams['font.serif'] = 'Ubuntu'\n",
    "plt.rcParams['font.monospace'] = 'Ubuntu Mono'\n",
    "plt.rcParams['font.size'] = 20\n",
    "plt.rcParams['axes.labelsize'] = 16\n",
    "plt.rcParams['axes.labelweight'] = 'bold'\n",
    "plt.rcParams['axes.titlesize'] = 20\n",
    "plt.rcParams['xtick.labelsize'] = 12\n",
    "plt.rcParams['ytick.labelsize'] = 16\n",
    "plt.rcParams['legend.fontsize'] = 16\n",
    "plt.rcParams['figure.titlesize'] = 22\n",
    "fig1, ax1 = plt.subplots()\n",
    "ax1.set_title('Analyse de concordance des codes de lignes sur les routepoints')\n",
    "ax1.pie(sizes, explode=explode, labels=labels, autopct='%1.1f%%',\n",
    "        shadow=True, startangle=10)\n",
    "ax1.axis('equal')  # Equal aspect ratio ensures that pie is drawn as a circle.\n",
    "plt.savefig(os.path.join(out_folder, '11_routepoints_line_code_mapping_pie.png'), bbox_inches='tight')"
   ]
  },
  {
   "cell_type": "code",
   "execution_count": 12,
   "metadata": {},
   "outputs": [
    {
     "name": "stdout",
     "output_type": "stream",
     "text": [
      "Il y a 28 lignes qui ne correspondent pas sur un total de 335\n"
     ]
    },
    {
     "data": {
      "text/html": [
       "<div>\n",
       "<style scoped>\n",
       "    .dataframe tbody tr th:only-of-type {\n",
       "        vertical-align: middle;\n",
       "    }\n",
       "\n",
       "    .dataframe tbody tr th {\n",
       "        vertical-align: top;\n",
       "    }\n",
       "\n",
       "    .dataframe thead th {\n",
       "        text-align: right;\n",
       "    }\n",
       "</style>\n",
       "<table border=\"1\" class=\"dataframe\">\n",
       "  <thead>\n",
       "    <tr style=\"text-align: right;\">\n",
       "      <th></th>\n",
       "      <th>gtfs_route_short_name</th>\n",
       "      <th>osm_code</th>\n",
       "      <th>0</th>\n",
       "    </tr>\n",
       "  </thead>\n",
       "  <tbody>\n",
       "    <tr>\n",
       "      <th>0</th>\n",
       "      <td>49</td>\n",
       "      <td>49a</td>\n",
       "      <td>26</td>\n",
       "    </tr>\n",
       "    <tr>\n",
       "      <th>1</th>\n",
       "      <td>49</td>\n",
       "      <td>49b</td>\n",
       "      <td>32</td>\n",
       "    </tr>\n",
       "    <tr>\n",
       "      <th>2</th>\n",
       "      <td>49</td>\n",
       "      <td>49c</td>\n",
       "      <td>37</td>\n",
       "    </tr>\n",
       "    <tr>\n",
       "      <th>3</th>\n",
       "      <td>AS-SURE</td>\n",
       "      <td>AS (544)</td>\n",
       "      <td>4</td>\n",
       "    </tr>\n",
       "    <tr>\n",
       "      <th>4</th>\n",
       "      <td>BIEVRES</td>\n",
       "      <td>513</td>\n",
       "      <td>1</td>\n",
       "    </tr>\n",
       "  </tbody>\n",
       "</table>\n",
       "</div>"
      ],
      "text/plain": [
       "  gtfs_route_short_name  osm_code   0\n",
       "0                    49       49a  26\n",
       "1                    49       49b  32\n",
       "2                    49       49c  37\n",
       "3               AS-SURE  AS (544)   4\n",
       "4               BIEVRES       513   1"
      ]
     },
     "execution_count": 12,
     "metadata": {},
     "output_type": "execute_result"
    }
   ],
   "source": [
    "routepoints_with_different_line_mapping = quali_routepoints_filtered[quali_routepoints_filtered[\"line_code_confidence_rounded\"] < 100]\n",
    "\n",
    "\n",
    "lines_with_different_line_mapping = pd.DataFrame(routepoints_with_different_line_mapping.groupby(['gtfs_route_short_name', 'osm_code']).size()).reset_index()\n",
    "print(\"Il y a {:d} lignes qui ne correspondent pas sur un total de {:d}\".format(\n",
    "    lines_with_different_line_mapping.shape[0],\n",
    "    pd.DataFrame(quali_routepoints_filtered.groupby(['gtfs_route_short_name', 'osm_code']).size()).shape[0]\n",
    "))\n",
    "lines_with_different_line_mapping.head()\n"
   ]
  },
  {
   "cell_type": "markdown",
   "metadata": {},
   "source": [
    "### Analyse des différence sur les noms des arrêts"
   ]
  },
  {
   "cell_type": "code",
   "execution_count": 13,
   "metadata": {},
   "outputs": [],
   "source": [
    "quali_routepoints_filtered['name_confidence'] = quali_routepoints_filtered[['osm_name','gtfs_stop_name']].apply(lambda x: compute_similarity(*x), axis=1)\n",
    "quali_routepoints_filtered[\"name_confidence_rounded\"] = quali_routepoints_filtered[\"name_confidence\"].round(1) * 100\n",
    "quali_routepoints_filtered['name_confidence_lower'] = quali_routepoints_filtered[['osm_name','gtfs_stop_name']].apply(lambda x: compute_similarity_lower(*x), axis=1)\n",
    "quali_routepoints_filtered[\"name_confidence_lower_rounded\"] = quali_routepoints_filtered[\"name_confidence_lower\"].round(1) * 100\n"
   ]
  },
  {
   "cell_type": "code",
   "execution_count": 14,
   "metadata": {},
   "outputs": [],
   "source": [
    "routepoints_count = quali_routepoints_filtered.shape[0]\n",
    "borne_identique = 0.9\n",
    "borne_proche = 0.7\n",
    "identiques = quali_routepoints_filtered[quali_routepoints_filtered['name_confidence'] >= borne_identique].shape[0]\n",
    "proches = quali_routepoints_filtered[\n",
    "    (quali_routepoints_filtered[\"name_confidence\"] < borne_identique) & \n",
    "    (quali_routepoints_filtered[\"name_confidence\"] >= borne_proche)].shape[0]\n",
    "differents = quali_routepoints_filtered[quali_routepoints_filtered[\"name_confidence\"] < borne_proche].shape[0]\n",
    "\n",
    "identiques_lower = quali_routepoints_filtered[quali_routepoints_filtered['name_confidence_lower'] >= borne_identique].shape[0]\n",
    "proches_lower = quali_routepoints_filtered[\n",
    "    (quali_routepoints_filtered[\"name_confidence_lower\"] < borne_identique) & \n",
    "    (quali_routepoints_filtered[\"name_confidence_lower\"] >= borne_proche)].shape[0]\n",
    "differents_lower = quali_routepoints_filtered[quali_routepoints_filtered[\"name_confidence_lower\"] < borne_proche].shape[0]\n",
    "\n",
    "#quali_routepoints_filtered[quali_routepoints_filtered['name_confidence'] >= borne_proche].sort_values(\"name_confidence\")"
   ]
  },
  {
   "cell_type": "code",
   "execution_count": 15,
   "metadata": {},
   "outputs": [
    {
     "data": {
      "image/png": "[encoded data removed]",
      "text/plain": [
       "<Figure size 432x288 with 1 Axes>"
      ]
     },
     "metadata": {},
     "output_type": "display_data"
    }
   ],
   "source": [
    "sizes = [identiques/routepoints_count * 100, \n",
    "         proches/routepoints_count * 100,\n",
    "         differents/routepoints_count * 100]\n",
    "sizes_lower = [identiques_lower/routepoints_count * 100, \n",
    "         proches_lower/routepoints_count * 100,\n",
    "         differents_lower/routepoints_count * 100]\n",
    "explode = (0.1, 0, 0)\n",
    "colors = ['yellowgreen', 'gold', 'lightcoral']\n",
    "labels = 'Identiques', 'Proches', 'Différents'\n",
    "\n",
    "fig1, ax1 = plt.subplots()\n",
    "plt.rcParams['font.size'] = 16\n",
    "\n",
    "ax1.set_title('Similitude entre les noms des arrêts')\n",
    "ax1.pie(sizes, explode=explode, labels=labels, autopct='%1.1f%%',\n",
    "        colors=colors,\n",
    "        shadow=True, startangle=90, pctdistance=0.8)\n",
    "ax1.axis('equal')  # Equal aspect ratio ensures that pie is drawn as a circle.\n",
    "\n",
    "plt.savefig(os.path.join(out_folder,'12_routepoints_name_mapping_pie.png'), bbox_inches='tight')"
   ]
  },
  {
   "cell_type": "code",
   "execution_count": 16,
   "metadata": {},
   "outputs": [
    {
     "data": {
      "image/png": "[encoded data removed]",
      "text/plain": [
       "<Figure size 432x288 with 1 Axes>"
      ]
     },
     "metadata": {},
     "output_type": "display_data"
    }
   ],
   "source": [
    "fig1, ax1 = plt.subplots()\n",
    "plt.rcParams['font.size'] = 16\n",
    "\n",
    "ax1.set_title('Similitude entre les noms des arrêts (sans casse)')\n",
    "ax1.pie(sizes_lower, explode=explode, labels=labels, autopct='%1.1f%%',\n",
    "        colors=colors,\n",
    "        shadow=True, startangle=90, pctdistance=0.8)\n",
    "ax1.axis('equal')  # Equal aspect ratio ensures that pie is drawn as a circle.\n",
    "\n",
    "plt.savefig(os.path.join(out_folder,'12_routepoints_name_mapping_pie_lower.png'), bbox_inches='tight')"
   ]
  },
  {
   "cell_type": "markdown",
   "metadata": {},
   "source": [
    "Visualisation de quelques cas les plus différents (avec majuscules)"
   ]
  },
  {
   "cell_type": "code",
   "execution_count": 17,
   "metadata": {},
   "outputs": [
    {
     "data": {
      "text/html": [
       "<div>\n",
       "<style scoped>\n",
       "    .dataframe tbody tr th:only-of-type {\n",
       "        vertical-align: middle;\n",
       "    }\n",
       "\n",
       "    .dataframe tbody tr th {\n",
       "        vertical-align: top;\n",
       "    }\n",
       "\n",
       "    .dataframe thead th {\n",
       "        text-align: right;\n",
       "    }\n",
       "</style>\n",
       "<table border=\"1\" class=\"dataframe\">\n",
       "  <thead>\n",
       "    <tr style=\"text-align: right;\">\n",
       "      <th></th>\n",
       "      <th>gtfs_stop_name</th>\n",
       "      <th>osm_name</th>\n",
       "    </tr>\n",
       "  </thead>\n",
       "  <tbody>\n",
       "    <tr>\n",
       "      <th>6489</th>\n",
       "      <td>PONT D'AUSTERLITZ - QUAI DE LA RAPEE</td>\n",
       "      <td>Pont d'Austerlitz - Quai de la Rapée</td>\n",
       "    </tr>\n",
       "    <tr>\n",
       "      <th>8298</th>\n",
       "      <td>PUVIS DE CHAVANNES</td>\n",
       "      <td>Puvis de Chavannes</td>\n",
       "    </tr>\n",
       "    <tr>\n",
       "      <th>6392</th>\n",
       "      <td>ARTS ET METIERS</td>\n",
       "      <td>Arts et Métiers</td>\n",
       "    </tr>\n",
       "    <tr>\n",
       "      <th>10472</th>\n",
       "      <td>ESCADRILLE NORMANDIE-NIEMEN - PAUL VAILLANT-CO...</td>\n",
       "      <td>Escadrille Normandie-Niémen - Paul Vaillant-Co...</td>\n",
       "    </tr>\n",
       "    <tr>\n",
       "      <th>11952</th>\n",
       "      <td>WATT</td>\n",
       "      <td>Watt</td>\n",
       "    </tr>\n",
       "  </tbody>\n",
       "</table>\n",
       "</div>"
      ],
      "text/plain": [
       "                                          gtfs_stop_name  \\\n",
       "6489                PONT D'AUSTERLITZ - QUAI DE LA RAPEE   \n",
       "8298                                  PUVIS DE CHAVANNES   \n",
       "6392                                     ARTS ET METIERS   \n",
       "10472  ESCADRILLE NORMANDIE-NIEMEN - PAUL VAILLANT-CO...   \n",
       "11952                                               WATT   \n",
       "\n",
       "                                                osm_name  \n",
       "6489                Pont d'Austerlitz - Quai de la Rapée  \n",
       "8298                                  Puvis de Chavannes  \n",
       "6392                                     Arts et Métiers  \n",
       "10472  Escadrille Normandie-Niémen - Paul Vaillant-Co...  \n",
       "11952                                               Watt  "
      ]
     },
     "execution_count": 17,
     "metadata": {},
     "output_type": "execute_result"
    }
   ],
   "source": [
    "quali_routepoints_filtered_ = quali_routepoints_filtered[quali_routepoints_filtered['name_confidence'] < 0.5]\n",
    "quali_routepoints_filtered_ = quali_routepoints_filtered_[['gtfs_stop_name', 'osm_name']]\n",
    "grouped = quali_routepoints_filtered_.groupby(['gtfs_stop_name', 'osm_name'])\n",
    "index = [gp_keys[0] for gp_keys in grouped.groups.values()]\n",
    "quali_unique_df = quali_routepoints_filtered_.reindex(index)\n",
    "quali_unique_df.head()"
   ]
  },
  {
   "cell_type": "markdown",
   "metadata": {},
   "source": [
    "VIsualisation des cas les plus différents (sans majuscules)"
   ]
  },
  {
   "cell_type": "code",
   "execution_count": 18,
   "metadata": {},
   "outputs": [
    {
     "data": {
      "text/html": [
       "<div>\n",
       "<style scoped>\n",
       "    .dataframe tbody tr th:only-of-type {\n",
       "        vertical-align: middle;\n",
       "    }\n",
       "\n",
       "    .dataframe tbody tr th {\n",
       "        vertical-align: top;\n",
       "    }\n",
       "\n",
       "    .dataframe thead th {\n",
       "        text-align: right;\n",
       "    }\n",
       "</style>\n",
       "<table border=\"1\" class=\"dataframe\">\n",
       "  <thead>\n",
       "    <tr style=\"text-align: right;\">\n",
       "      <th></th>\n",
       "      <th>gtfs_stop_name</th>\n",
       "      <th>osm_name</th>\n",
       "    </tr>\n",
       "  </thead>\n",
       "  <tbody>\n",
       "    <tr>\n",
       "      <th>6340</th>\n",
       "      <td>Mairie</td>\n",
       "      <td>Mairie de Saint-Cyr-l'École</td>\n",
       "    </tr>\n",
       "    <tr>\n",
       "      <th>11384</th>\n",
       "      <td>STADE DE CHATILLON</td>\n",
       "      <td>Stade</td>\n",
       "    </tr>\n",
       "    <tr>\n",
       "      <th>14889</th>\n",
       "      <td>Eglise Saint Nicolas</td>\n",
       "      <td>Église du Bourget</td>\n",
       "    </tr>\n",
       "    <tr>\n",
       "      <th>3164</th>\n",
       "      <td>POSTE</td>\n",
       "      <td>Collégien - Poste</td>\n",
       "    </tr>\n",
       "    <tr>\n",
       "      <th>2970</th>\n",
       "      <td>GARE DE MARNE LA VALLEE CHESSY</td>\n",
       "      <td>Chessy Gares</td>\n",
       "    </tr>\n",
       "    <tr>\n",
       "      <th>953</th>\n",
       "      <td>Mairie de Goussainville</td>\n",
       "      <td>Mairie</td>\n",
       "    </tr>\n",
       "    <tr>\n",
       "      <th>10773</th>\n",
       "      <td>FRANKLIN</td>\n",
       "      <td>Montgolfier</td>\n",
       "    </tr>\n",
       "    <tr>\n",
       "      <th>20</th>\n",
       "      <td>Gare de Torcy</td>\n",
       "      <td>Torcy RER</td>\n",
       "    </tr>\n",
       "    <tr>\n",
       "      <th>14884</th>\n",
       "      <td>Mairie</td>\n",
       "      <td>Mairie de Livry-Gargan</td>\n",
       "    </tr>\n",
       "    <tr>\n",
       "      <th>9118</th>\n",
       "      <td>BRANCION - MORILLONS</td>\n",
       "      <td>Morillons - Brancion</td>\n",
       "    </tr>\n",
       "  </tbody>\n",
       "</table>\n",
       "</div>"
      ],
      "text/plain": [
       "                       gtfs_stop_name                     osm_name\n",
       "6340                           Mairie  Mairie de Saint-Cyr-l'École\n",
       "11384              STADE DE CHATILLON                        Stade\n",
       "14889            Eglise Saint Nicolas            Église du Bourget\n",
       "3164                            POSTE            Collégien - Poste\n",
       "2970   GARE DE MARNE LA VALLEE CHESSY                 Chessy Gares\n",
       "953           Mairie de Goussainville                       Mairie\n",
       "10773                        FRANKLIN                  Montgolfier\n",
       "20                      Gare de Torcy                    Torcy RER\n",
       "14884                          Mairie       Mairie de Livry-Gargan\n",
       "9118             BRANCION - MORILLONS         Morillons - Brancion"
      ]
     },
     "execution_count": 18,
     "metadata": {},
     "output_type": "execute_result"
    }
   ],
   "source": [
    "quali_routepoints_filtered_ = quali_routepoints_filtered[quali_routepoints_filtered['name_confidence_lower'] < 0.5]\n",
    "quali_routepoints_filtered_ = quali_routepoints_filtered_[['gtfs_stop_name', 'osm_name']]\n",
    "grouped = quali_routepoints_filtered_.groupby(['gtfs_stop_name', 'osm_name'])\n",
    "index = [gp_keys[0] for gp_keys in grouped.groups.values()]\n",
    "quali_unique_df = quali_routepoints_filtered_.reindex(index)\n",
    "quali_unique_df.head(10)"
   ]
  },
  {
   "cell_type": "markdown",
   "metadata": {},
   "source": [
    "### Analyse des distances "
   ]
  },
  {
   "cell_type": "code",
   "execution_count": 19,
   "metadata": {},
   "outputs": [],
   "source": [
    "def compute_distance(row):\n",
    "    dist = vincenty(\n",
    "        (float(row['osm_lat']), float(row['osm_lon'])), \n",
    "        (float(row['gtfs_stop_lat']), float(row['gtfs_stop_lon']))\n",
    "    )\n",
    "    return dist.meters\n",
    "   \n",
    "quali_routepoints_filtered['distance'] = quali_routepoints_filtered.apply(compute_distance, axis=1)\n",
    "#uali_routepoints_filtered['distance'].hist()"
   ]
  },
  {
   "cell_type": "code",
   "execution_count": 20,
   "metadata": {},
   "outputs": [
    {
     "data": {
      "image/png": "[encoded data removed]",
      "text/plain": [
       "<Figure size 432x288 with 1 Axes>"
      ]
     },
     "metadata": {},
     "output_type": "display_data"
    }
   ],
   "source": [
    "routepoints_count = quali_routepoints_filtered.shape[0]\n",
    "labels = 'moins de 20m', 'de 20m à 70m', 'de 70m à 150m', 'plus de 150m'\n",
    "count_moins_20 = quali_routepoints_filtered[quali_routepoints_filtered[\"distance\"] < 20].shape[0]\n",
    "count_20_70 = quali_routepoints_filtered[(quali_routepoints_filtered[\"distance\"] >= 20) & (quali_routepoints_filtered[\"distance\"] < 70)].shape[0]\n",
    "count_70_150 = quali_routepoints_filtered[(quali_routepoints_filtered[\"distance\"] >= 70) & (quali_routepoints_filtered[\"distance\"] < 150)].shape[0]\n",
    "count_plus_150 = quali_routepoints_filtered[quali_routepoints_filtered[\"distance\"] >= 150].shape[0]\n",
    "\n",
    "sizes = [count_moins_20/routepoints_count * 100, \n",
    "         count_20_70/routepoints_count * 100,\n",
    "         count_70_150/routepoints_count * 100,\n",
    "         count_plus_150/routepoints_count * 100]\n",
    "explode = (0, 0, 0.1, 0.4)\n",
    "\n",
    "fig1, ax1 = plt.subplots()\n",
    "plt.rcParams['font.size'] = 16\n",
    "\n",
    "ax1.set_title('Distance entre les arrêts officiels et OSM')\n",
    "ax1.pie(sizes, explode=explode, labels=labels, autopct='%1.1f%%',\n",
    "        shadow=True, startangle=10, pctdistance=0.8)\n",
    "ax1.axis('equal')  # Equal aspect ratio ensures that pie is drawn as a circle.\n",
    "\n",
    "plt.savefig(os.path.join(out_folder,'14_routepoints_distance_pie_V2.png'), bbox_inches='tight')"
   ]
  },
  {
   "cell_type": "code",
   "execution_count": 21,
   "metadata": {},
   "outputs": [
    {
     "name": "stdout",
     "output_type": "stream",
     "text": [
      "Distance max : 777.634409\n",
      "Distance moyenne : 18.883215\n",
      "Distance médiane : 9.529780\n"
     ]
    }
   ],
   "source": [
    "print(\"Distance max : {:f}\".format(quali_routepoints_filtered['distance'].max()))\n",
    "print(\"Distance moyenne : {:f}\".format(quali_routepoints_filtered['distance'].mean()))\n",
    "print(\"Distance médiane : {:f}\".format(quali_routepoints_filtered['distance'].median()))\n"
   ]
  },
  {
   "cell_type": "code",
   "execution_count": 22,
   "metadata": {},
   "outputs": [
    {
     "name": "stdout",
     "output_type": "stream",
     "text": [
      "Nombre de routepoints à plus de 70m : 301\n"
     ]
    }
   ],
   "source": [
    "routepoints_bad_position = quali_routepoints_filtered[quali_routepoints_filtered['distance'] > 70].copy()\n",
    "print(\"Nombre de routepoints à plus de 70m : {:d}\".format(len(routepoints_bad_position)))"
   ]
  },
  {
   "cell_type": "code",
   "execution_count": 23,
   "metadata": {},
   "outputs": [
    {
     "name": "stdout",
     "output_type": "stream",
     "text": [
      "Nombre de stoppoints du GTFS à plus de 70m : 210\n"
     ]
    }
   ],
   "source": [
    "print(\"Nombre de stoppoints du GTFS à plus de 70m : {:d}\".format(\n",
    "    len(routepoints_bad_position.groupby(['gtfs_stop_id'])[[\"distance\"]].count()))\n",
    ")"
   ]
  }
 ],
 "metadata": {
  "kernelspec": {
   "display_name": "Python 3",
   "language": "python",
   "name": "python3"
  },
  "language_info": {
   "codemirror_mode": {
    "name": "ipython",
    "version": 3
   },
   "file_extension": ".py",
   "mimetype": "text/x-python",
   "name": "python",
   "nbconvert_exporter": "python",
   "pygments_lexer": "ipython3",
   "version": "3.5.2"
  }
 },
 "nbformat": 4,
 "nbformat_minor": 2
}
