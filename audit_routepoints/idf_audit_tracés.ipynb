{
 "cells": [
  {
   "cell_type": "code",
   "execution_count": 1,
   "metadata": {},
   "outputs": [],
   "source": [
    "import pandas as pd\n",
    "import geopandas\n",
    "import json\n",
    "import os\n",
    "from shapely.geometry import Point\n",
    "import difflib\n",
    "from geopy.distance import vincenty\n",
    "import numpy as np\n",
    "import matplotlib as mpl\n",
    "import matplotlib.pyplot as plt\n",
    "\n",
    "%matplotlib inline\n",
    "inline_rc = dict(mpl.rcParams)"
   ]
  },
  {
   "cell_type": "code",
   "execution_count": 2,
   "metadata": {},
   "outputs": [],
   "source": [
    "#in_folder = \"audits/2018_07/data/\"\n",
    "#out_folder = \"audits/2018_11/images/\"\n",
    "in_folder = \"../data/\"\n",
    "out_folder = \"/tmp\""
   ]
  },
  {
   "cell_type": "markdown",
   "metadata": {},
   "source": [
    "Fichier des tracés:\n",
    "    https://opendata.stif.info/explore/dataset/bus_lignes/export/\n",
    "    \n",
    "Fichier pour faire la correspondance :\n",
    "    https://opendata.stif.info/explore/dataset/referentiel-des-lignes-stif/export/"
   ]
  },
  {
   "cell_type": "code",
   "execution_count": 3,
   "metadata": {},
   "outputs": [],
   "source": [
    "opendata_ref = pd.read_csv(\"ref_data/referentiel-des-lignes-stif.csv\",delimiter=\";\")\n",
    "#opendata_ref"
   ]
  },
  {
   "cell_type": "code",
   "execution_count": 4,
   "metadata": {},
   "outputs": [],
   "source": [
    "opendata_tracks = pd.read_csv(\"ref_data/bus_lignes.csv\",delimiter=\";\")\n",
    "\n",
    "opendata_tracks.dropna(inplace=True)\n",
    "opendata_tracks.drop_duplicates('ID_GroupOfLines',inplace=True)\n",
    "\n",
    "opendata_tracks = opendata_tracks.merge(opendata_ref, how='inner', on='ID_GroupOfLines')\n",
    "\n",
    "opendata_tracks = opendata_tracks[['Geo Shape', 'ShortName_Line', 'TransportMode', 'NetworkName', 'ExternalCode_Line' ]]\n",
    "\n",
    "opendata_tracks = opendata_tracks[opendata_tracks['TransportMode']=='bus']\n",
    "#opendata_tracks.head()"
   ]
  },
  {
   "cell_type": "code",
   "execution_count": 5,
   "metadata": {},
   "outputs": [],
   "source": [
    "# on prépare les tracés pour analyse\n",
    "from functools import partial\n",
    "import pyproj\n",
    "from shapely import wkt\n",
    "from shapely.geometry import shape\n",
    "from shapely.ops import transform\n",
    "\n",
    "project = partial(\n",
    "    pyproj.transform,\n",
    "    pyproj.Proj(init='EPSG:4326'),\n",
    "    pyproj.Proj(init='EPSG:2154'))\n",
    "\n",
    "def geojson_to_wkt(row):\n",
    "    if pd.isna(row['Geo Shape']):\n",
    "        wkt_ = wkt.loads('POINT (2.482068 49.0327237)')\n",
    "    else :     \n",
    "        wkt_ = shape(json.loads(row['Geo Shape']))\n",
    "    return transform(project, wkt_) # on projette, pour avoir plus tard la longueur en mètres\n",
    "\n",
    "opendata_tracks['geom'] = opendata_tracks.apply(geojson_to_wkt, axis=1)\n",
    "opendata_lines_geo = geopandas.GeoDataFrame(opendata_tracks, geometry=opendata_tracks.geom)\n",
    "#opendata_lines_geo"
   ]
  },
  {
   "cell_type": "code",
   "execution_count": 6,
   "metadata": {},
   "outputs": [],
   "source": [
    "#opendata_lines_geo.plot()\n",
    "# TODO : graphique aussi sur OSM pour montrer qu'encore une fois, c'est en périphérie que ça manque"
   ]
  },
  {
   "cell_type": "code",
   "execution_count": 7,
   "metadata": {},
   "outputs": [
    {
     "name": "stdout",
     "output_type": "stream",
     "text": [
      "Nombre de lignes avec tracé : 1709\n"
     ]
    }
   ],
   "source": [
    "opendata_lines_geo['line_length'] = opendata_lines_geo.length/1000\n",
    "opendata_lines_geo[['line_length', 'ShortName_Line','NetworkName', 'TransportMode', 'ExternalCode_Line','geom' ]]\n",
    "\n",
    "print(\"Nombre de lignes avec tracé : {}\".format(len(opendata_lines_geo)))\n",
    "\n",
    "## TODO : pourcentage par rapport au nombre de lignes gtfs"
   ]
  },
  {
   "cell_type": "code",
   "execution_count": 8,
   "metadata": {},
   "outputs": [],
   "source": [
    "# TODO regarder les lignes GTFS sans tracés pour voir si on les a dans OSM ?"
   ]
  },
  {
   "cell_type": "markdown",
   "metadata": {},
   "source": [
    "## OSM"
   ]
  },
  {
   "cell_type": "code",
   "execution_count": 9,
   "metadata": {},
   "outputs": [],
   "source": [
    "osm_lines = pd.read_csv(os.path.join(in_folder, \"osm-transit-extractor_lines.csv\"), dtype=str)\n",
    "osm_lines = osm_lines[osm_lines['mode'] == 'bus']\n",
    "\n",
    "\n",
    "osm_lines = osm_lines[['line_id', 'name', 'osm:ref:FR:STIF:ExternalCode_Line','code', 'colour', 'operator', 'network','shape']].copy()\n",
    "#osm_lines.head()"
   ]
  },
  {
   "cell_type": "code",
   "execution_count": 10,
   "metadata": {},
   "outputs": [],
   "source": [
    "def osm_shape_to_wkt(row):\n",
    "    if pd.isna(row['shape']):\n",
    "        wkt_ = wkt.loads('POINT (2.482068 49.0327237)')\n",
    "    else :\n",
    "        wkt_ = wkt.loads(row['shape'])\n",
    "    return transform(project, wkt_) # on projette, pour avoir plus tard la longueur en mètres\n",
    "\n",
    "osm_lines['geom'] = osm_lines.apply(osm_shape_to_wkt, axis=1)\n",
    "osm_lines_geo = geopandas.GeoDataFrame(osm_lines, geometry=osm_lines.geom)\n"
   ]
  },
  {
   "cell_type": "code",
   "execution_count": 11,
   "metadata": {},
   "outputs": [],
   "source": [
    "#osm_lines_geo.plot()"
   ]
  },
  {
   "cell_type": "code",
   "execution_count": 12,
   "metadata": {},
   "outputs": [
    {
     "name": "stdout",
     "output_type": "stream",
     "text": [
      "Nombre de lignes avec tracé : 875\n"
     ]
    },
    {
     "data": {
      "text/plain": [
       "'Pourcentage de lignes OSM qui ont un tracé : 65.44502617801047'"
      ]
     },
     "execution_count": 12,
     "metadata": {},
     "output_type": "execute_result"
    }
   ],
   "source": [
    "osm_lines_geo['line_length'] = (osm_lines_geo.length ) /1000\n",
    "osm_lines_geo_ok = osm_lines_geo[osm_lines_geo['line_length'] >= 3].copy() #on supprime les trop petites lignes, qui doivent être incomplètes\n",
    "osm_lines_geo_ok[['line_id', 'name', 'network','osm:ref:FR:STIF:ExternalCode_Line', 'line_length']]\n",
    "\n",
    "print(\"Nombre de lignes avec tracé : {}\".format(len(osm_lines_geo_ok)))\n",
    "\n",
    "tt = len(osm_lines_geo_ok) * 100.0 / len(osm_lines_geo)\n",
    "\"Pourcentage de lignes OSM qui ont un tracé : {}\".format(tt)"
   ]
  },
  {
   "cell_type": "code",
   "execution_count": 13,
   "metadata": {},
   "outputs": [],
   "source": [
    "#osm_lines_geo_ok.groupby(['network'])['line_length'].sum()\n"
   ]
  },
  {
   "cell_type": "code",
   "execution_count": 14,
   "metadata": {},
   "outputs": [
    {
     "data": {
      "text/plain": [
       "26149.317138282866"
      ]
     },
     "execution_count": 14,
     "metadata": {},
     "output_type": "execute_result"
    }
   ],
   "source": [
    "osm_lines_geo_ok['line_length'].sum()"
   ]
  },
  {
   "cell_type": "code",
   "execution_count": 15,
   "metadata": {},
   "outputs": [
    {
     "data": {
      "text/plain": [
       "44616.0409130414"
      ]
     },
     "execution_count": 15,
     "metadata": {},
     "output_type": "execute_result"
    }
   ],
   "source": [
    "opendata_lines_geo['line_length'].sum()"
   ]
  },
  {
   "cell_type": "code",
   "execution_count": 16,
   "metadata": {},
   "outputs": [],
   "source": [
    "for c in opendata_lines_geo.columns:\n",
    "    new_col = \"opendata_\" + c\n",
    "    opendata_lines_geo.rename(columns={c: new_col}, inplace=True)\n",
    "for c in osm_lines_geo_ok.columns:\n",
    "    new_col = \"osm_\" + c\n",
    "    osm_lines_geo_ok.rename(columns={c: new_col}, inplace=True)"
   ]
  },
  {
   "cell_type": "code",
   "execution_count": 17,
   "metadata": {},
   "outputs": [],
   "source": [
    "lines_geo = opendata_lines_geo.merge(osm_lines_geo_ok, how='inner', right_on='osm_osm:ref:FR:STIF:ExternalCode_Line', left_on='opendata_ExternalCode_Line')\n",
    "#lines_geo[lines_geo['osm_network']=='Noctilien']"
   ]
  },
  {
   "cell_type": "code",
   "execution_count": 18,
   "metadata": {},
   "outputs": [],
   "source": [
    "networks_km = pd.DataFrame(lines_geo.groupby(['osm_network'])['osm_line_length', 'opendata_line_length'].sum()).reset_index()\n",
    "\n",
    "#networks_km"
   ]
  },
  {
   "cell_type": "code",
   "execution_count": 19,
   "metadata": {},
   "outputs": [
    {
     "data": {
      "text/plain": [
       "73"
      ]
     },
     "execution_count": 19,
     "metadata": {},
     "output_type": "execute_result"
    }
   ],
   "source": [
    "len(networks_km[networks_km['osm_line_length']>=networks_km['opendata_line_length']])\n",
    "## TODO : à creuser : j'ai plus de lignes où OSM a plus de km que l'opendata O_o \n",
    "# ou alors c'est parce qu'on a l'aller et le retour dans OSM et qu'un seul tracé simplifié dans l'opendata ?\n",
    "# à vérifier avec QGIS\n",
    "\n",
    "# c'est crédible\n",
    "# voir par exemple la boucle vers le Centre Commercial Claye\n",
    "#https://ref-lignes-stif.5apps.com/line.html?osm_relation=7728377"
   ]
  },
  {
   "cell_type": "code",
   "execution_count": 20,
   "metadata": {},
   "outputs": [
    {
     "data": {
      "text/html": [
       "<div>\n",
       "<style scoped>\n",
       "    .dataframe tbody tr th:only-of-type {\n",
       "        vertical-align: middle;\n",
       "    }\n",
       "\n",
       "    .dataframe tbody tr th {\n",
       "        vertical-align: top;\n",
       "    }\n",
       "\n",
       "    .dataframe thead th {\n",
       "        text-align: right;\n",
       "    }\n",
       "</style>\n",
       "<table border=\"1\" class=\"dataframe\">\n",
       "  <thead>\n",
       "    <tr style=\"text-align: right;\">\n",
       "      <th></th>\n",
       "      <th>osm_network</th>\n",
       "      <th>osm_line_length</th>\n",
       "      <th>opendata_line_length</th>\n",
       "    </tr>\n",
       "  </thead>\n",
       "  <tbody>\n",
       "    <tr>\n",
       "      <th>0</th>\n",
       "      <td>Albatrans</td>\n",
       "      <td>625.926925</td>\n",
       "      <td>290.154553</td>\n",
       "    </tr>\n",
       "    <tr>\n",
       "      <th>1</th>\n",
       "      <td>Apolo 7</td>\n",
       "      <td>205.981538</td>\n",
       "      <td>162.675704</td>\n",
       "    </tr>\n",
       "    <tr>\n",
       "      <th>3</th>\n",
       "      <td>Athis Cars</td>\n",
       "      <td>79.171622</td>\n",
       "      <td>65.979457</td>\n",
       "    </tr>\n",
       "    <tr>\n",
       "      <th>5</th>\n",
       "      <td>Autobus du Fort</td>\n",
       "      <td>18.342590</td>\n",
       "      <td>16.049367</td>\n",
       "    </tr>\n",
       "    <tr>\n",
       "      <th>7</th>\n",
       "      <td>BrieBus</td>\n",
       "      <td>16.516605</td>\n",
       "      <td>9.720349</td>\n",
       "    </tr>\n",
       "  </tbody>\n",
       "</table>\n",
       "</div>"
      ],
      "text/plain": [
       "       osm_network  osm_line_length  opendata_line_length\n",
       "0        Albatrans       625.926925            290.154553\n",
       "1          Apolo 7       205.981538            162.675704\n",
       "3       Athis Cars        79.171622             65.979457\n",
       "5  Autobus du Fort        18.342590             16.049367\n",
       "7          BrieBus        16.516605              9.720349"
      ]
     },
     "execution_count": 20,
     "metadata": {},
     "output_type": "execute_result"
    }
   ],
   "source": [
    "osm_better = networks_km[networks_km['osm_line_length']>=networks_km['opendata_line_length']]\n",
    "osm_better.head()"
   ]
  }
 ],
 "metadata": {
  "kernelspec": {
   "display_name": "Python 3",
   "language": "python",
   "name": "python3"
  },
  "language_info": {
   "codemirror_mode": {
    "name": "ipython",
    "version": 3
   },
   "file_extension": ".py",
   "mimetype": "text/x-python",
   "name": "python",
   "nbconvert_exporter": "python",
   "pygments_lexer": "ipython3",
   "version": "3.5.2"
  }
 },
 "nbformat": 4,
 "nbformat_minor": 2
}
