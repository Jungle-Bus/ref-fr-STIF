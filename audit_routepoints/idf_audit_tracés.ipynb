{
 "cells": [
  {
   "cell_type": "code",
   "execution_count": 1,
   "metadata": {},
   "outputs": [],
   "source": [
    "import pandas as pd\n",
    "import geopandas\n",
    "import json\n",
    "import os\n",
    "from shapely.geometry import Point\n",
    "import difflib\n",
    "from geopy.distance import vincenty\n",
    "import numpy as np\n",
    "import matplotlib as mpl\n",
    "import matplotlib.pyplot as plt\n",
    "\n",
    "%matplotlib inline\n",
    "inline_rc = dict(mpl.rcParams)"
   ]
  },
  {
   "cell_type": "code",
   "execution_count": 2,
   "metadata": {},
   "outputs": [],
   "source": [
    "#in_folder = \"audits/2018_07/data/\"\n",
    "out_folder = \"audits/2019_05/images/\"\n",
    "in_folder = \"../data/\"\n",
    "#out_folder = \"/tmp\""
   ]
  },
  {
   "cell_type": "markdown",
   "metadata": {},
   "source": [
    "Fichier des tracés:\n",
    "    https://opendata.stif.info/explore/dataset/bus_lignes/export/\n",
    "    \n",
    "Fichier pour faire la correspondance :\n",
    "    https://opendata.stif.info/explore/dataset/referentiel-des-lignes-stif/export/"
   ]
  },
  {
   "cell_type": "code",
   "execution_count": 3,
   "metadata": {},
   "outputs": [],
   "source": [
    "opendata_ref = pd.read_csv(\"ref_data/referentiel-des-lignes-stif.csv\",delimiter=\";\")\n",
    "#opendata_ref"
   ]
  },
  {
   "cell_type": "code",
   "execution_count": 4,
   "metadata": {},
   "outputs": [],
   "source": [
    "gtfs_lines = pd.read_csv(os.path.join(in_folder, \"gtfs_routes.txt\"), dtype=str)\n",
    "gtfs_lines = gtfs_lines[gtfs_lines['route_type'] == '3']"
   ]
  },
  {
   "cell_type": "code",
   "execution_count": 5,
   "metadata": {},
   "outputs": [],
   "source": [
    "opendata_tracks = pd.read_csv(\"ref_data/bus_lignes.csv\",delimiter=\";\")\n",
    "\n",
    "opendata_tracks.dropna(inplace=True)\n",
    "opendata_tracks.drop_duplicates('ID_GroupOfLines',inplace=True)\n",
    "\n",
    "opendata_tracks = opendata_tracks.merge(opendata_ref, how='inner', on='ID_GroupOfLines')\n",
    "\n",
    "opendata_tracks = opendata_tracks[['Geo Shape', 'ShortName_Line', 'TransportMode', 'NetworkName', 'ExternalCode_Line' ]]\n",
    "\n",
    "opendata_tracks = opendata_tracks[opendata_tracks['TransportMode']=='bus']\n",
    "#opendata_tracks.head()"
   ]
  },
  {
   "cell_type": "code",
   "execution_count": 6,
   "metadata": {},
   "outputs": [],
   "source": [
    "# on prépare les tracés pour analyse\n",
    "from functools import partial\n",
    "import pyproj\n",
    "from shapely import wkt\n",
    "from shapely.geometry import shape\n",
    "from shapely.ops import transform\n",
    "\n",
    "project = partial(\n",
    "    pyproj.transform,\n",
    "    pyproj.Proj(init='EPSG:4326'),\n",
    "    pyproj.Proj(init='EPSG:2154'))\n",
    "\n",
    "def geojson_to_wkt(row):\n",
    "    if pd.isna(row['Geo Shape']):\n",
    "        wkt_ = wkt.loads('POINT (2.482068 49.0327237)')\n",
    "    else :     \n",
    "        wkt_ = shape(json.loads(row['Geo Shape']))\n",
    "    return transform(project, wkt_) # on projette, pour avoir plus tard la longueur en mètres\n",
    "\n",
    "opendata_tracks['geom'] = opendata_tracks.apply(geojson_to_wkt, axis=1)\n",
    "opendata_lines_geo = geopandas.GeoDataFrame(opendata_tracks, geometry=opendata_tracks.geom)\n",
    "#opendata_lines_geo"
   ]
  },
  {
   "cell_type": "code",
   "execution_count": 7,
   "metadata": {},
   "outputs": [],
   "source": [
    "#opendata_lines_geo.plot()\n",
    "# TODO : graphique aussi sur OSM pour montrer qu'encore une fois, c'est en périphérie que ça manque"
   ]
  },
  {
   "cell_type": "code",
   "execution_count": 8,
   "metadata": {},
   "outputs": [
    {
     "name": "stdout",
     "output_type": "stream",
     "text": [
      "Nombre de lignes avec tracé : 1709\n"
     ]
    },
    {
     "data": {
      "text/plain": [
       "'Pourcentage de lignes qui ont un tracé : 89.24281984334203'"
      ]
     },
     "execution_count": 8,
     "metadata": {},
     "output_type": "execute_result"
    }
   ],
   "source": [
    "opendata_lines_geo['line_length'] = opendata_lines_geo.length/1000\n",
    "opendata_lines_geo[['line_length', 'ShortName_Line','NetworkName', 'TransportMode', 'ExternalCode_Line','geom' ]]\n",
    "\n",
    "print(\"Nombre de lignes avec tracé : {}\".format(len(opendata_lines_geo)))\n",
    "\n",
    "tt = len(opendata_lines_geo) * 100.0 / len(gtfs_lines)\n",
    "\"Pourcentage de lignes qui ont un tracé : {}\".format(tt)"
   ]
  },
  {
   "cell_type": "code",
   "execution_count": 9,
   "metadata": {},
   "outputs": [],
   "source": [
    "# TODO regarder les lignes GTFS sans tracés pour voir si on les a dans OSM ?"
   ]
  },
  {
   "cell_type": "markdown",
   "metadata": {},
   "source": [
    "## OSM"
   ]
  },
  {
   "cell_type": "code",
   "execution_count": 10,
   "metadata": {},
   "outputs": [],
   "source": [
    "osm_lines = pd.read_csv(os.path.join(in_folder, \"osm-transit-extractor_lines.csv\"), dtype=str)\n",
    "osm_lines = osm_lines[osm_lines['mode'] == 'bus']\n",
    "\n",
    "\n",
    "osm_lines = osm_lines[['line_id', 'name', 'osm:ref:FR:STIF:ExternalCode_Line','code', 'colour', 'operator', 'network','shape']].copy()\n",
    "#osm_lines.head()"
   ]
  },
  {
   "cell_type": "code",
   "execution_count": 11,
   "metadata": {},
   "outputs": [],
   "source": [
    "def osm_shape_to_wkt(row):\n",
    "    if pd.isna(row['shape']):\n",
    "        wkt_ = wkt.loads('POINT (2.482068 49.0327237)')\n",
    "    else :\n",
    "        wkt_ = wkt.loads(row['shape'])\n",
    "    return transform(project, wkt_) # on projette, pour avoir plus tard la longueur en mètres\n",
    "\n",
    "osm_lines['geom'] = osm_lines.apply(osm_shape_to_wkt, axis=1)\n",
    "osm_lines_geo = geopandas.GeoDataFrame(osm_lines, geometry=osm_lines.geom)\n"
   ]
  },
  {
   "cell_type": "code",
   "execution_count": 12,
   "metadata": {},
   "outputs": [],
   "source": [
    "#osm_lines_geo.plot()"
   ]
  },
  {
   "cell_type": "code",
   "execution_count": 13,
   "metadata": {},
   "outputs": [
    {
     "name": "stdout",
     "output_type": "stream",
     "text": [
      "Nombre de lignes avec tracé : 905\n"
     ]
    },
    {
     "data": {
      "text/plain": [
       "\"Pourcentage des lignes d'OSM qui ont un tracé : 67.73952095808383\""
      ]
     },
     "execution_count": 13,
     "metadata": {},
     "output_type": "execute_result"
    }
   ],
   "source": [
    "osm_lines_geo['line_length'] = (osm_lines_geo.length ) /1000\n",
    "osm_lines_geo_ok = osm_lines_geo[osm_lines_geo['line_length'] >= 0.2].copy() \n",
    "osm_lines_geo_ok[['line_id', 'name', 'network','osm:ref:FR:STIF:ExternalCode_Line', 'line_length']]\n",
    "\n",
    "print(\"Nombre de lignes avec tracé : {}\".format(len(osm_lines_geo_ok)))\n",
    "\n",
    "tt = len(osm_lines_geo_ok) * 100.0 / len(osm_lines_geo)\n",
    "\"Pourcentage des lignes d'OSM qui ont un tracé : {}\".format(tt)"
   ]
  },
  {
   "cell_type": "code",
   "execution_count": 14,
   "metadata": {
    "scrolled": false
   },
   "outputs": [
    {
     "name": "stderr",
     "output_type": "stream",
     "text": [
      "/home/pclf/.local/share/virtualenvs/audit_routepoints-xp16w_6c/lib/python3.5/site-packages/matplotlib/__init__.py:855: MatplotlibDeprecationWarning: \n",
      "examples.directory is deprecated; in the future, examples will be found relative to the 'datapath' directory.\n",
      "  \"found relative to the 'datapath' directory.\".format(key))\n",
      "/home/pclf/.local/share/virtualenvs/audit_routepoints-xp16w_6c/lib/python3.5/site-packages/matplotlib/__init__.py:846: MatplotlibDeprecationWarning: \n",
      "The text.latex.unicode rcparam was deprecated in Matplotlib 2.2 and will be removed in 3.1.\n",
      "  \"2.2\", name=key, obj_type=\"rcparam\", addendum=addendum)\n"
     ]
    },
    {
     "data": {
      "image/png": "[encoded data removed]",
      "text/plain": [
       "<Figure size 1440x576 with 2 Axes>"
      ]
     },
     "metadata": {
      "needs_background": "light"
     },
     "output_type": "display_data"
    }
   ],
   "source": [
    "mpl.rcParams.update(inline_rc) # reset du style \n",
    "\n",
    "width = 0.5\n",
    "ind = np.arange(1)\n",
    "\n",
    "#fig, ax = plt.subplots(figsize=(6, 8))\n",
    "fig = plt.figure(figsize=(20, 8))\n",
    "ax = fig.add_subplot(121)\n",
    "\n",
    "ax.bar(ind , [len(opendata_lines_geo)],width/4,  color='SkyBlue', label='tracés opendata')\n",
    "ax.bar(ind + width/4, [len(osm_lines_geo_ok)], width/4, color='IndianRed', label='tracés OSM')\n",
    "ax.plot([ind - width/8, ind + width/4, ind + width], [len(gtfs_lines),len(gtfs_lines),len(gtfs_lines) ], label=\"GTFS\")\n",
    "ax.set_xticks(ind)\n",
    "ax.set_title('Nombre de lignes avec tracés', \n",
    "             fontname='Ubuntu', fontsize=16,\n",
    "             fontstyle='normal', fontweight='normal')\n",
    "ax.set_ylabel('Nombre de lignes', fontsize=16)\n",
    "ax.legend()\n",
    "ax.legend(loc=\"lower right\")\n",
    "\n",
    "ax = fig.add_subplot(122)\n",
    "ax.bar(ind , [opendata_lines_geo['line_length'].sum()],width/4,  color='SkyBlue', label='opendata')\n",
    "ax.bar(ind + width/4, [osm_lines_geo_ok['line_length'].sum()], width/4, color='IndianRed', label='OSM')\n",
    "ax.plot([ind - width/8, ind + width/4, ind + width], [45000,45000,45000], color=\"white\")\n",
    "\n",
    "ax.set_xticks(ind)\n",
    "ax.set_title('Nombre de kilomètres de tracés', \n",
    "             fontname='Ubuntu', fontsize=16,\n",
    "             fontstyle='normal', fontweight='normal')\n",
    "ax.set_ylabel('Nombre de km', fontsize=16)\n",
    "ax.legend()\n",
    "ax.legend(loc=\"lower right\")\n",
    "\n",
    "plt.savefig(os.path.join(out_folder,'20_traces_de_lignes.png'), bbox_inches='tight')"
   ]
  },
  {
   "cell_type": "code",
   "execution_count": 15,
   "metadata": {},
   "outputs": [
    {
     "name": "stdout",
     "output_type": "stream",
     "text": [
      "Nb de km de lignes dans l'opendata: 44616.0409130414\n",
      "Nb de km de lignes dans OSM: 26290.434320460015\n"
     ]
    }
   ],
   "source": [
    "tt = opendata_lines_geo['line_length'].sum()\n",
    "print(\"Nb de km de lignes dans l'opendata: {}\".format(tt))\n",
    "\n",
    "tt = osm_lines_geo_ok['line_length'].sum()\n",
    "print(\"Nb de km de lignes dans OSM: {}\".format(tt))"
   ]
  },
  {
   "cell_type": "code",
   "execution_count": 16,
   "metadata": {},
   "outputs": [],
   "source": [
    "#osm_lines_geo_ok.groupby(['network'])['line_length'].sum()"
   ]
  },
  {
   "cell_type": "markdown",
   "metadata": {},
   "source": [
    "# On fusionne pour faire des comparaisons"
   ]
  },
  {
   "cell_type": "code",
   "execution_count": 17,
   "metadata": {},
   "outputs": [],
   "source": [
    "for c in opendata_lines_geo.columns:\n",
    "    new_col = \"opendata_\" + c\n",
    "    opendata_lines_geo.rename(columns={c: new_col}, inplace=True)\n",
    "for c in osm_lines_geo_ok.columns:\n",
    "    new_col = \"osm_\" + c\n",
    "    osm_lines_geo_ok.rename(columns={c: new_col}, inplace=True)"
   ]
  },
  {
   "cell_type": "code",
   "execution_count": 18,
   "metadata": {},
   "outputs": [
    {
     "data": {
      "text/html": [
       "<div>\n",
       "<style scoped>\n",
       "    .dataframe tbody tr th:only-of-type {\n",
       "        vertical-align: middle;\n",
       "    }\n",
       "\n",
       "    .dataframe tbody tr th {\n",
       "        vertical-align: top;\n",
       "    }\n",
       "\n",
       "    .dataframe thead th {\n",
       "        text-align: right;\n",
       "    }\n",
       "</style>\n",
       "<table border=\"1\" class=\"dataframe\">\n",
       "  <thead>\n",
       "    <tr style=\"text-align: right;\">\n",
       "      <th></th>\n",
       "      <th>opendata_line_length</th>\n",
       "      <th>osm_line_length</th>\n",
       "      <th>osm_code</th>\n",
       "    </tr>\n",
       "  </thead>\n",
       "  <tbody>\n",
       "    <tr>\n",
       "      <th>167</th>\n",
       "      <td>92.681376</td>\n",
       "      <td>125.225597</td>\n",
       "      <td>202</td>\n",
       "    </tr>\n",
       "    <tr>\n",
       "      <th>178</th>\n",
       "      <td>13.754221</td>\n",
       "      <td>20.199307</td>\n",
       "      <td>203</td>\n",
       "    </tr>\n",
       "    <tr>\n",
       "      <th>222</th>\n",
       "      <td>47.532029</td>\n",
       "      <td>116.692044</td>\n",
       "      <td>210</td>\n",
       "    </tr>\n",
       "    <tr>\n",
       "      <th>225</th>\n",
       "      <td>12.630659</td>\n",
       "      <td>24.162391</td>\n",
       "      <td>204</td>\n",
       "    </tr>\n",
       "    <tr>\n",
       "      <th>226</th>\n",
       "      <td>38.560935</td>\n",
       "      <td>54.653729</td>\n",
       "      <td>208</td>\n",
       "    </tr>\n",
       "    <tr>\n",
       "      <th>354</th>\n",
       "      <td>16.124264</td>\n",
       "      <td>36.348489</td>\n",
       "      <td>209</td>\n",
       "    </tr>\n",
       "    <tr>\n",
       "      <th>416</th>\n",
       "      <td>19.747222</td>\n",
       "      <td>35.764831</td>\n",
       "      <td>201</td>\n",
       "    </tr>\n",
       "    <tr>\n",
       "      <th>639</th>\n",
       "      <td>3.269919</td>\n",
       "      <td>7.612733</td>\n",
       "      <td>205</td>\n",
       "    </tr>\n",
       "    <tr>\n",
       "      <th>769</th>\n",
       "      <td>41.219416</td>\n",
       "      <td>76.461909</td>\n",
       "      <td>206</td>\n",
       "    </tr>\n",
       "  </tbody>\n",
       "</table>\n",
       "</div>"
      ],
      "text/plain": [
       "     opendata_line_length  osm_line_length osm_code\n",
       "167             92.681376       125.225597      202\n",
       "178             13.754221        20.199307      203\n",
       "222             47.532029       116.692044      210\n",
       "225             12.630659        24.162391      204\n",
       "226             38.560935        54.653729      208\n",
       "354             16.124264        36.348489      209\n",
       "416             19.747222        35.764831      201\n",
       "639              3.269919         7.612733      205\n",
       "769             41.219416        76.461909      206"
      ]
     },
     "execution_count": 18,
     "metadata": {},
     "output_type": "execute_result"
    }
   ],
   "source": [
    "lines_geo = opendata_lines_geo.merge(osm_lines_geo_ok, how='inner', right_on='osm_osm:ref:FR:STIF:ExternalCode_Line', left_on='opendata_ExternalCode_Line')\n",
    "lines_geo[lines_geo['osm_network']=='Comète'][[\"opendata_line_length\", \"osm_line_length\", \"osm_code\"]]"
   ]
  },
  {
   "cell_type": "code",
   "execution_count": 19,
   "metadata": {},
   "outputs": [],
   "source": [
    "networks_km = pd.DataFrame(lines_geo.groupby(['osm_network'])['osm_line_length', 'opendata_line_length'].sum()).reset_index()\n",
    "\n",
    "#networks_km"
   ]
  },
  {
   "cell_type": "code",
   "execution_count": 20,
   "metadata": {},
   "outputs": [
    {
     "data": {
      "text/plain": [
       "69"
      ]
     },
     "execution_count": 20,
     "metadata": {},
     "output_type": "execute_result"
    }
   ],
   "source": [
    "len(networks_km[networks_km['osm_line_length']>=networks_km['opendata_line_length']])\n",
    "## TODO : à creuser : j'ai plus de lignes où OSM a plus de km que l'opendata O_o \n",
    "# ou alors c'est parce qu'on a l'aller et le retour dans OSM et qu'un seul tracé simplifié dans l'opendata ?\n",
    "# à vérifier avec QGIS\n",
    "\n",
    "# c'est crédible\n",
    "# voir par exemple la boucle vers le Centre Commercial Claye\n",
    "#https://ref-lignes-stif.5apps.com/line.html?osm_relation=7728377"
   ]
  },
  {
   "cell_type": "code",
   "execution_count": 21,
   "metadata": {},
   "outputs": [
    {
     "data": {
      "text/html": [
       "<div>\n",
       "<style scoped>\n",
       "    .dataframe tbody tr th:only-of-type {\n",
       "        vertical-align: middle;\n",
       "    }\n",
       "\n",
       "    .dataframe tbody tr th {\n",
       "        vertical-align: top;\n",
       "    }\n",
       "\n",
       "    .dataframe thead th {\n",
       "        text-align: right;\n",
       "    }\n",
       "</style>\n",
       "<table border=\"1\" class=\"dataframe\">\n",
       "  <thead>\n",
       "    <tr style=\"text-align: right;\">\n",
       "      <th></th>\n",
       "      <th>osm_network</th>\n",
       "      <th>osm_line_length</th>\n",
       "      <th>opendata_line_length</th>\n",
       "    </tr>\n",
       "  </thead>\n",
       "  <tbody>\n",
       "    <tr>\n",
       "      <th>0</th>\n",
       "      <td>Albatrans</td>\n",
       "      <td>626.656862</td>\n",
       "      <td>316.375122</td>\n",
       "    </tr>\n",
       "    <tr>\n",
       "      <th>1</th>\n",
       "      <td>Apolo 7</td>\n",
       "      <td>205.981538</td>\n",
       "      <td>162.675704</td>\n",
       "    </tr>\n",
       "    <tr>\n",
       "      <th>3</th>\n",
       "      <td>Athis Cars</td>\n",
       "      <td>79.299673</td>\n",
       "      <td>65.979457</td>\n",
       "    </tr>\n",
       "    <tr>\n",
       "      <th>5</th>\n",
       "      <td>Autobus du Fort</td>\n",
       "      <td>18.342590</td>\n",
       "      <td>16.049367</td>\n",
       "    </tr>\n",
       "    <tr>\n",
       "      <th>7</th>\n",
       "      <td>BrieBus</td>\n",
       "      <td>16.516605</td>\n",
       "      <td>9.720349</td>\n",
       "    </tr>\n",
       "  </tbody>\n",
       "</table>\n",
       "</div>"
      ],
      "text/plain": [
       "       osm_network  osm_line_length  opendata_line_length\n",
       "0        Albatrans       626.656862            316.375122\n",
       "1          Apolo 7       205.981538            162.675704\n",
       "3       Athis Cars        79.299673             65.979457\n",
       "5  Autobus du Fort        18.342590             16.049367\n",
       "7          BrieBus        16.516605              9.720349"
      ]
     },
     "execution_count": 21,
     "metadata": {},
     "output_type": "execute_result"
    }
   ],
   "source": [
    "osm_better = networks_km[networks_km['osm_line_length']>=networks_km['opendata_line_length']]\n",
    "osm_better.head()"
   ]
  }
 ],
 "metadata": {
  "kernelspec": {
   "display_name": "Python 3",
   "language": "python",
   "name": "python3"
  },
  "language_info": {
   "codemirror_mode": {
    "name": "ipython",
    "version": 3
   },
   "file_extension": ".py",
   "mimetype": "text/x-python",
   "name": "python",
   "nbconvert_exporter": "python",
   "pygments_lexer": "ipython3",
   "version": "3.5.2"
  }
 },
 "nbformat": 4,
 "nbformat_minor": 2
}
