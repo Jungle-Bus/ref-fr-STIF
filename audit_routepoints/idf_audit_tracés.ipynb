{
 "cells": [
  {
   "cell_type": "code",
   "execution_count": 1,
   "metadata": {},
   "outputs": [],
   "source": [
    "import pandas as pd\n",
    "import geopandas\n",
    "import json\n",
    "import os\n",
    "from shapely.geometry import Point\n",
    "import difflib\n",
    "from geopy.distance import vincenty\n",
    "import numpy as np\n",
    "import matplotlib as mpl\n",
    "import matplotlib.pyplot as plt\n",
    "\n",
    "%matplotlib inline\n",
    "inline_rc = dict(mpl.rcParams)"
   ]
  },
  {
   "cell_type": "code",
   "execution_count": 2,
   "metadata": {},
   "outputs": [],
   "source": [
    "#in_folder = \"audits/2018_07/data/\"\n",
    "out_folder = \"audits/2019_05/images/\"\n",
    "in_folder = \"../data/\"\n",
    "#out_folder = \"/tmp\""
   ]
  },
  {
   "cell_type": "markdown",
   "metadata": {},
   "source": [
    "Fichier des tracés:\n",
    "    https://opendata.stif.info/explore/dataset/bus_lignes/export/\n",
    "    \n",
    "Fichier pour faire la correspondance :\n",
    "    https://opendata.stif.info/explore/dataset/referentiel-des-lignes-stif/export/"
   ]
  },
  {
   "cell_type": "code",
   "execution_count": 3,
   "metadata": {},
   "outputs": [],
   "source": [
    "opendata_ref = pd.read_csv(\"ref_data/referentiel-des-lignes-stif.csv\",delimiter=\";\")\n",
    "#opendata_ref"
   ]
  },
  {
   "cell_type": "code",
   "execution_count": 4,
   "metadata": {},
   "outputs": [],
   "source": [
    "gtfs_lines = pd.read_csv(os.path.join(in_folder, \"gtfs_routes.txt\"), dtype=str)\n",
    "gtfs_lines = gtfs_lines[gtfs_lines['route_type'] == '3']"
   ]
  },
  {
   "cell_type": "code",
   "execution_count": 5,
   "metadata": {},
   "outputs": [],
   "source": [
    "opendata_tracks = pd.read_csv(\"ref_data/bus_lignes.csv\",delimiter=\";\")\n",
    "\n",
    "opendata_tracks.dropna(inplace=True)\n",
    "opendata_tracks.drop_duplicates('ID_GroupOfLines',inplace=True)\n",
    "\n",
    "opendata_tracks = opendata_tracks.merge(opendata_ref, how='inner', on='ID_GroupOfLines')\n",
    "\n",
    "opendata_tracks = opendata_tracks[['Geo Shape', 'ShortName_Line', 'TransportMode', 'NetworkName', 'ExternalCode_Line' ]]\n",
    "\n",
    "opendata_tracks = opendata_tracks[opendata_tracks['TransportMode']=='bus']\n",
    "#opendata_tracks.head()"
   ]
  },
  {
   "cell_type": "code",
   "execution_count": 6,
   "metadata": {},
   "outputs": [],
   "source": [
    "# on prépare les tracés pour analyse\n",
    "from functools import partial\n",
    "import pyproj\n",
    "from shapely import wkt\n",
    "from shapely.geometry import shape\n",
    "from shapely.ops import transform\n",
    "\n",
    "project = partial(\n",
    "    pyproj.transform,\n",
    "    pyproj.Proj(init='EPSG:4326'),\n",
    "    pyproj.Proj(init='EPSG:2154'))\n",
    "\n",
    "def geojson_to_wkt(row):\n",
    "    if pd.isna(row['Geo Shape']):\n",
    "        wkt_ = wkt.loads('POINT (2.482068 49.0327237)')\n",
    "    else :     \n",
    "        wkt_ = shape(json.loads(row['Geo Shape']))\n",
    "    return transform(project, wkt_) # on projette, pour avoir plus tard la longueur en mètres\n",
    "\n",
    "opendata_tracks['geom'] = opendata_tracks.apply(geojson_to_wkt, axis=1)\n",
    "opendata_lines_geo = geopandas.GeoDataFrame(opendata_tracks, geometry=opendata_tracks.geom)\n",
    "#opendata_lines_geo"
   ]
  },
  {
   "cell_type": "code",
   "execution_count": 7,
   "metadata": {},
   "outputs": [],
   "source": [
    "#opendata_lines_geo.plot()"
   ]
  },
  {
   "cell_type": "code",
   "execution_count": 8,
   "metadata": {},
   "outputs": [
    {
     "name": "stdout",
     "output_type": "stream",
     "text": [
      "Nombre de lignes avec tracé : 1709\n"
     ]
    },
    {
     "data": {
      "text/plain": [
       "'Pourcentage de lignes qui ont un tracé : 90.51906779661017'"
      ]
     },
     "execution_count": 8,
     "metadata": {},
     "output_type": "execute_result"
    }
   ],
   "source": [
    "opendata_lines_geo['line_length'] = opendata_lines_geo.length/1000\n",
    "opendata_lines_geo[['line_length', 'ShortName_Line','NetworkName', 'TransportMode', 'ExternalCode_Line','geom' ]]\n",
    "\n",
    "print(\"Nombre de lignes avec tracé : {}\".format(len(opendata_lines_geo)))\n",
    "\n",
    "tt = len(opendata_lines_geo) * 100.0 / len(gtfs_lines)\n",
    "\"Pourcentage de lignes qui ont un tracé : {}\".format(tt)"
   ]
  },
  {
   "cell_type": "markdown",
   "metadata": {},
   "source": [
    "## OSM"
   ]
  },
  {
   "cell_type": "code",
   "execution_count": 9,
   "metadata": {},
   "outputs": [],
   "source": [
    "osm_lines = pd.read_csv(os.path.join(in_folder, \"osm-transit-extractor_lines.csv\"), dtype=str)\n",
    "osm_lines = osm_lines[osm_lines['mode'] == 'bus']\n",
    "\n",
    "\n",
    "osm_lines = osm_lines[['line_id', 'name', 'osm:ref:FR:STIF:ExternalCode_Line','code', 'colour', 'operator', 'network','shape']].copy()\n",
    "#osm_lines.head()"
   ]
  },
  {
   "cell_type": "code",
   "execution_count": 10,
   "metadata": {},
   "outputs": [],
   "source": [
    "def osm_shape_to_wkt(row):\n",
    "    if pd.isna(row['shape']):\n",
    "        wkt_ = wkt.loads('POINT (2.482068 49.0327237)')\n",
    "    else :\n",
    "        wkt_ = wkt.loads(row['shape'])\n",
    "    return transform(project, wkt_) # on projette, pour avoir plus tard la longueur en mètres\n",
    "\n",
    "osm_lines['geom'] = osm_lines.apply(osm_shape_to_wkt, axis=1)\n",
    "osm_lines_geo = geopandas.GeoDataFrame(osm_lines, geometry=osm_lines.geom)\n"
   ]
  },
  {
   "cell_type": "code",
   "execution_count": 11,
   "metadata": {},
   "outputs": [],
   "source": [
    "#osm_lines_geo.plot()"
   ]
  },
  {
   "cell_type": "code",
   "execution_count": 12,
   "metadata": {},
   "outputs": [
    {
     "name": "stdout",
     "output_type": "stream",
     "text": [
      "Nombre de lignes avec tracé : 905\n"
     ]
    },
    {
     "data": {
      "text/plain": [
       "\"Pourcentage des lignes d'OSM qui ont un tracé : 67.73952095808383\""
      ]
     },
     "execution_count": 12,
     "metadata": {},
     "output_type": "execute_result"
    }
   ],
   "source": [
    "osm_lines_geo['line_length'] = (osm_lines_geo.length ) /1000\n",
    "osm_lines_geo_ok = osm_lines_geo[osm_lines_geo['line_length'] >= 0.2].copy() \n",
    "osm_lines_geo_ok[['line_id', 'name', 'network','osm:ref:FR:STIF:ExternalCode_Line', 'line_length']]\n",
    "\n",
    "print(\"Nombre de lignes avec tracé : {}\".format(len(osm_lines_geo_ok)))\n",
    "\n",
    "tt = len(osm_lines_geo_ok) * 100.0 / len(osm_lines_geo)\n",
    "\"Pourcentage des lignes d'OSM qui ont un tracé : {}\".format(tt)"
   ]
  },
  {
   "cell_type": "code",
   "execution_count": 13,
   "metadata": {
    "scrolled": false
   },
   "outputs": [
    {
     "name": "stderr",
     "output_type": "stream",
     "text": [
      "/home/pclf/.local/share/virtualenvs/audit_routepoints-xp16w_6c/lib/python3.5/site-packages/matplotlib/__init__.py:855: MatplotlibDeprecationWarning: \n",
      "examples.directory is deprecated; in the future, examples will be found relative to the 'datapath' directory.\n",
      "  \"found relative to the 'datapath' directory.\".format(key))\n",
      "/home/pclf/.local/share/virtualenvs/audit_routepoints-xp16w_6c/lib/python3.5/site-packages/matplotlib/__init__.py:846: MatplotlibDeprecationWarning: \n",
      "The text.latex.unicode rcparam was deprecated in Matplotlib 2.2 and will be removed in 3.1.\n",
      "  \"2.2\", name=key, obj_type=\"rcparam\", addendum=addendum)\n"
     ]
    },
    {
     "data": {
      "image/png": "[encoded data removed]",
      "text/plain": [
       "<Figure size 1440x576 with 2 Axes>"
      ]
     },
     "metadata": {
      "needs_background": "light"
     },
     "output_type": "display_data"
    }
   ],
   "source": [
    "mpl.rcParams.update(inline_rc) # reset du style \n",
    "\n",
    "width = 0.5\n",
    "ind = np.arange(1)\n",
    "\n",
    "#fig, ax = plt.subplots(figsize=(6, 8))\n",
    "fig = plt.figure(figsize=(20, 8))\n",
    "ax = fig.add_subplot(121)\n",
    "\n",
    "ax.bar(ind , [len(opendata_lines_geo)],width/4,  color='SkyBlue', label='tracés opendata')\n",
    "ax.bar(ind + width/4, [len(osm_lines_geo_ok)], width/4, color='IndianRed', label='tracés OSM')\n",
    "ax.plot([ind - width/8, ind + width/4, ind + width], [len(gtfs_lines),len(gtfs_lines),len(gtfs_lines) ], label=\"GTFS\")\n",
    "ax.set_xticks(ind)\n",
    "ax.set_title('Nombre de lignes avec tracés', \n",
    "             fontname='Ubuntu', fontsize=16,\n",
    "             fontstyle='normal', fontweight='normal')\n",
    "ax.set_ylabel('Nombre de lignes', fontsize=16)\n",
    "ax.legend()\n",
    "ax.legend(loc=\"lower right\")\n",
    "\n",
    "ax = fig.add_subplot(122)\n",
    "ax.bar(ind , [opendata_lines_geo['line_length'].sum()],width/4,  color='SkyBlue', label='opendata')\n",
    "ax.bar(ind + width/4, [osm_lines_geo_ok['line_length'].sum()], width/4, color='IndianRed', label='OSM')\n",
    "ax.plot([ind - width/8, ind + width/4, ind + width], [45000,45000,45000], color=\"white\")\n",
    "\n",
    "ax.set_xticks(ind)\n",
    "ax.set_title('Nombre de kilomètres de tracés', \n",
    "             fontname='Ubuntu', fontsize=16,\n",
    "             fontstyle='normal', fontweight='normal')\n",
    "ax.set_ylabel('Nombre de km', fontsize=16)\n",
    "ax.legend()\n",
    "ax.legend(loc=\"lower right\")\n",
    "\n",
    "plt.savefig(os.path.join(out_folder,'20_traces_de_lignes.png'), bbox_inches='tight')"
   ]
  },
  {
   "cell_type": "code",
   "execution_count": 14,
   "metadata": {},
   "outputs": [
    {
     "name": "stdout",
     "output_type": "stream",
     "text": [
      "Nb de km de lignes dans l'opendata: 44616.0409130414\n",
      "Nb de km de lignes dans OSM: 26348.37239194532\n"
     ]
    }
   ],
   "source": [
    "tt = opendata_lines_geo['line_length'].sum()\n",
    "print(\"Nb de km de lignes dans l'opendata: {}\".format(tt))\n",
    "\n",
    "tt = osm_lines_geo_ok['line_length'].sum()\n",
    "print(\"Nb de km de lignes dans OSM: {}\".format(tt))"
   ]
  },
  {
   "cell_type": "markdown",
   "metadata": {},
   "source": [
    "# On fusionne pour faire des comparaisons"
   ]
  },
  {
   "cell_type": "code",
   "execution_count": 15,
   "metadata": {},
   "outputs": [],
   "source": [
    "for c in opendata_lines_geo.columns:\n",
    "    new_col = \"opendata_\" + c\n",
    "    opendata_lines_geo.rename(columns={c: new_col}, inplace=True)\n",
    "for c in osm_lines_geo_ok.columns:\n",
    "    new_col = \"osm_\" + c\n",
    "    osm_lines_geo_ok.rename(columns={c: new_col}, inplace=True)"
   ]
  },
  {
   "cell_type": "code",
   "execution_count": 16,
   "metadata": {},
   "outputs": [
    {
     "name": "stdout",
     "output_type": "stream",
     "text": [
      "Pourcentage de lignes comparées : 43.75\n"
     ]
    }
   ],
   "source": [
    "lines_geo = opendata_lines_geo.merge(osm_lines_geo_ok, how='inner', right_on='osm_osm:ref:FR:STIF:ExternalCode_Line', left_on='opendata_ExternalCode_Line')\n",
    "#lines_geo[lines_geo['osm_network']=='Comète'][[\"opendata_line_length\", \"osm_line_length\", \"osm_code\"]]\n",
    "tt = len(lines_geo) * 100.0 / len(gtfs_lines)\n",
    "print(\"Pourcentage de lignes comparées : {}\".format(tt))\n"
   ]
  },
  {
   "cell_type": "code",
   "execution_count": 17,
   "metadata": {},
   "outputs": [],
   "source": [
    "networks_km = pd.DataFrame(lines_geo.groupby(['opendata_NetworkName'])['osm_line_length', 'opendata_line_length'].sum()).reset_index()\n",
    "\n",
    "networks_km['diff'] = networks_km['opendata_line_length'] - networks_km['osm_line_length']\n",
    "#networks_km[['diff']].hist()"
   ]
  },
  {
   "cell_type": "code",
   "execution_count": 18,
   "metadata": {},
   "outputs": [
    {
     "data": {
      "image/png": "[encoded data removed]",
      "text/plain": [
       "<Figure size 432x288 with 1 Axes>"
      ]
     },
     "metadata": {},
     "output_type": "display_data"
    }
   ],
   "source": [
    "limit_km = 10\n",
    "opendata_longuer_than_osm = networks_km[networks_km['diff']>limit_km]\n",
    "osm_longuer_than_opendata = networks_km[networks_km['diff']<-limit_km]\n",
    "opendata_equals_osm = networks_km[(networks_km[\"diff\"] <= limit_km) & (networks_km[\"diff\"] >= -limit_km)]\n",
    "\n",
    "portion_osm_longuer = len(osm_longuer_than_opendata)/len(networks_km) * 100\n",
    "portion_od_longuer = len(opendata_longuer_than_osm)/len(networks_km) * 100\n",
    "portion_equals = len(opendata_equals_osm)/len(networks_km) * 100\n",
    "sizes = [portion_osm_longuer, portion_od_longuer, portion_equals]\n",
    "labels = 'Plus de km dans OSM', 'Plus de km dans l\\'open data officiel', 'Même nombre de km'\n",
    "\n",
    "explode = (0.2, 0.1, 0)  \n",
    "\n",
    "fig1, ax1 = plt.subplots()\n",
    "ax1.set_title('Nombre de km de tracé par réseau dans les deux sources (à 10 km près)')\n",
    "ax1.pie(sizes, explode=explode, \n",
    "        labels=labels, \n",
    "        autopct='%1.1f%%',\n",
    "        shadow=True, startangle=90)\n",
    "ax1.axis('equal') \n",
    "\n",
    "plt.savefig(os.path.join(out_folder, '21_km_lines_by_network_pie.png'), bbox_inches='tight')"
   ]
  },
  {
   "cell_type": "code",
   "execution_count": 19,
   "metadata": {},
   "outputs": [],
   "source": [
    "#osm_longuer_than_opendata.head()"
   ]
  },
  {
   "cell_type": "markdown",
   "metadata": {},
   "source": [
    "est-ce qu'il y a des lignes dans OSM qu'on n'a pas dans l'open data ?"
   ]
  },
  {
   "cell_type": "code",
   "execution_count": 20,
   "metadata": {},
   "outputs": [
    {
     "name": "stdout",
     "output_type": "stream",
     "text": [
      "50 lignes avec tracés et code STIF de ligne qu'on ne retrouve pas dans le jeu open data\n"
     ]
    },
    {
     "data": {
      "text/plain": [
       "osm_network\n",
       "ADP                                  2\n",
       "Apolo 7                              1\n",
       "Autocars Dominique                   1\n",
       "CEAT Nord Hurepoix                   2\n",
       "Cars Rose                            1\n",
       "Chavilbus                            3\n",
       "Keolis Mobilité Roissy               1\n",
       "Les Courriers de l'Île-de-France     3\n",
       "Mobilien                             1\n",
       "Orgebus                              2\n",
       "Paris-Saclay                         4\n",
       "Phébus                               2\n",
       "Plaine de Versailles                 1\n",
       "RATP                                19\n",
       "STIVO                                1\n",
       "TICE                                 1\n",
       "Traverciel                           1\n",
       "Valouette                            4\n",
       "Name: osm_line_length, dtype: int64"
      ]
     },
     "execution_count": 20,
     "metadata": {},
     "output_type": "execute_result"
    }
   ],
   "source": [
    "lines_geo_byosm = opendata_lines_geo.merge(osm_lines_geo_ok, how='right', right_on='osm_osm:ref:FR:STIF:ExternalCode_Line', left_on='opendata_ExternalCode_Line')\n",
    "lines_geo_byosm_alone = lines_geo_byosm[lines_geo_byosm['opendata_ShortName_Line'].isnull()]\n",
    "lines_in_osm_but_not_in_opendata = lines_geo_byosm_alone[lines_geo_byosm_alone['osm_osm:ref:FR:STIF:ExternalCode_Line'].notnull()]\n",
    "print(\"{} lignes avec tracés et code STIF de ligne qu'on ne retrouve pas dans le jeu open data\".format(len(lines_in_osm_but_not_in_opendata)))\n",
    "lines_in_osm_but_not_in_opendata.groupby(['osm_network'])['osm_line_length'].count()\n",
    "#lines_in_osm_but_not_in_opendata[lines_in_osm_but_not_in_opendata['osm_network']==\"RATP\"]"
   ]
  }
 ],
 "metadata": {
  "kernelspec": {
   "display_name": "Python 3",
   "language": "python",
   "name": "python3"
  },
  "language_info": {
   "codemirror_mode": {
    "name": "ipython",
    "version": 3
   },
   "file_extension": ".py",
   "mimetype": "text/x-python",
   "name": "python",
   "nbconvert_exporter": "python",
   "pygments_lexer": "ipython3",
   "version": "3.5.2"
  }
 },
 "nbformat": 4,
 "nbformat_minor": 2
}
